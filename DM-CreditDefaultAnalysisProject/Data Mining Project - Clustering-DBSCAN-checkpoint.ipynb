{
 "cells": [
  {
   "cell_type": "markdown",
   "metadata": {},
   "source": [
    "# Data Understanding"
   ]
  },
  {
   "cell_type": "code",
   "execution_count": 1,
   "metadata": {},
   "outputs": [],
   "source": [
    "%matplotlib inline\n",
    "import math\n",
    "import numpy as np\n",
    "import pandas as pd\n",
    "import scipy.stats as stats\n",
    "import matplotlib.pyplot as plt\n",
    "from math import pi\n",
    "import seaborn as sns"
   ]
  },
  {
   "cell_type": "code",
   "execution_count": 2,
   "metadata": {},
   "outputs": [],
   "source": [
    "# Load the data\n",
    "\n",
    "df = pd.read_csv('files/credit_default_train.csv')"
   ]
  },
  {
   "cell_type": "code",
   "execution_count": 3,
   "metadata": {},
   "outputs": [],
   "source": [
    "#Changing all values of male and female to 1 and 0\n",
    "df.loc[(df.sex == \"male\"), 'sex'] = 1\n",
    "df.loc[(df.sex == \"female\"), 'sex'] = 0"
   ]
  },
  {
   "cell_type": "code",
   "execution_count": 4,
   "metadata": {},
   "outputs": [],
   "source": [
    "#Changing all values of education to numeric values.\n",
    "df.loc[(df.education == \"others\"), 'education'] = 0\n",
    "df.loc[(df.education == \"high school\"), 'education'] = 1\n",
    "df.loc[(df.education == \"university\"), 'education'] = 2\n",
    "df.loc[(df.education == \"graduate school\"), 'education'] = 3"
   ]
  },
  {
   "cell_type": "code",
   "execution_count": 5,
   "metadata": {},
   "outputs": [],
   "source": [
    "#Changing all values of status to numeric values.\n",
    "df.loc[(df.status == \"single\"), 'status'] = 0\n",
    "df.loc[(df.status == \"married\"), 'status'] = 1\n",
    "df.loc[(df.status == \"others\"), 'status'] = 2"
   ]
  },
  {
   "cell_type": "code",
   "execution_count": 6,
   "metadata": {},
   "outputs": [],
   "source": [
    "#Changing all values of credit_default to numeric values.\n",
    "df.loc[(df.credit_default == \"no\"), 'credit_default'] = 0\n",
    "df.loc[(df.credit_default == \"yes\"), 'credit_default'] = 1"
   ]
  },
  {
   "cell_type": "code",
   "execution_count": 7,
   "metadata": {},
   "outputs": [],
   "source": [
    "#Filling missing values of sex with mode value of dataset which is 0 (female)\n",
    "df['sex'] = df['sex'].fillna(df['sex'].mode()[0])"
   ]
  },
  {
   "cell_type": "code",
   "execution_count": 9,
   "metadata": {},
   "outputs": [
    {
     "data": {
      "text/html": [
       "<div>\n",
       "<style scoped>\n",
       "    .dataframe tbody tr th:only-of-type {\n",
       "        vertical-align: middle;\n",
       "    }\n",
       "\n",
       "    .dataframe tbody tr th {\n",
       "        vertical-align: top;\n",
       "    }\n",
       "\n",
       "    .dataframe thead th {\n",
       "        text-align: right;\n",
       "    }\n",
       "</style>\n",
       "<table border=\"1\" class=\"dataframe\">\n",
       "  <thead>\n",
       "    <tr style=\"text-align: right;\">\n",
       "      <th></th>\n",
       "      <th>modeSex</th>\n",
       "    </tr>\n",
       "    <tr>\n",
       "      <th>education</th>\n",
       "      <th></th>\n",
       "    </tr>\n",
       "  </thead>\n",
       "  <tbody>\n",
       "    <tr>\n",
       "      <th>0</th>\n",
       "      <td>([0], [26])</td>\n",
       "    </tr>\n",
       "    <tr>\n",
       "      <th>1</th>\n",
       "      <td>([0], [1014])</td>\n",
       "    </tr>\n",
       "    <tr>\n",
       "      <th>2</th>\n",
       "      <td>([0], [2908])</td>\n",
       "    </tr>\n",
       "    <tr>\n",
       "      <th>3</th>\n",
       "      <td>([0], [2106])</td>\n",
       "    </tr>\n",
       "  </tbody>\n",
       "</table>\n",
       "</div>"
      ],
      "text/plain": [
       "                 modeSex\n",
       "education               \n",
       "0            ([0], [26])\n",
       "1          ([0], [1014])\n",
       "2          ([0], [2908])\n",
       "3          ([0], [2106])"
      ]
     },
     "execution_count": 9,
     "metadata": {},
     "output_type": "execute_result"
    }
   ],
   "source": [
    "df.groupby(['education'])['sex'].agg([('modeSex', stats.mode)])"
   ]
  },
  {
   "cell_type": "code",
   "execution_count": 10,
   "metadata": {},
   "outputs": [],
   "source": [
    "#Filling missing values of education with mode value of dataset which is 2 (University)\n",
    "df['education'] = df['education'].fillna(df['education'].mode()[0])"
   ]
  },
  {
   "cell_type": "code",
   "execution_count": 11,
   "metadata": {},
   "outputs": [
    {
     "data": {
      "text/html": [
       "<div>\n",
       "<style scoped>\n",
       "    .dataframe tbody tr th:only-of-type {\n",
       "        vertical-align: middle;\n",
       "    }\n",
       "\n",
       "    .dataframe tbody tr th {\n",
       "        vertical-align: top;\n",
       "    }\n",
       "\n",
       "    .dataframe thead th {\n",
       "        text-align: right;\n",
       "    }\n",
       "</style>\n",
       "<table border=\"1\" class=\"dataframe\">\n",
       "  <thead>\n",
       "    <tr style=\"text-align: right;\">\n",
       "      <th></th>\n",
       "      <th></th>\n",
       "      <th>modeStatus</th>\n",
       "    </tr>\n",
       "    <tr>\n",
       "      <th>education</th>\n",
       "      <th>sex</th>\n",
       "      <th></th>\n",
       "    </tr>\n",
       "  </thead>\n",
       "  <tbody>\n",
       "    <tr>\n",
       "      <th rowspan=\"2\" valign=\"top\">0</th>\n",
       "      <th>0</th>\n",
       "      <td>([0], [11])</td>\n",
       "    </tr>\n",
       "    <tr>\n",
       "      <th>1</th>\n",
       "      <td>([0], [3])</td>\n",
       "    </tr>\n",
       "    <tr>\n",
       "      <th rowspan=\"2\" valign=\"top\">1</th>\n",
       "      <th>0</th>\n",
       "      <td>([1], [518])</td>\n",
       "    </tr>\n",
       "    <tr>\n",
       "      <th>1</th>\n",
       "      <td>([1], [282])</td>\n",
       "    </tr>\n",
       "    <tr>\n",
       "      <th rowspan=\"2\" valign=\"top\">2</th>\n",
       "      <th>0</th>\n",
       "      <td>([1], [1250])</td>\n",
       "    </tr>\n",
       "    <tr>\n",
       "      <th>1</th>\n",
       "      <td>([0], [813])</td>\n",
       "    </tr>\n",
       "    <tr>\n",
       "      <th rowspan=\"2\" valign=\"top\">3</th>\n",
       "      <th>0</th>\n",
       "      <td>([0], [1148])</td>\n",
       "    </tr>\n",
       "    <tr>\n",
       "      <th>1</th>\n",
       "      <td>([0], [679])</td>\n",
       "    </tr>\n",
       "  </tbody>\n",
       "</table>\n",
       "</div>"
      ],
      "text/plain": [
       "                  modeStatus\n",
       "education sex               \n",
       "0         0      ([0], [11])\n",
       "          1       ([0], [3])\n",
       "1         0     ([1], [518])\n",
       "          1     ([1], [282])\n",
       "2         0    ([1], [1250])\n",
       "          1     ([0], [813])\n",
       "3         0    ([0], [1148])\n",
       "          1     ([0], [679])"
      ]
     },
     "execution_count": 11,
     "metadata": {},
     "output_type": "execute_result"
    }
   ],
   "source": [
    "#calculating mode value of status based on education and sex\n",
    "df.groupby(['education', 'sex'])['status'].agg([('modeStatus', stats.mode)])"
   ]
  },
  {
   "cell_type": "code",
   "execution_count": 12,
   "metadata": {},
   "outputs": [],
   "source": [
    "#Filling missing values of status based on table we calculated in previous step\n",
    "fill = (df.education == 0) & (df.sex == 0) & (df.status.isnull())\n",
    "df.loc[fill, 'status'] = 0\n",
    "fill = (df.education == 0) & (df.sex == 1) & (df.status.isnull())\n",
    "df.loc[fill, 'status'] = 0\n",
    "fill = (df.education == 1) & (df.sex == 0) & (df.status.isnull())\n",
    "df.loc[fill, 'status'] = 1\n",
    "fill = (df.education == 1) & (df.sex == 1) & (df.status.isnull())\n",
    "df.loc[fill, 'status'] = 1\n",
    "fill = (df.education == 2) & (df.sex == 0) & (df.status.isnull())\n",
    "df.loc[fill, 'status'] = 1\n",
    "fill = (df.education == 2) & (df.sex == 1)& (df.status.isnull())\n",
    "df.loc[fill, 'status'] = 0\n",
    "fill = (df.education == 3) & (df.sex == 0)& (df.status.isnull())\n",
    "df.loc[fill, 'status'] = 0\n",
    "fill = (df.education == 3) & (df.sex == 1)& (df.status.isnull())\n",
    "df.loc[fill, 'status'] = 0"
   ]
  },
  {
   "cell_type": "code",
   "execution_count": 13,
   "metadata": {},
   "outputs": [],
   "source": [
    "#Creating a new column based on sex and status\n",
    "df['sex_status'] = 0\n",
    "df.loc[((df.sex == 1) & (df.status == 1)) , 'sex_status'] = 1 #married man\n",
    "df.loc[((df.sex == 1) & (df.status == 0)) , 'sex_status'] = 2 #single man\n",
    "df.loc[((df.sex == 1) & (df.status == 2)) , 'sex_status'] = 3 #divorced man\n",
    "df.loc[((df.sex == 0) & (df.status == 1)) , 'sex_status'] = 4 #married woman\n",
    "df.loc[((df.sex == 0) & (df.status == 0)) , 'sex_status'] = 5 #single woman\n",
    "df.loc[((df.sex == 0) & (df.status == 2)) , 'sex_status'] = 6 #divorced woman"
   ]
  },
  {
   "cell_type": "code",
   "execution_count": 14,
   "metadata": {},
   "outputs": [],
   "source": [
    "#Removing all rows with age value of -1 to calculate mean value in next step\n",
    "df_temp = df\n",
    "df_temp = df_temp.drop(df_temp[df_temp.age < 21].index)"
   ]
  },
  {
   "cell_type": "code",
   "execution_count": 15,
   "metadata": {},
   "outputs": [
    {
     "data": {
      "text/plain": [
       "sex_status\n",
       "1    41.715616\n",
       "2    33.133429\n",
       "3    43.068966\n",
       "4    37.962737\n",
       "5    31.377128\n",
       "6    41.300000\n",
       "Name: age, dtype: float64"
      ]
     },
     "execution_count": 15,
     "metadata": {},
     "output_type": "execute_result"
    }
   ],
   "source": [
    "#Generating mean value for age based on sex_status\n",
    "df_temp.groupby('sex_status')['age'].mean()"
   ]
  },
  {
   "cell_type": "code",
   "execution_count": 16,
   "metadata": {},
   "outputs": [],
   "source": [
    "#Changing all -1 values of age to mean values generated in previous step.\n",
    "fill = (df.sex_status == 1) & (df.age < 21)\n",
    "df.loc[fill, 'age'] = 41\n",
    "fill = (df.sex_status == 2) & (df.age < 21)\n",
    "df.loc[fill, 'age'] = 33\n",
    "fill = (df.sex_status == 3) & (df.age < 21)\n",
    "df.loc[fill, 'age'] = 43\n",
    "fill = (df.sex_status == 4) & (df.age < 21)\n",
    "df.loc[fill, 'age'] = 37\n",
    "fill = (df.sex_status == 5) & (df.age < 21)\n",
    "df.loc[fill, 'age'] = 31\n",
    "fill = (df.sex_status == 6) & (df.age < 21)\n",
    "df.loc[fill, 'age'] = 41"
   ]
  },
  {
   "cell_type": "code",
   "execution_count": 17,
   "metadata": {},
   "outputs": [],
   "source": [
    "df['expense-may'] = df['ba-may']-(df['ba-apr']-df['pa-may'])\n",
    "df['expense-jun'] = df['ba-jun']-(df['ba-may']-df['pa-jun'])\n",
    "df['expense-jul'] = df['ba-jul']-(df['ba-jun']-df['pa-jul'])\n",
    "df['expense-aug'] = df['ba-aug']-(df['ba-jul']-df['pa-aug'])\n",
    "df['expense-sep'] = df['ba-sep']-(df['ba-aug']-df['pa-sep'])\n",
    "df['avg-expense'] = (df['expense-may'] + df['expense-jun'] + df['expense-jul'] + df['expense-aug'] + df['expense-sep'])/5\n",
    "# df[['limit', 'expense-may', 'expense-jun', 'expense-jul', 'expense-aug', 'expense-sep', 'credit_default']].head(5)"
   ]
  },
  {
   "cell_type": "code",
   "execution_count": 18,
   "metadata": {},
   "outputs": [],
   "source": [
    "df['debt-apr'] = df['ba-apr']-df['pa-may']\n",
    "df['debt-may'] = df['ba-may']-df['pa-jun'] + df['debt-apr']\n",
    "df['debt-jun'] = df['ba-jun']-df['pa-jul'] + df['debt-may']\n",
    "df['debt-jul'] = df['ba-jul']-df['pa-aug'] + df['debt-jun']\n",
    "df['debt-aug'] = df['ba-aug']-df['pa-sep'] + df['debt-jul']\n",
    "\n",
    "df['avg-debt'] = (df['debt-apr']+df['debt-may']+df['debt-jun']+df['debt-jul']+df['debt-aug'])/5\n",
    "df['missed-payments'] = df[['ps-apr', 'ps-may', 'ps-jun', 'ps-jul', 'ps-aug', 'ps-sep']].max(axis=1)\n",
    "df['avg-debt-to-limit-ratio'] = df['avg-debt']/df['limit']\n",
    "df['avg-expense-to-limit-ratio'] = df['avg-expense']/df['limit']\n",
    "# df[['limit','missed-payments','avg-debt','avg-debt-to-limit-ratio','credit_default']].sample(10)"
   ]
  },
  {
   "cell_type": "code",
   "execution_count": 19,
   "metadata": {},
   "outputs": [],
   "source": [
    "df['avg-ba'] = (df['ba-apr']+df['ba-may']+df['ba-jun']+df['ba-jul']+df['ba-aug']+df['ba-sep'])/6\n",
    "df['avg-pa'] = (df['pa-apr']+df['pa-may']+df['pa-jun']+df['pa-jul']+df['pa-aug']+df['pa-sep'])/6"
   ]
  },
  {
   "cell_type": "markdown",
   "metadata": {},
   "source": [
    "# Clustering"
   ]
  },
  {
   "cell_type": "markdown",
   "metadata": {},
   "source": [
    "## DBSCAN"
   ]
  },
  {
   "cell_type": "markdown",
   "metadata": {},
   "source": [
    "##### Normalization"
   ]
  },
  {
   "cell_type": "code",
   "execution_count": 20,
   "metadata": {},
   "outputs": [],
   "source": [
    "from sklearn.preprocessing import StandardScaler, MinMaxScaler"
   ]
  },
  {
   "cell_type": "code",
   "execution_count": 21,
   "metadata": {},
   "outputs": [
    {
     "data": {
      "text/html": [
       "<div>\n",
       "<style scoped>\n",
       "    .dataframe tbody tr th:only-of-type {\n",
       "        vertical-align: middle;\n",
       "    }\n",
       "\n",
       "    .dataframe tbody tr th {\n",
       "        vertical-align: top;\n",
       "    }\n",
       "\n",
       "    .dataframe thead th {\n",
       "        text-align: right;\n",
       "    }\n",
       "</style>\n",
       "<table border=\"1\" class=\"dataframe\">\n",
       "  <thead>\n",
       "    <tr style=\"text-align: right;\">\n",
       "      <th></th>\n",
       "      <th>limit</th>\n",
       "      <th>avg-ba</th>\n",
       "      <th>avg-pa</th>\n",
       "      <th>age</th>\n",
       "    </tr>\n",
       "  </thead>\n",
       "  <tbody>\n",
       "    <tr>\n",
       "      <th>0</th>\n",
       "      <td>50000</td>\n",
       "      <td>43317.666667</td>\n",
       "      <td>1541.000000</td>\n",
       "      <td>25</td>\n",
       "    </tr>\n",
       "    <tr>\n",
       "      <th>1</th>\n",
       "      <td>200000</td>\n",
       "      <td>7914.333333</td>\n",
       "      <td>7064.166667</td>\n",
       "      <td>54</td>\n",
       "    </tr>\n",
       "    <tr>\n",
       "      <th>2</th>\n",
       "      <td>30000</td>\n",
       "      <td>29802.833333</td>\n",
       "      <td>859.833333</td>\n",
       "      <td>37</td>\n",
       "    </tr>\n",
       "    <tr>\n",
       "      <th>3</th>\n",
       "      <td>140000</td>\n",
       "      <td>36138.000000</td>\n",
       "      <td>3650.000000</td>\n",
       "      <td>31</td>\n",
       "    </tr>\n",
       "    <tr>\n",
       "      <th>4</th>\n",
       "      <td>60000</td>\n",
       "      <td>49241.166667</td>\n",
       "      <td>1580.000000</td>\n",
       "      <td>36</td>\n",
       "    </tr>\n",
       "  </tbody>\n",
       "</table>\n",
       "</div>"
      ],
      "text/plain": [
       "    limit        avg-ba       avg-pa  age\n",
       "0   50000  43317.666667  1541.000000   25\n",
       "1  200000   7914.333333  7064.166667   54\n",
       "2   30000  29802.833333   859.833333   37\n",
       "3  140000  36138.000000  3650.000000   31\n",
       "4   60000  49241.166667  1580.000000   36"
      ]
     },
     "execution_count": 21,
     "metadata": {},
     "output_type": "execute_result"
    }
   ],
   "source": [
    "# dfc = df[['limit', 'ba-apr', 'ba-may', 'ba-jun', 'ba-jul', 'ba-aug','ba-sep',\n",
    "#           'pa-apr', 'pa-may','pa-jun','pa-jul','pa-aug','pa-sep', 'age']]\n",
    "dfc = df[['limit', 'avg-ba', 'avg-pa','age']]\n",
    "# dfc = df[['limit', 'avg-debt', 'avg-expense','age']]\n",
    "dfc = dfc.copy()\n",
    "dfc.head()"
   ]
  },
  {
   "cell_type": "code",
   "execution_count": 22,
   "metadata": {},
   "outputs": [
    {
     "data": {
      "text/plain": [
       "StandardScaler(copy=True, with_mean=True, with_std=True)"
      ]
     },
     "execution_count": 22,
     "metadata": {},
     "output_type": "execute_result"
    }
   ],
   "source": [
    "scaler = StandardScaler()\n",
    "scaler.fit(dfc.values)\n",
    "# dfc.head().values"
   ]
  },
  {
   "cell_type": "code",
   "execution_count": 23,
   "metadata": {},
   "outputs": [],
   "source": [
    "X = scaler.transform(dfc.values)"
   ]
  },
  {
   "cell_type": "code",
   "execution_count": 24,
   "metadata": {},
   "outputs": [],
   "source": [
    "scaler = MinMaxScaler()\n",
    "X = scaler.fit_transform(dfc.values)"
   ]
  },
  {
   "cell_type": "code",
   "execution_count": 25,
   "metadata": {},
   "outputs": [],
   "source": [
    "from sklearn.cluster import DBSCAN\n",
    "from sklearn.metrics import silhouette_score"
   ]
  },
  {
   "cell_type": "code",
   "execution_count": 26,
   "metadata": {},
   "outputs": [
    {
     "data": {
      "text/plain": [
       "DBSCAN(algorithm='auto', eps=0.088, leaf_size=30, metric='euclidean',\n",
       "    metric_params=None, min_samples=10, n_jobs=1, p=None)"
      ]
     },
     "execution_count": 26,
     "metadata": {},
     "output_type": "execute_result"
    }
   ],
   "source": [
    "k = 10\n",
    "dbscan = DBSCAN(eps=0.088, min_samples=k)\n",
    "dbscan.fit(X)"
   ]
  },
  {
   "cell_type": "code",
   "execution_count": 27,
   "metadata": {},
   "outputs": [
    {
     "data": {
      "text/plain": [
       "2"
      ]
     },
     "execution_count": 27,
     "metadata": {},
     "output_type": "execute_result"
    }
   ],
   "source": [
    "labels = dbscan.labels_\n",
    "# Number of clusters in labels, ignoring noise if present.\n",
    "n_clusters = len(set(labels)) - (1 if -1 in labels else 0)\n",
    "n_clusters"
   ]
  },
  {
   "cell_type": "code",
   "execution_count": 28,
   "metadata": {},
   "outputs": [
    {
     "data": {
      "text/plain": [
       "(array([-1,  0,  1], dtype=int64), array([ 184, 9810,    6], dtype=int64))"
      ]
     },
     "execution_count": 28,
     "metadata": {},
     "output_type": "execute_result"
    }
   ],
   "source": [
    "b = np.unique(labels, return_counts=True)\n",
    "b"
   ]
  },
  {
   "cell_type": "code",
   "execution_count": 29,
   "metadata": {},
   "outputs": [],
   "source": [
    "# plt.scatter(dfc['limit'], dfc['avg-expense'], c=labels, s=10)\n",
    "# plt.tick_params(axis='both', which='major', labelsize=14)\n",
    "# plt.show()"
   ]
  },
  {
   "cell_type": "code",
   "execution_count": 30,
   "metadata": {},
   "outputs": [],
   "source": [
    "dfc['label'] = pd.Series(labels, index=dfc.index)\n",
    "df['label'] = pd.Series(labels, index=df.index)"
   ]
  },
  {
   "cell_type": "code",
   "execution_count": 48,
   "metadata": {},
   "outputs": [
    {
     "data": {
      "text/html": [
       "<div>\n",
       "<style scoped>\n",
       "    .dataframe tbody tr th:only-of-type {\n",
       "        vertical-align: middle;\n",
       "    }\n",
       "\n",
       "    .dataframe tbody tr th {\n",
       "        vertical-align: top;\n",
       "    }\n",
       "\n",
       "    .dataframe thead th {\n",
       "        text-align: right;\n",
       "    }\n",
       "</style>\n",
       "<table border=\"1\" class=\"dataframe\">\n",
       "  <thead>\n",
       "    <tr style=\"text-align: right;\">\n",
       "      <th></th>\n",
       "      <th>limit</th>\n",
       "      <th>avg-ba</th>\n",
       "      <th>avg-pa</th>\n",
       "      <th>missed-payments</th>\n",
       "      <th>credit_default</th>\n",
       "      <th>sex</th>\n",
       "      <th>education</th>\n",
       "    </tr>\n",
       "  </thead>\n",
       "  <tbody>\n",
       "    <tr>\n",
       "      <th>count</th>\n",
       "      <td>6.000000</td>\n",
       "      <td>6.000000</td>\n",
       "      <td>6.000000</td>\n",
       "      <td>6.000000</td>\n",
       "      <td>6.000000</td>\n",
       "      <td>6.000000</td>\n",
       "      <td>6.000000</td>\n",
       "    </tr>\n",
       "    <tr>\n",
       "      <th>mean</th>\n",
       "      <td>395000.000000</td>\n",
       "      <td>332343.916667</td>\n",
       "      <td>13638.694444</td>\n",
       "      <td>0.333333</td>\n",
       "      <td>0.166667</td>\n",
       "      <td>0.333333</td>\n",
       "      <td>1.833333</td>\n",
       "    </tr>\n",
       "    <tr>\n",
       "      <th>std</th>\n",
       "      <td>28106.938645</td>\n",
       "      <td>26037.991077</td>\n",
       "      <td>2652.796521</td>\n",
       "      <td>0.816497</td>\n",
       "      <td>0.408248</td>\n",
       "      <td>0.516398</td>\n",
       "      <td>0.752773</td>\n",
       "    </tr>\n",
       "    <tr>\n",
       "      <th>min</th>\n",
       "      <td>360000.000000</td>\n",
       "      <td>295019.833333</td>\n",
       "      <td>11416.666667</td>\n",
       "      <td>0.000000</td>\n",
       "      <td>0.000000</td>\n",
       "      <td>0.000000</td>\n",
       "      <td>1.000000</td>\n",
       "    </tr>\n",
       "    <tr>\n",
       "      <th>25%</th>\n",
       "      <td>380000.000000</td>\n",
       "      <td>316654.583333</td>\n",
       "      <td>12168.958333</td>\n",
       "      <td>0.000000</td>\n",
       "      <td>0.000000</td>\n",
       "      <td>0.000000</td>\n",
       "      <td>1.250000</td>\n",
       "    </tr>\n",
       "    <tr>\n",
       "      <th>50%</th>\n",
       "      <td>390000.000000</td>\n",
       "      <td>335401.500000</td>\n",
       "      <td>13009.083333</td>\n",
       "      <td>0.000000</td>\n",
       "      <td>0.000000</td>\n",
       "      <td>0.000000</td>\n",
       "      <td>2.000000</td>\n",
       "    </tr>\n",
       "    <tr>\n",
       "      <th>75%</th>\n",
       "      <td>407500.000000</td>\n",
       "      <td>346363.666667</td>\n",
       "      <td>13541.833333</td>\n",
       "      <td>0.000000</td>\n",
       "      <td>0.000000</td>\n",
       "      <td>0.750000</td>\n",
       "      <td>2.000000</td>\n",
       "    </tr>\n",
       "    <tr>\n",
       "      <th>max</th>\n",
       "      <td>440000.000000</td>\n",
       "      <td>367817.333333</td>\n",
       "      <td>18789.000000</td>\n",
       "      <td>2.000000</td>\n",
       "      <td>1.000000</td>\n",
       "      <td>1.000000</td>\n",
       "      <td>3.000000</td>\n",
       "    </tr>\n",
       "  </tbody>\n",
       "</table>\n",
       "</div>"
      ],
      "text/plain": [
       "               limit         avg-ba        avg-pa  missed-payments  \\\n",
       "count       6.000000       6.000000      6.000000         6.000000   \n",
       "mean   395000.000000  332343.916667  13638.694444         0.333333   \n",
       "std     28106.938645   26037.991077   2652.796521         0.816497   \n",
       "min    360000.000000  295019.833333  11416.666667         0.000000   \n",
       "25%    380000.000000  316654.583333  12168.958333         0.000000   \n",
       "50%    390000.000000  335401.500000  13009.083333         0.000000   \n",
       "75%    407500.000000  346363.666667  13541.833333         0.000000   \n",
       "max    440000.000000  367817.333333  18789.000000         2.000000   \n",
       "\n",
       "       credit_default       sex  education  \n",
       "count        6.000000  6.000000   6.000000  \n",
       "mean         0.166667  0.333333   1.833333  \n",
       "std          0.408248  0.516398   0.752773  \n",
       "min          0.000000  0.000000   1.000000  \n",
       "25%          0.000000  0.000000   1.250000  \n",
       "50%          0.000000  0.000000   2.000000  \n",
       "75%          0.000000  0.750000   2.000000  \n",
       "max          1.000000  1.000000   3.000000  "
      ]
     },
     "execution_count": 48,
     "metadata": {},
     "output_type": "execute_result"
    }
   ],
   "source": [
    "att = ['limit', 'avg-ba', 'avg-pa', 'missed-payments', 'credit_default', 'sex', 'education']\n",
    "df[df['label']==1][att].describe()"
   ]
  },
  {
   "cell_type": "code",
   "execution_count": 33,
   "metadata": {},
   "outputs": [
    {
     "data": {
      "text/html": [
       "<div>\n",
       "<style scoped>\n",
       "    .dataframe tbody tr th:only-of-type {\n",
       "        vertical-align: middle;\n",
       "    }\n",
       "\n",
       "    .dataframe tbody tr th {\n",
       "        vertical-align: top;\n",
       "    }\n",
       "\n",
       "    .dataframe thead th {\n",
       "        text-align: right;\n",
       "    }\n",
       "</style>\n",
       "<table border=\"1\" class=\"dataframe\">\n",
       "  <thead>\n",
       "    <tr style=\"text-align: right;\">\n",
       "      <th></th>\n",
       "      <th></th>\n",
       "      <th>count</th>\n",
       "    </tr>\n",
       "    <tr>\n",
       "      <th>label</th>\n",
       "      <th>credit_default</th>\n",
       "      <th></th>\n",
       "    </tr>\n",
       "  </thead>\n",
       "  <tbody>\n",
       "    <tr>\n",
       "      <th rowspan=\"2\" valign=\"top\">-1</th>\n",
       "      <th>0</th>\n",
       "      <td>152</td>\n",
       "    </tr>\n",
       "    <tr>\n",
       "      <th>1</th>\n",
       "      <td>32</td>\n",
       "    </tr>\n",
       "    <tr>\n",
       "      <th rowspan=\"2\" valign=\"top\">0</th>\n",
       "      <th>0</th>\n",
       "      <td>7631</td>\n",
       "    </tr>\n",
       "    <tr>\n",
       "      <th>1</th>\n",
       "      <td>2179</td>\n",
       "    </tr>\n",
       "    <tr>\n",
       "      <th rowspan=\"2\" valign=\"top\">1</th>\n",
       "      <th>0</th>\n",
       "      <td>5</td>\n",
       "    </tr>\n",
       "    <tr>\n",
       "      <th>1</th>\n",
       "      <td>1</td>\n",
       "    </tr>\n",
       "  </tbody>\n",
       "</table>\n",
       "</div>"
      ],
      "text/plain": [
       "                      count\n",
       "label credit_default       \n",
       "-1    0                 152\n",
       "      1                  32\n",
       " 0    0                7631\n",
       "      1                2179\n",
       " 1    0                   5\n",
       "      1                   1"
      ]
     },
     "execution_count": 33,
     "metadata": {},
     "output_type": "execute_result"
    }
   ],
   "source": [
    "df.groupby(['label', 'credit_default'])['credit_default'].agg([('count')])"
   ]
  },
  {
   "cell_type": "code",
   "execution_count": 42,
   "metadata": {},
   "outputs": [
    {
     "name": "stdout",
     "output_type": "stream",
     "text": [
      "Entropy of Clustering: 0.7639505463505097\n"
     ]
    }
   ],
   "source": [
    "import math\n",
    "a = 7631.0/9810\n",
    "b = 2179.0/9810\n",
    "entropy_c0 = (-1*a*math.log(a,2)) + (-1*b*math.log(b,2))\n",
    "c = 5.0/6\n",
    "d = 1.0/6\n",
    "entropy_c1 = (-1*c*math.log(c,2)) + (-1*d*math.log(d,2))\n",
    "n = 9810 + 6\n",
    "e = 9810.0/n\n",
    "f = 6.0/n\n",
    "entropy_clustering = (e*entropy_c0) + (f*entropy_c1)\n",
    "print(\"Entropy of Clustering: \" + str(entropy_clustering))"
   ]
  },
  {
   "cell_type": "code",
   "execution_count": 43,
   "metadata": {},
   "outputs": [
    {
     "name": "stdout",
     "output_type": "stream",
     "text": [
      "Purity of Clustering: 0.7779136104319478\n"
     ]
    }
   ],
   "source": [
    "purity_c0 = a\n",
    "purity_c1 = c\n",
    "purity_clustering = (e*purity_c0) + (f*purity_c1)\n",
    "print(\"Purity of Clustering: \" + str(purity_clustering))"
   ]
  },
  {
   "cell_type": "code",
   "execution_count": 376,
   "metadata": {},
   "outputs": [],
   "source": [
    "def scatterPlot(dataset, first, second, column):\n",
    "    column_values = sorted(dataset[column].unique())\n",
    "    colors = ['r','g','y','b', 'c', 'm', 'y', 'k', 'w']\n",
    "    plt.figure(figsize=(10,8))\n",
    "    i = 0\n",
    "    for values in column_values:\n",
    "        plt.scatter(dataset[first][dataset[column] == values],dataset[second][dataset[column] == values], alpha=1,s=10,c=colors[i])\n",
    "        i += 1\n",
    "\n",
    "    plt.title('%s to %s Scatter Plot' % (first, second), fontsize=15)\n",
    "    plt.xlabel(first,fontsize=15)\n",
    "    plt.ylabel(second, fontsize=15)\n",
    "    plt.legend(tuple(column_values), loc='best')\n",
    "    ax = plt.gca()\n",
    "    ax.tick_params(axis = 'both', which = 'major', labelsize = 15)\n",
    "    plt.show()"
   ]
  },
  {
   "cell_type": "code",
   "execution_count": 388,
   "metadata": {},
   "outputs": [
    {
     "data": {
      "image/png": "[encoded data removed]",
      "text/plain": [
       "<Figure size 720x576 with 1 Axes>"
      ]
     },
     "metadata": {},
     "output_type": "display_data"
    }
   ],
   "source": [
    "scatterPlot(df, 'limit', 'avg-expense', 'label')"
   ]
  },
  {
   "cell_type": "code",
   "execution_count": 201,
   "metadata": {},
   "outputs": [
    {
     "name": "stdout",
     "output_type": "stream",
     "text": [
      "Silhouette 0.4088810646096583\n"
     ]
    }
   ],
   "source": [
    "print('Silhouette %s' % silhouette_score(X,labels))"
   ]
  },
  {
   "cell_type": "code",
   "execution_count": 378,
   "metadata": {},
   "outputs": [],
   "source": [
    "from scipy.spatial.distance import pdist, squareform"
   ]
  },
  {
   "cell_type": "code",
   "execution_count": 379,
   "metadata": {},
   "outputs": [],
   "source": [
    "dist = pdist(X, 'euclidean')\n",
    "dist = squareform(dist)"
   ]
  },
  {
   "cell_type": "code",
   "execution_count": 380,
   "metadata": {},
   "outputs": [],
   "source": [
    "kth_distances = list()\n",
    "for d in dist:\n",
    "    index_kth_distance = np.argsort(d)[k]\n",
    "    kth_distances.append(d[index_kth_distance])"
   ]
  },
  {
   "cell_type": "code",
   "execution_count": 381,
   "metadata": {},
   "outputs": [
    {
     "data": {
      "image/png": "[encoded data removed]",
      "text/plain": [
       "<Figure size 432x288 with 1 Axes>"
      ]
     },
     "metadata": {},
     "output_type": "display_data"
    }
   ],
   "source": [
    "plt.plot(range(0, len(kth_distances)), sorted(kth_distances))\n",
    "plt.ylabel('dist from %sth neighbor' % k, fontsize=18)\n",
    "plt.xlabel('sorted distances', fontsize=18)\n",
    "plt.tick_params(axis='both', which='major', labelsize=22)\n",
    "plt.show()"
   ]
  },
  {
   "cell_type": "code",
   "execution_count": 369,
   "metadata": {},
   "outputs": [
    {
     "name": "stdout",
     "output_type": "stream",
     "text": [
      "Min Points: 9, Eps: 0.088000 \n",
      "\n",
      "Number of Clusters: 2 \n",
      "\n",
      "Silhouette 0.5083189207633728\n",
      "---------------\n",
      "Min Points: 9, Eps: 0.089000 \n",
      "\n",
      "Number of Clusters: 2 \n",
      "\n",
      "Silhouette 0.5083189207633728\n",
      "---------------\n",
      "Min Points: 9, Eps: 0.090000 \n",
      "\n",
      "Number of Clusters: 2 \n",
      "\n",
      "Silhouette 0.5081821561962865\n",
      "---------------\n",
      "Min Points: 9, Eps: 0.091000 \n",
      "\n",
      "Number of Clusters: 2 \n",
      "\n",
      "Silhouette 0.39659586163601007\n",
      "---------------\n",
      "Min Points: 9, Eps: 0.092000 \n",
      "\n",
      "Number of Clusters: 2 \n",
      "\n",
      "Silhouette 0.39658051918065623\n",
      "---------------\n",
      "Min Points: 9, Eps: 0.930000 \n",
      "\n",
      "Number of Clusters: 1 \n",
      "\n",
      "---------------\n",
      "Min Points: 9, Eps: 0.940000 \n",
      "\n",
      "Number of Clusters: 1 \n",
      "\n",
      "---------------\n",
      "Min Points: 10, Eps: 0.088000 \n",
      "\n",
      "Number of Clusters: 2 \n",
      "\n",
      "Silhouette 0.5096161953513771\n",
      "---------------\n",
      "Min Points: 10, Eps: 0.089000 \n",
      "\n",
      "Number of Clusters: 2 \n",
      "\n",
      "Silhouette 0.50918405982928\n",
      "---------------\n",
      "Min Points: 10, Eps: 0.090000 \n",
      "\n",
      "Number of Clusters: 2 \n",
      "\n",
      "Silhouette 0.5085129462511476\n",
      "---------------\n",
      "Min Points: 10, Eps: 0.091000 \n",
      "\n",
      "Number of Clusters: 2 \n",
      "\n",
      "Silhouette 0.5082309825490121\n",
      "---------------\n",
      "Min Points: 10, Eps: 0.092000 \n",
      "\n",
      "Number of Clusters: 2 \n",
      "\n",
      "Silhouette 0.5080618623742962\n",
      "---------------\n",
      "Min Points: 10, Eps: 0.930000 \n",
      "\n",
      "Number of Clusters: 1 \n",
      "\n",
      "---------------\n",
      "Min Points: 10, Eps: 0.940000 \n",
      "\n",
      "Number of Clusters: 1 \n",
      "\n",
      "---------------\n",
      "Min Points: 11, Eps: 0.088000 \n",
      "\n",
      "Number of Clusters: 1 \n",
      "\n",
      "---------------\n",
      "Min Points: 11, Eps: 0.089000 \n",
      "\n",
      "Number of Clusters: 1 \n",
      "\n",
      "---------------\n",
      "Min Points: 11, Eps: 0.090000 \n",
      "\n",
      "Number of Clusters: 1 \n",
      "\n",
      "---------------\n",
      "Min Points: 11, Eps: 0.091000 \n",
      "\n",
      "Number of Clusters: 1 \n",
      "\n",
      "---------------\n",
      "Min Points: 11, Eps: 0.092000 \n",
      "\n",
      "Number of Clusters: 1 \n",
      "\n",
      "---------------\n",
      "Min Points: 11, Eps: 0.930000 \n",
      "\n",
      "Number of Clusters: 1 \n",
      "\n",
      "---------------\n",
      "Min Points: 11, Eps: 0.940000 \n",
      "\n",
      "Number of Clusters: 1 \n",
      "\n",
      "---------------\n",
      "Min Points: 12, Eps: 0.088000 \n",
      "\n",
      "Number of Clusters: 1 \n",
      "\n",
      "---------------\n",
      "Min Points: 12, Eps: 0.089000 \n",
      "\n",
      "Number of Clusters: 1 \n",
      "\n",
      "---------------\n",
      "Min Points: 12, Eps: 0.090000 \n",
      "\n",
      "Number of Clusters: 1 \n",
      "\n",
      "---------------\n",
      "Min Points: 12, Eps: 0.091000 \n",
      "\n",
      "Number of Clusters: 1 \n",
      "\n",
      "---------------\n",
      "Min Points: 12, Eps: 0.092000 \n",
      "\n",
      "Number of Clusters: 1 \n",
      "\n",
      "---------------\n",
      "Min Points: 12, Eps: 0.930000 \n",
      "\n",
      "Number of Clusters: 1 \n",
      "\n",
      "---------------\n",
      "Min Points: 12, Eps: 0.940000 \n",
      "\n",
      "Number of Clusters: 1 \n",
      "\n",
      "---------------\n",
      "Min Points: 13, Eps: 0.088000 \n",
      "\n",
      "Number of Clusters: 1 \n",
      "\n",
      "---------------\n",
      "Min Points: 13, Eps: 0.089000 \n",
      "\n",
      "Number of Clusters: 1 \n",
      "\n",
      "---------------\n",
      "Min Points: 13, Eps: 0.090000 \n",
      "\n",
      "Number of Clusters: 1 \n",
      "\n",
      "---------------\n",
      "Min Points: 13, Eps: 0.091000 \n",
      "\n",
      "Number of Clusters: 1 \n",
      "\n",
      "---------------\n",
      "Min Points: 13, Eps: 0.092000 \n",
      "\n",
      "Number of Clusters: 1 \n",
      "\n",
      "---------------\n",
      "Min Points: 13, Eps: 0.930000 \n",
      "\n",
      "Number of Clusters: 1 \n",
      "\n",
      "---------------\n",
      "Min Points: 13, Eps: 0.940000 \n",
      "\n",
      "Number of Clusters: 1 \n",
      "\n",
      "---------------\n",
      "Min Points: 14, Eps: 0.088000 \n",
      "\n",
      "Number of Clusters: 2 \n",
      "\n",
      "Silhouette 0.5050459908223055\n",
      "---------------\n",
      "Min Points: 14, Eps: 0.089000 \n",
      "\n",
      "Number of Clusters: 2 \n",
      "\n",
      "Silhouette 0.5044492724138213\n",
      "---------------\n",
      "Min Points: 14, Eps: 0.090000 \n",
      "\n",
      "Number of Clusters: 1 \n",
      "\n",
      "---------------\n",
      "Min Points: 14, Eps: 0.091000 \n",
      "\n",
      "Number of Clusters: 1 \n",
      "\n",
      "---------------\n",
      "Min Points: 14, Eps: 0.092000 \n",
      "\n",
      "Number of Clusters: 1 \n",
      "\n",
      "---------------\n",
      "Min Points: 14, Eps: 0.930000 \n",
      "\n",
      "Number of Clusters: 1 \n",
      "\n",
      "---------------\n",
      "Min Points: 14, Eps: 0.940000 \n",
      "\n",
      "Number of Clusters: 1 \n",
      "\n",
      "---------------\n",
      "Min Points: 15, Eps: 0.088000 \n",
      "\n",
      "Number of Clusters: 1 \n",
      "\n",
      "---------------\n",
      "Min Points: 15, Eps: 0.089000 \n",
      "\n",
      "Number of Clusters: 1 \n",
      "\n",
      "---------------\n",
      "Min Points: 15, Eps: 0.090000 \n",
      "\n",
      "Number of Clusters: 1 \n",
      "\n",
      "---------------\n",
      "Min Points: 15, Eps: 0.091000 \n",
      "\n",
      "Number of Clusters: 1 \n",
      "\n",
      "---------------\n",
      "Min Points: 15, Eps: 0.092000 \n",
      "\n",
      "Number of Clusters: 1 \n",
      "\n",
      "---------------\n",
      "Min Points: 15, Eps: 0.930000 \n",
      "\n",
      "Number of Clusters: 1 \n",
      "\n",
      "---------------\n",
      "Min Points: 15, Eps: 0.940000 \n",
      "\n",
      "Number of Clusters: 1 \n",
      "\n",
      "---------------\n"
     ]
    }
   ],
   "source": [
    "min_samples = [3, 4, 5, 6, 10, 15, 20]\n",
    "eps = [0.05, 0.06, 0.07, 0.08, 0.09, 0.1, 0.15]\n",
    "min_samples = [9, 10, 11, 12, 13, 14, 15]\n",
    "eps = [0.088, 0.089, 0.090, 0.091, 0.092, 0.93, 0.94]\n",
    "for i in min_samples:\n",
    "    for j in eps:\n",
    "        dbscan = DBSCAN(min_samples = i, eps = j)\n",
    "        dbscan.fit(X)\n",
    "        print(\"Min Points: %d, Eps: %f \\n\" % (i,j))\n",
    "        labels = dbscan.labels_\n",
    "        n_clusters = len(set(labels)) - (1 if -1 in labels else 0)\n",
    "        print(\"Number of Clusters: %d \\n\" % n_clusters)\n",
    "        filteredX, filteredLabels = filterNoise(X, labels)\n",
    "        if(len(set(filteredLabels)) != 1):\n",
    "            print('Silhouette %s' % silhouette_score(filteredX,filteredLabels))\n",
    "        print('-'*15)\n",
    "        "
   ]
  },
  {
   "cell_type": "code",
   "execution_count": 137,
   "metadata": {},
   "outputs": [
    {
     "data": {
      "text/plain": [
       "10000"
      ]
     },
     "execution_count": 137,
     "metadata": {},
     "output_type": "execute_result"
    }
   ],
   "source": [
    "len(labels)"
   ]
  },
  {
   "cell_type": "code",
   "execution_count": 186,
   "metadata": {},
   "outputs": [],
   "source": [
    "def filterNoise(X, labels):\n",
    "    newData = []\n",
    "    newLabels = []\n",
    "    for i in range(len(labels)):\n",
    "        if(labels[i] != -1):\n",
    "            newData.append(X[i])\n",
    "            newLabels.append(labels[i])\n",
    "    return newData, newLabels"
   ]
  },
  {
   "cell_type": "code",
   "execution_count": 310,
   "metadata": {},
   "outputs": [
    {
     "name": "stdout",
     "output_type": "stream",
     "text": [
      "Silh: 0.4861187521053207\n",
      "Silh: 0.5085129462511476\n"
     ]
    }
   ],
   "source": [
    "print(\"Silh: %s\" % silhouette_score(X,labels))\n",
    "filteredX, filteredLabels = filterNoise(X, labels)\n",
    "print(\"Silh: %s\" % silhouette_score(filteredX,filteredLabels))"
   ]
  },
  {
   "cell_type": "code",
   "execution_count": 189,
   "metadata": {},
   "outputs": [
    {
     "data": {
      "text/plain": [
       "(array([0], dtype=int64), array([9990], dtype=int64))"
      ]
     },
     "execution_count": 189,
     "metadata": {},
     "output_type": "execute_result"
    }
   ],
   "source": [
    "b = np.unique(filteredLabels, return_counts=True)\n",
    "b"
   ]
  },
  {
   "cell_type": "code",
   "execution_count": null,
   "metadata": {},
   "outputs": [],
   "source": []
  }
 ],
 "metadata": {
  "kernelspec": {
   "display_name": "Python 3",
   "language": "python",
   "name": "python3"
  },
  "language_info": {
   "codemirror_mode": {
    "name": "ipython",
    "version": 3
   },
   "file_extension": ".py",
   "mimetype": "text/x-python",
   "name": "python",
   "nbconvert_exporter": "python",
   "pygments_lexer": "ipython3",
   "version": "3.6.5"
  }
 },
 "nbformat": 4,
 "nbformat_minor": 2
}
