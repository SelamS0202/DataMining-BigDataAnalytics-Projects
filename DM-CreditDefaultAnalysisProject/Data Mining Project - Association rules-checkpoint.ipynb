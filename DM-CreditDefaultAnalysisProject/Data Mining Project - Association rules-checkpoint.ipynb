{
 "cells": [
  {
   "cell_type": "markdown",
   "metadata": {},
   "source": [
    "# Data Understanding"
   ]
  },
  {
   "cell_type": "code",
   "execution_count": 205,
   "metadata": {},
   "outputs": [],
   "source": [
    "%matplotlib inline\n",
    "import math\n",
    "import numpy as np\n",
    "import pandas as pd\n",
    "import scipy.stats as stats\n",
    "import matplotlib.pyplot as plt\n",
    "from math import pi\n",
    "import seaborn as sns"
   ]
  },
  {
   "cell_type": "code",
   "execution_count": 206,
   "metadata": {},
   "outputs": [],
   "source": [
    "# Load the data\n",
    "\n",
    "df = pd.read_csv('credit_default_train.csv')"
   ]
  },
  {
   "cell_type": "code",
   "execution_count": 207,
   "metadata": {},
   "outputs": [],
   "source": [
    "#df.head()"
   ]
  },
  {
   "cell_type": "code",
   "execution_count": 208,
   "metadata": {},
   "outputs": [],
   "source": [
    "#Changing all values of male and female to 1 and 0\n",
    "df.loc[(df.sex == \"male\"), 'sex'] = 1\n",
    "df.loc[(df.sex == \"female\"), 'sex'] = 0"
   ]
  },
  {
   "cell_type": "code",
   "execution_count": 209,
   "metadata": {},
   "outputs": [],
   "source": [
    "#Changing all values of education to numeric values.\n",
    "df.loc[(df.education == \"others\"), 'education'] = 0\n",
    "df.loc[(df.education == \"high school\"), 'education'] = 1\n",
    "df.loc[(df.education == \"university\"), 'education'] = 2\n",
    "df.loc[(df.education == \"graduate school\"), 'education'] = 3"
   ]
  },
  {
   "cell_type": "code",
   "execution_count": 210,
   "metadata": {},
   "outputs": [],
   "source": [
    "#Changing all values of status to numeric values.\n",
    "df.loc[(df.status == \"single\"), 'status'] = 0\n",
    "df.loc[(df.status == \"married\"), 'status'] = 1\n",
    "df.loc[(df.status == \"others\"), 'status'] = 2"
   ]
  },
  {
   "cell_type": "code",
   "execution_count": 211,
   "metadata": {},
   "outputs": [],
   "source": [
    "#Changing all values of credit_default to numeric values.\n",
    "df.loc[(df.credit_default == \"no\"), 'credit_default'] = 0\n",
    "df.loc[(df.credit_default == \"yes\"), 'credit_default'] = 1"
   ]
  },
  {
   "cell_type": "code",
   "execution_count": null,
   "metadata": {},
   "outputs": [],
   "source": []
  },
  {
   "cell_type": "code",
   "execution_count": 212,
   "metadata": {},
   "outputs": [],
   "source": [
    "#Filling missing values of sex with mode value of dataset which is 0 (female)\n",
    "df['sex'] = df['sex'].fillna(df['sex'].mode()[0])"
   ]
  },
  {
   "cell_type": "code",
   "execution_count": 213,
   "metadata": {},
   "outputs": [
    {
     "data": {
      "text/html": [
       "<div>\n",
       "<style scoped>\n",
       "    .dataframe tbody tr th:only-of-type {\n",
       "        vertical-align: middle;\n",
       "    }\n",
       "\n",
       "    .dataframe tbody tr th {\n",
       "        vertical-align: top;\n",
       "    }\n",
       "\n",
       "    .dataframe thead th {\n",
       "        text-align: right;\n",
       "    }\n",
       "</style>\n",
       "<table border=\"1\" class=\"dataframe\">\n",
       "  <thead>\n",
       "    <tr style=\"text-align: right;\">\n",
       "      <th></th>\n",
       "      <th>modeSex</th>\n",
       "    </tr>\n",
       "    <tr>\n",
       "      <th>education</th>\n",
       "      <th></th>\n",
       "    </tr>\n",
       "  </thead>\n",
       "  <tbody>\n",
       "    <tr>\n",
       "      <th>0</th>\n",
       "      <td>([0], [26])</td>\n",
       "    </tr>\n",
       "    <tr>\n",
       "      <th>1</th>\n",
       "      <td>([0], [1014])</td>\n",
       "    </tr>\n",
       "    <tr>\n",
       "      <th>2</th>\n",
       "      <td>([0], [2908])</td>\n",
       "    </tr>\n",
       "    <tr>\n",
       "      <th>3</th>\n",
       "      <td>([0], [2106])</td>\n",
       "    </tr>\n",
       "  </tbody>\n",
       "</table>\n",
       "</div>"
      ],
      "text/plain": [
       "                 modeSex\n",
       "education               \n",
       "0            ([0], [26])\n",
       "1          ([0], [1014])\n",
       "2          ([0], [2908])\n",
       "3          ([0], [2106])"
      ]
     },
     "execution_count": 213,
     "metadata": {},
     "output_type": "execute_result"
    }
   ],
   "source": [
    "df.groupby(['education'])['sex'].agg([('modeSex', stats.mode)])"
   ]
  },
  {
   "cell_type": "code",
   "execution_count": 214,
   "metadata": {},
   "outputs": [],
   "source": [
    "#Filling missing values of education with mode value of dataset which is 2 (University)\n",
    "df['education'] = df['education'].fillna(df['education'].mode()[0])"
   ]
  },
  {
   "cell_type": "code",
   "execution_count": 215,
   "metadata": {},
   "outputs": [
    {
     "data": {
      "text/html": [
       "<div>\n",
       "<style scoped>\n",
       "    .dataframe tbody tr th:only-of-type {\n",
       "        vertical-align: middle;\n",
       "    }\n",
       "\n",
       "    .dataframe tbody tr th {\n",
       "        vertical-align: top;\n",
       "    }\n",
       "\n",
       "    .dataframe thead th {\n",
       "        text-align: right;\n",
       "    }\n",
       "</style>\n",
       "<table border=\"1\" class=\"dataframe\">\n",
       "  <thead>\n",
       "    <tr style=\"text-align: right;\">\n",
       "      <th></th>\n",
       "      <th></th>\n",
       "      <th>modeStatus</th>\n",
       "    </tr>\n",
       "    <tr>\n",
       "      <th>education</th>\n",
       "      <th>sex</th>\n",
       "      <th></th>\n",
       "    </tr>\n",
       "  </thead>\n",
       "  <tbody>\n",
       "    <tr>\n",
       "      <th rowspan=\"2\" valign=\"top\">0</th>\n",
       "      <th>0</th>\n",
       "      <td>([0], [11])</td>\n",
       "    </tr>\n",
       "    <tr>\n",
       "      <th>1</th>\n",
       "      <td>([0], [3])</td>\n",
       "    </tr>\n",
       "    <tr>\n",
       "      <th rowspan=\"2\" valign=\"top\">1</th>\n",
       "      <th>0</th>\n",
       "      <td>([1], [518])</td>\n",
       "    </tr>\n",
       "    <tr>\n",
       "      <th>1</th>\n",
       "      <td>([1], [282])</td>\n",
       "    </tr>\n",
       "    <tr>\n",
       "      <th rowspan=\"2\" valign=\"top\">2</th>\n",
       "      <th>0</th>\n",
       "      <td>([1], [1250])</td>\n",
       "    </tr>\n",
       "    <tr>\n",
       "      <th>1</th>\n",
       "      <td>([0], [813])</td>\n",
       "    </tr>\n",
       "    <tr>\n",
       "      <th rowspan=\"2\" valign=\"top\">3</th>\n",
       "      <th>0</th>\n",
       "      <td>([0], [1148])</td>\n",
       "    </tr>\n",
       "    <tr>\n",
       "      <th>1</th>\n",
       "      <td>([0], [679])</td>\n",
       "    </tr>\n",
       "  </tbody>\n",
       "</table>\n",
       "</div>"
      ],
      "text/plain": [
       "                  modeStatus\n",
       "education sex               \n",
       "0         0      ([0], [11])\n",
       "          1       ([0], [3])\n",
       "1         0     ([1], [518])\n",
       "          1     ([1], [282])\n",
       "2         0    ([1], [1250])\n",
       "          1     ([0], [813])\n",
       "3         0    ([0], [1148])\n",
       "          1     ([0], [679])"
      ]
     },
     "execution_count": 215,
     "metadata": {},
     "output_type": "execute_result"
    }
   ],
   "source": [
    "#calculating mode value of status based on education and sex\n",
    "df.groupby(['education', 'sex'])['status'].agg([('modeStatus', stats.mode)])"
   ]
  },
  {
   "cell_type": "code",
   "execution_count": 216,
   "metadata": {},
   "outputs": [],
   "source": [
    "#Filling missing values of status based on table we calculated in previous step\n",
    "fill = (df.education == 0) & (df.sex == 0) & (df.status.isnull())\n",
    "df.loc[fill, 'status'] = 0\n",
    "fill = (df.education == 0) & (df.sex == 1) & (df.status.isnull())\n",
    "df.loc[fill, 'status'] = 0\n",
    "fill = (df.education == 1) & (df.sex == 0) & (df.status.isnull())\n",
    "df.loc[fill, 'status'] = 1\n",
    "fill = (df.education == 1) & (df.sex == 1) & (df.status.isnull())\n",
    "df.loc[fill, 'status'] = 1\n",
    "fill = (df.education == 2) & (df.sex == 0) & (df.status.isnull())\n",
    "df.loc[fill, 'status'] = 1\n",
    "fill = (df.education == 2) & (df.sex == 1)& (df.status.isnull())\n",
    "df.loc[fill, 'status'] = 0\n",
    "fill = (df.education == 3) & (df.sex == 0)& (df.status.isnull())\n",
    "df.loc[fill, 'status'] = 0\n",
    "fill = (df.education == 3) & (df.sex == 1)& (df.status.isnull())\n",
    "df.loc[fill, 'status'] = 0"
   ]
  },
  {
   "cell_type": "code",
   "execution_count": 217,
   "metadata": {},
   "outputs": [],
   "source": [
    "#Creating a new column based on sex and status\n",
    "df['sex_status'] = 0\n",
    "df.loc[((df.sex == 1) & (df.status == 1)) , 'sex_status'] = 1 #married man\n",
    "df.loc[((df.sex == 1) & (df.status == 0)) , 'sex_status'] = 2 #single man\n",
    "df.loc[((df.sex == 1) & (df.status == 2)) , 'sex_status'] = 3 #divorced man\n",
    "df.loc[((df.sex == 0) & (df.status == 1)) , 'sex_status'] = 4 #married woman\n",
    "df.loc[((df.sex == 0) & (df.status == 0)) , 'sex_status'] = 5 #single woman\n",
    "df.loc[((df.sex == 0) & (df.status == 2)) , 'sex_status'] = 6 #divorced woman"
   ]
  },
  {
   "cell_type": "code",
   "execution_count": 218,
   "metadata": {},
   "outputs": [],
   "source": [
    "#Removing all rows with age value of -1 to calculate mean value in next step\n",
    "df_temp = df\n",
    "df_temp = df_temp.drop(df_temp[df_temp.age < 21].index)"
   ]
  },
  {
   "cell_type": "code",
   "execution_count": 219,
   "metadata": {},
   "outputs": [
    {
     "data": {
      "text/plain": [
       "sex_status\n",
       "1    41.715616\n",
       "2    33.133429\n",
       "3    43.068966\n",
       "4    37.962737\n",
       "5    31.377128\n",
       "6    41.300000\n",
       "Name: age, dtype: float64"
      ]
     },
     "execution_count": 219,
     "metadata": {},
     "output_type": "execute_result"
    }
   ],
   "source": [
    "#Generating mean value for age based on sex_status\n",
    "df_temp.groupby('sex_status')['age'].mean()"
   ]
  },
  {
   "cell_type": "code",
   "execution_count": 220,
   "metadata": {},
   "outputs": [],
   "source": [
    "#Changing all -1 values of age to mean values generated in previous step.\n",
    "fill = (df.sex_status == 1) & (df.age < 21)\n",
    "df.loc[fill, 'age'] = 41\n",
    "fill = (df.sex_status == 2) & (df.age < 21)\n",
    "df.loc[fill, 'age'] = 33\n",
    "fill = (df.sex_status == 3) & (df.age < 21)\n",
    "df.loc[fill, 'age'] = 43\n",
    "fill = (df.sex_status == 4) & (df.age < 21)\n",
    "df.loc[fill, 'age'] = 37\n",
    "fill = (df.sex_status == 5) & (df.age < 21)\n",
    "df.loc[fill, 'age'] = 31\n",
    "fill = (df.sex_status == 6) & (df.age < 21)\n",
    "df.loc[fill, 'age'] = 41"
   ]
  },
  {
   "cell_type": "code",
   "execution_count": 221,
   "metadata": {},
   "outputs": [],
   "source": [
    "df['expense-may'] = df['ba-may']-(df['ba-apr']-df['pa-may'])\n",
    "df['expense-jun'] = df['ba-jun']-(df['ba-may']-df['pa-jun'])\n",
    "df['expense-jul'] = df['ba-jul']-(df['ba-jun']-df['pa-jul'])\n",
    "df['expense-aug'] = df['ba-aug']-(df['ba-jul']-df['pa-aug'])\n",
    "df['expense-sep'] = df['ba-sep']-(df['ba-aug']-df['pa-sep'])\n",
    "df['avg-expense'] = (df['expense-may'] + df['expense-jun'] + df['expense-jul'] + df['expense-aug'] + df['expense-sep'])/5\n",
    "# df[['limit', 'expense-may', 'expense-jun', 'expense-jul', 'expense-aug', 'expense-sep', 'credit_default']].head(5)"
   ]
  },
  {
   "cell_type": "code",
   "execution_count": 222,
   "metadata": {},
   "outputs": [],
   "source": [
    "df['debt-apr'] = df['ba-apr']-df['pa-may']\n",
    "df['debt-may'] = df['ba-may']-df['pa-jun'] + df['debt-apr']\n",
    "df['debt-jun'] = df['ba-jun']-df['pa-jul'] + df['debt-may']\n",
    "df['debt-jul'] = df['ba-jul']-df['pa-aug'] + df['debt-jun']\n",
    "df['debt-aug'] = df['ba-aug']-df['pa-sep'] + df['debt-jul']\n",
    "\n",
    "df['avg-debt'] = (df['debt-apr']+df['debt-may']+df['debt-jun']+df['debt-jul']+df['debt-aug'])/5\n",
    "df['missed-payments'] = df[['ps-apr', 'ps-may', 'ps-jun', 'ps-jul', 'ps-aug', 'ps-sep']].max(axis=1)\n",
    "df['avg-debt-to-limit-ratio'] = df['avg-debt']/df['limit']\n",
    "df['avg-expense-to-limit-ratio'] = df['avg-expense']/df['limit']\n",
    "# df[['limit','missed-payments','avg-debt','avg-debt-to-limit-ratio','credit_default']].sample(10)"
   ]
  },
  {
   "cell_type": "code",
   "execution_count": 223,
   "metadata": {},
   "outputs": [],
   "source": [
    "df['avg-ba'] = (df['ba-apr']+df['ba-may']+df['ba-jun']+df['ba-jul']+df['ba-aug']+df['ba-sep'])/6\n",
    "df['avg-pa'] = (df['pa-apr']+df['pa-may']+df['pa-jun']+df['pa-jul']+df['pa-aug']+df['pa-sep'])/6"
   ]
  },
  {
   "cell_type": "code",
   "execution_count": 224,
   "metadata": {},
   "outputs": [],
   "source": [
    "df['missed-payments'] = df[['ps-apr', 'ps-may', 'ps-jun', 'ps-jul', 'ps-aug', 'ps-sep']].max(axis=1)"
   ]
  },
  {
   "cell_type": "markdown",
   "metadata": {},
   "source": [
    "# Pattern Rules"
   ]
  },
  {
   "cell_type": "code",
   "execution_count": 225,
   "metadata": {},
   "outputs": [],
   "source": [
    "#df.isnull().sum()"
   ]
  },
  {
   "cell_type": "code",
   "execution_count": 226,
   "metadata": {},
   "outputs": [],
   "source": [
    "# Using just usefull attributes \n",
    "\n",
    "df = df[['limit', 'sex','education', 'status','age','pa-sep', 'ba-sep', 'credit_default', 'missed-payments']].copy()\n",
    "#dfp.head()"
   ]
  },
  {
   "cell_type": "markdown",
   "metadata": {},
   "source": [
    "Ritrasformazione dei numeri in nomi"
   ]
  },
  {
   "cell_type": "code",
   "execution_count": 227,
   "metadata": {},
   "outputs": [],
   "source": [
    "# Change sex attribute\n",
    "\n",
    "df.loc[(df.sex == 0), 'sex'] = \"male\"\n",
    "df.loc[(df.sex == 1), 'sex'] = \"female\""
   ]
  },
  {
   "cell_type": "code",
   "execution_count": 228,
   "metadata": {},
   "outputs": [],
   "source": [
    "# Change credit_default attribute\n",
    "df.loc[(df.credit_default == 0 ), 'credit_default'] = \"no\"\n",
    "df.loc[(df.credit_default == 1 ), 'credit_default'] = \"yes\""
   ]
  },
  {
   "cell_type": "code",
   "execution_count": 229,
   "metadata": {},
   "outputs": [],
   "source": [
    "# Change status attribute\n",
    "\n",
    "df.loc[(df.status == 0 ), 'status'] = \"Single\"\n",
    "df.loc[(df.status == 1 ), 'status'] = \"Married\"\n",
    "df.loc[(df.status == 2 ), 'status'] = \"Others\""
   ]
  },
  {
   "cell_type": "code",
   "execution_count": 230,
   "metadata": {},
   "outputs": [],
   "source": [
    "# Change education attribute\n",
    "\n",
    "df.loc[(df.education == 0 ), 'education'] = \"Others\"\n",
    "df.loc[(df.education == 1 ), 'education'] = \"High School\"\n",
    "df.loc[(df.education == 2 ), 'education'] = \"University\"\n",
    "df.loc[(df.education == 3 ), 'education'] = \"Graduate School\""
   ]
  },
  {
   "cell_type": "code",
   "execution_count": 231,
   "metadata": {},
   "outputs": [],
   "source": [
    "# Per una migliore interpretazione trasformo l'attributo missed-payments \n",
    "\n",
    "df.loc[(df['missed-payments'] >= 2), 'missed-payments'] = \"pay_delay_more_than_2_month\"\n",
    "df.loc[(df['missed-payments'] ==  -1 ), 'missed-payments'] = \"pay_duly\" \n",
    "df.loc[(df[\"missed-payments\"] ==  -2 ), 'missed-payments'] = \"pay_duly\" \n",
    "df.loc[(df[\"missed-payments\"] == 0 ), 'missed-payments'] = \"pay_duly\" \n",
    "df.loc[(df['missed-payments'] == 1 ), 'missed-payments'] = \"pay_delay_1_month\"\n"
   ]
  },
  {
   "cell_type": "code",
   "execution_count": 232,
   "metadata": {},
   "outputs": [
    {
     "data": {
      "text/plain": [
       "pay_duly                       6635\n",
       "pay_delay_more_than_2_month    2768\n",
       "pay_delay_1_month               597\n",
       "Name: missed-payments, dtype: int64"
      ]
     },
     "execution_count": 232,
     "metadata": {},
     "output_type": "execute_result"
    }
   ],
   "source": [
    "df['missed-payments'].value_counts()"
   ]
  },
  {
   "cell_type": "code",
   "execution_count": 233,
   "metadata": {},
   "outputs": [
    {
     "data": {
      "text/html": [
       "<div>\n",
       "<style scoped>\n",
       "    .dataframe tbody tr th:only-of-type {\n",
       "        vertical-align: middle;\n",
       "    }\n",
       "\n",
       "    .dataframe tbody tr th {\n",
       "        vertical-align: top;\n",
       "    }\n",
       "\n",
       "    .dataframe thead th {\n",
       "        text-align: right;\n",
       "    }\n",
       "</style>\n",
       "<table border=\"1\" class=\"dataframe\">\n",
       "  <thead>\n",
       "    <tr style=\"text-align: right;\">\n",
       "      <th></th>\n",
       "      <th>limit</th>\n",
       "      <th>sex</th>\n",
       "      <th>education</th>\n",
       "      <th>status</th>\n",
       "      <th>age</th>\n",
       "      <th>pa-sep</th>\n",
       "      <th>ba-sep</th>\n",
       "      <th>credit_default</th>\n",
       "      <th>missed-payments</th>\n",
       "    </tr>\n",
       "  </thead>\n",
       "  <tbody>\n",
       "    <tr>\n",
       "      <th>0</th>\n",
       "      <td>50000</td>\n",
       "      <td>female</td>\n",
       "      <td>Graduate School</td>\n",
       "      <td>Single</td>\n",
       "      <td>25</td>\n",
       "      <td>2130</td>\n",
       "      <td>48966</td>\n",
       "      <td>no</td>\n",
       "      <td>pay_delay_more_than_2_month</td>\n",
       "    </tr>\n",
       "    <tr>\n",
       "      <th>1</th>\n",
       "      <td>200000</td>\n",
       "      <td>female</td>\n",
       "      <td>University</td>\n",
       "      <td>Married</td>\n",
       "      <td>54</td>\n",
       "      <td>10120</td>\n",
       "      <td>10755</td>\n",
       "      <td>no</td>\n",
       "      <td>pay_duly</td>\n",
       "    </tr>\n",
       "    <tr>\n",
       "      <th>2</th>\n",
       "      <td>30000</td>\n",
       "      <td>male</td>\n",
       "      <td>High School</td>\n",
       "      <td>Married</td>\n",
       "      <td>37</td>\n",
       "      <td>0</td>\n",
       "      <td>30057</td>\n",
       "      <td>no</td>\n",
       "      <td>pay_delay_more_than_2_month</td>\n",
       "    </tr>\n",
       "    <tr>\n",
       "      <th>3</th>\n",
       "      <td>140000</td>\n",
       "      <td>male</td>\n",
       "      <td>University</td>\n",
       "      <td>Single</td>\n",
       "      <td>31</td>\n",
       "      <td>2000</td>\n",
       "      <td>56426</td>\n",
       "      <td>no</td>\n",
       "      <td>pay_duly</td>\n",
       "    </tr>\n",
       "    <tr>\n",
       "      <th>4</th>\n",
       "      <td>60000</td>\n",
       "      <td>male</td>\n",
       "      <td>High School</td>\n",
       "      <td>Married</td>\n",
       "      <td>36</td>\n",
       "      <td>1788</td>\n",
       "      <td>47987</td>\n",
       "      <td>yes</td>\n",
       "      <td>pay_delay_more_than_2_month</td>\n",
       "    </tr>\n",
       "  </tbody>\n",
       "</table>\n",
       "</div>"
      ],
      "text/plain": [
       "    limit     sex        education   status  age  pa-sep  ba-sep  \\\n",
       "0   50000  female  Graduate School   Single   25    2130   48966   \n",
       "1  200000  female       University  Married   54   10120   10755   \n",
       "2   30000    male      High School  Married   37       0   30057   \n",
       "3  140000    male       University   Single   31    2000   56426   \n",
       "4   60000    male      High School  Married   36    1788   47987   \n",
       "\n",
       "  credit_default              missed-payments  \n",
       "0             no  pay_delay_more_than_2_month  \n",
       "1             no                     pay_duly  \n",
       "2             no  pay_delay_more_than_2_month  \n",
       "3             no                     pay_duly  \n",
       "4            yes  pay_delay_more_than_2_month  "
      ]
     },
     "execution_count": 233,
     "metadata": {},
     "output_type": "execute_result"
    }
   ],
   "source": [
    "df.head()"
   ]
  },
  {
   "cell_type": "code",
   "execution_count": null,
   "metadata": {},
   "outputs": [],
   "source": []
  },
  {
   "cell_type": "markdown",
   "metadata": {},
   "source": [
    "Discretizzazione delle variabili continue"
   ]
  },
  {
   "cell_type": "code",
   "execution_count": 234,
   "metadata": {},
   "outputs": [],
   "source": [
    "from sklearn.preprocessing import KBinsDiscretizer\n",
    "from fim import apriori\n"
   ]
  },
  {
   "cell_type": "code",
   "execution_count": 235,
   "metadata": {},
   "outputs": [],
   "source": [
    "discr= KBinsDiscretizer(n_bins=8,encode='ordinal',strategy='quantile')"
   ]
  },
  {
   "cell_type": "code",
   "execution_count": 236,
   "metadata": {},
   "outputs": [],
   "source": [
    "continuous_attributes=['age','pa-sep','ba-sep', 'limit']\n"
   ]
  },
  {
   "cell_type": "code",
   "execution_count": 237,
   "metadata": {},
   "outputs": [],
   "source": [
    "for attribute in continuous_attributes:\n",
    "    X=np.array(df[attribute])\n",
    "    X = X.reshape(-1, 1)\n",
    "    X=discr.fit_transform(X)\n",
    "    discr_attributes=attribute+'_discr'\n",
    "    df[discr_attributes]=X\n",
    "    "
   ]
  },
  {
   "cell_type": "code",
   "execution_count": 238,
   "metadata": {},
   "outputs": [],
   "source": [
    "# Variabili che utilizzo per il pattern mining\n",
    "attributes=['age_discr','pa-sep_discr','ba-sep_discr', 'missed-payments', 'limit_discr', 'sex','education', 'status', 'credit_default']\n"
   ]
  },
  {
   "cell_type": "code",
   "execution_count": 239,
   "metadata": {},
   "outputs": [],
   "source": [
    "#definisco i nuovi attributi per avere unicità\n",
    "new_attributes=list()\n",
    "for colonna in attributes:\n",
    "    new_colonna=colonna+'_new'\n",
    "    new_attributes.append(new_colonna)\n",
    "    df[new_colonna] = df[colonna].astype(str) + new_colonna\n",
    "    \n",
    "df1=df[new_attributes]\n",
    "baskets = df1.values.tolist()"
   ]
  },
  {
   "cell_type": "code",
   "execution_count": 240,
   "metadata": {},
   "outputs": [],
   "source": [
    "#funzione per ordinare gli itemsets per il support\n",
    "def getKey(item):\n",
    "    return item[1]"
   ]
  },
  {
   "cell_type": "code",
   "execution_count": 241,
   "metadata": {},
   "outputs": [],
   "source": [
    "#estrazione itemsets\n",
    "itemsets = apriori(baskets, supp= 10, zmin=2, target='s')"
   ]
  },
  {
   "cell_type": "code",
   "execution_count": 242,
   "metadata": {},
   "outputs": [
    {
     "name": "stdout",
     "output_type": "stream",
     "text": [
      "[(('pay_dulymissed-payments_new', 'nocredit_default_new'), 5891), (('malesex_new', 'nocredit_default_new'), 4884), (('Singlestatus_new', 'nocredit_default_new'), 4198), (('malesex_new', 'pay_dulymissed-payments_new'), 4121), (('malesex_new', 'pay_dulymissed-payments_new', 'nocredit_default_new'), 3688), (('Universityeducation_new', 'nocredit_default_new'), 3655), (('Singlestatus_new', 'pay_dulymissed-payments_new'), 3550), (('Marriedstatus_new', 'nocredit_default_new'), 3540), (('Singlestatus_new', 'pay_dulymissed-payments_new', 'nocredit_default_new'), 3183), (('Universityeducation_new', 'pay_dulymissed-payments_new'), 3144), (('Marriedstatus_new', 'malesex_new'), 3086), (('Marriedstatus_new', 'pay_dulymissed-payments_new'), 3040), (('Singlestatus_new', 'malesex_new'), 3003), (('Universityeducation_new', 'malesex_new'), 2986), (('femalesex_new', 'nocredit_default_new'), 2904), (('Graduate Schooleducation_new', 'nocredit_default_new'), 2813), (('Universityeducation_new', 'pay_dulymissed-payments_new', 'nocredit_default_new'), 2772), (('Marriedstatus_new', 'pay_dulymissed-payments_new', 'nocredit_default_new'), 2673), (('femalesex_new', 'pay_dulymissed-payments_new'), 2514), (('Marriedstatus_new', 'Universityeducation_new'), 2477), (('Singlestatus_new', 'malesex_new', 'nocredit_default_new'), 2448), (('Graduate Schooleducation_new', 'Singlestatus_new'), 2446), (('Graduate Schooleducation_new', 'pay_dulymissed-payments_new'), 2421), (('Marriedstatus_new', 'malesex_new', 'nocredit_default_new'), 2405), (('Universityeducation_new', 'malesex_new', 'nocredit_default_new'), 2316), (('femalesex_new', 'Singlestatus_new'), 2297), (('Universityeducation_new', 'Singlestatus_new'), 2295), (('femalesex_new', 'pay_dulymissed-payments_new', 'nocredit_default_new'), 2203), (('Graduate Schooleducation_new', 'pay_dulymissed-payments_new', 'nocredit_default_new'), 2168), (('Graduate Schooleducation_new', 'malesex_new'), 2106), (('Singlestatus_new', 'malesex_new', 'pay_dulymissed-payments_new'), 2070), (('Marriedstatus_new', 'malesex_new', 'pay_dulymissed-payments_new'), 2026), (('Graduate Schooleducation_new', 'Singlestatus_new', 'nocredit_default_new'), 2003), (('Universityeducation_new', 'malesex_new', 'pay_dulymissed-payments_new'), 1987), (('Marriedstatus_new', 'Universityeducation_new', 'nocredit_default_new'), 1878), (('Singlestatus_new', 'malesex_new', 'pay_dulymissed-payments_new', 'nocredit_default_new'), 1869), (('femalesex_new', 'Universityeducation_new'), 1826), (('Marriedstatus_new', 'Universityeducation_new', 'malesex_new'), 1803), (('Marriedstatus_new', 'malesex_new', 'pay_dulymissed-payments_new', 'nocredit_default_new'), 1800), (('Universityeducation_new', 'malesex_new', 'pay_dulymissed-payments_new', 'nocredit_default_new'), 1759), (('Universityeducation_new', 'Singlestatus_new', 'nocredit_default_new'), 1752), (('femalesex_new', 'Singlestatus_new', 'nocredit_default_new'), 1750), (('Graduate Schooleducation_new', 'malesex_new', 'nocredit_default_new'), 1743), (('Graduate Schooleducation_new', 'Singlestatus_new', 'pay_dulymissed-payments_new'), 1702), (('1.0pa-sep_discr_new', 'nocredit_default_new'), 1698), (('Marriedstatus_new', 'Universityeducation_new', 'pay_dulymissed-payments_new'), 1631), (('pay_delay_more_than_2_monthmissed-payments_new', 'malesex_new'), 1611), (('2.0limit_discr_new', 'nocredit_default_new'), 1601), (('1.0pa-sep_discr_new', 'malesex_new'), 1544), (('Graduate Schooleducation_new', 'Singlestatus_new', 'malesex_new'), 1542), (('Graduate Schooleducation_new', 'Singlestatus_new', 'pay_dulymissed-payments_new', 'nocredit_default_new'), 1540), (('femalesex_new', 'Marriedstatus_new'), 1539), (('Universityeducation_new', 'Singlestatus_new', 'pay_dulymissed-payments_new'), 1488), (('femalesex_new', 'Singlestatus_new', 'pay_dulymissed-payments_new'), 1480), (('Graduate Schooleducation_new', 'malesex_new', 'pay_dulymissed-payments_new'), 1475), (('pay_delay_more_than_2_monthmissed-payments_new', 'Universityeducation_new'), 1450), (('pay_delay_more_than_2_monthmissed-payments_new', 'nocredit_default_new'), 1448), (('Marriedstatus_new', 'Universityeducation_new', 'pay_dulymissed-payments_new', 'nocredit_default_new'), 1433), (('pay_delay_more_than_2_monthmissed-payments_new', 'Singlestatus_new'), 1426), (('Marriedstatus_new', 'Universityeducation_new', 'malesex_new', 'nocredit_default_new'), 1385), (('Graduate Schooleducation_new', 'femalesex_new'), 1374), (('2.0limit_discr_new', 'pay_dulymissed-payments_new'), 1347), (('femalesex_new', 'Universityeducation_new', 'nocredit_default_new'), 1339), (('Graduate Schooleducation_new', 'malesex_new', 'pay_dulymissed-payments_new', 'nocredit_default_new'), 1336), (('Universityeducation_new', 'Singlestatus_new', 'pay_dulymissed-payments_new', 'nocredit_default_new'), 1321), (('yescredit_default_new', 'pay_delay_more_than_2_monthmissed-payments_new'), 1320), (('pay_delay_more_than_2_monthmissed-payments_new', 'Marriedstatus_new'), 1316), (('femalesex_new', 'Singlestatus_new', 'pay_dulymissed-payments_new', 'nocredit_default_new'), 1314), (('2.0limit_discr_new', 'malesex_new'), 1293), (('High Schooleducation_new', 'nocredit_default_new'), 1286), (('Graduate Schooleducation_new', 'Singlestatus_new', 'malesex_new', 'nocredit_default_new'), 1286), (('1.0pa-sep_discr_new', 'Singlestatus_new'), 1277), (('yescredit_default_new', 'malesex_new'), 1248), (('3.0age_discr_new', 'nocredit_default_new'), 1228), (('1.0pa-sep_discr_new', 'Marriedstatus_new'), 1211), (('2.0limit_discr_new', 'Universityeducation_new'), 1198), (('Marriedstatus_new', 'Universityeducation_new', 'malesex_new', 'pay_dulymissed-payments_new'), 1185), (('2.0limit_discr_new', 'Singlestatus_new'), 1179), (('2.0limit_discr_new', 'pay_dulymissed-payments_new', 'nocredit_default_new'), 1169), (('yescredit_default_new', 'Universityeducation_new'), 1157), (('pay_delay_more_than_2_monthmissed-payments_new', 'femalesex_new'), 1157), (('femalesex_new', 'Universityeducation_new', 'pay_dulymissed-payments_new'), 1157), (('Universityeducation_new', 'Singlestatus_new', 'malesex_new'), 1156), (('5.0age_discr_new', 'nocredit_default_new'), 1146), (('femalesex_new', 'Universityeducation_new', 'Singlestatus_new'), 1139), (('femalesex_new', 'Marriedstatus_new', 'nocredit_default_new'), 1135), (('6.0limit_discr_new', 'nocredit_default_new'), 1126), (('3.0age_discr_new', 'Singlestatus_new'), 1115), (('High Schooleducation_new', 'Marriedstatus_new'), 1115), (('7.0pa-sep_discr_new', 'nocredit_default_new'), 1104), (('yescredit_default_new', 'Singlestatus_new'), 1102), (('7.0limit_discr_new', 'nocredit_default_new'), 1099), (('4.0limit_discr_new', 'nocredit_default_new'), 1097), (('1.0pa-sep_discr_new', 'malesex_new', 'nocredit_default_new'), 1096), (('1.0pa-sep_discr_new', 'Universityeducation_new'), 1093), (('yescredit_default_new', 'Marriedstatus_new'), 1085), (('Graduate Schooleducation_new', 'Singlestatus_new', 'malesex_new', 'pay_dulymissed-payments_new'), 1083), (('Graduate Schooleducation_new', 'femalesex_new', 'nocredit_default_new'), 1070), (('6.0pa-sep_discr_new', 'nocredit_default_new'), 1066), (('5.0pa-sep_discr_new', 'nocredit_default_new'), 1056), (('1.0pa-sep_discr_new', 'pay_dulymissed-payments_new'), 1050), (('Marriedstatus_new', 'Universityeducation_new', 'malesex_new', 'pay_dulymissed-payments_new', 'nocredit_default_new'), 1045), (('7.0age_discr_new', 'nocredit_default_new'), 1044), (('High Schooleducation_new', 'pay_dulymissed-payments_new'), 1042), (('3.0age_discr_new', 'pay_dulymissed-payments_new'), 1028), (('7.0pa-sep_discr_new', 'pay_dulymissed-payments_new'), 1027), (('7.0limit_discr_new', 'pay_dulymissed-payments_new'), 1027), (('Graduate Schooleducation_new', 'Marriedstatus_new'), 1021), (('6.0limit_discr_new', 'pay_dulymissed-payments_new'), 1016), (('High Schooleducation_new', 'malesex_new'), 1014), (('femalesex_new', 'Marriedstatus_new', 'pay_dulymissed-payments_new'), 1014), (('7.0ba-sep_discr_new', 'nocredit_default_new'), 1013), (('femalesex_new', 'Universityeducation_new', 'pay_dulymissed-payments_new', 'nocredit_default_new'), 1013), (('5.0limit_discr_new', 'nocredit_default_new'), 1012), (('6.0ba-sep_discr_new', 'nocredit_default_new'), 1009), (('5.0age_discr_new', 'pay_dulymissed-payments_new'), 1008), (('7.0age_discr_new', 'Marriedstatus_new'), 1003), (('5.0age_discr_new', 'Marriedstatus_new'), 1003)]\n"
     ]
    }
   ],
   "source": [
    "#ordino itemsets per support in ordine decrescente\n",
    "itemsets=sorted(itemsets,key=getKey,reverse=True)\n",
    "print(itemsets)"
   ]
  },
  {
   "cell_type": "code",
   "execution_count": 243,
   "metadata": {},
   "outputs": [],
   "source": [
    "#funzione per ordinare gli rules per lift\n",
    "def getKey(item):\n",
    "    return item[1]\n"
   ]
  },
  {
   "cell_type": "code",
   "execution_count": 244,
   "metadata": {},
   "outputs": [],
   "source": [
    "#estrazione regole\n",
    "rules = apriori(baskets, supp=2, zmin=2, target='r', conf= 30,\n",
    "                report='ascl')"
   ]
  },
  {
   "cell_type": "code",
   "execution_count": 245,
   "metadata": {},
   "outputs": [
    {
     "name": "stdout",
     "output_type": "stream",
     "text": [
      "[(('pay_dulymissed-payments_new', 'nocredit_default_new'), 5891), (('malesex_new', 'nocredit_default_new'), 4884), (('Singlestatus_new', 'nocredit_default_new'), 4198), (('malesex_new', 'pay_dulymissed-payments_new'), 4121), (('malesex_new', 'pay_dulymissed-payments_new', 'nocredit_default_new'), 3688), (('Universityeducation_new', 'nocredit_default_new'), 3655), (('Singlestatus_new', 'pay_dulymissed-payments_new'), 3550), (('Marriedstatus_new', 'nocredit_default_new'), 3540), (('Singlestatus_new', 'pay_dulymissed-payments_new', 'nocredit_default_new'), 3183), (('Universityeducation_new', 'pay_dulymissed-payments_new'), 3144), (('Marriedstatus_new', 'malesex_new'), 3086), (('Marriedstatus_new', 'pay_dulymissed-payments_new'), 3040), (('Singlestatus_new', 'malesex_new'), 3003), (('Universityeducation_new', 'malesex_new'), 2986), (('femalesex_new', 'nocredit_default_new'), 2904), (('Graduate Schooleducation_new', 'nocredit_default_new'), 2813), (('Universityeducation_new', 'pay_dulymissed-payments_new', 'nocredit_default_new'), 2772), (('Marriedstatus_new', 'pay_dulymissed-payments_new', 'nocredit_default_new'), 2673), (('femalesex_new', 'pay_dulymissed-payments_new'), 2514), (('Marriedstatus_new', 'Universityeducation_new'), 2477), (('Singlestatus_new', 'malesex_new', 'nocredit_default_new'), 2448), (('Graduate Schooleducation_new', 'Singlestatus_new'), 2446), (('Graduate Schooleducation_new', 'pay_dulymissed-payments_new'), 2421), (('Marriedstatus_new', 'malesex_new', 'nocredit_default_new'), 2405), (('Universityeducation_new', 'malesex_new', 'nocredit_default_new'), 2316), (('femalesex_new', 'Singlestatus_new'), 2297), (('Universityeducation_new', 'Singlestatus_new'), 2295), (('femalesex_new', 'pay_dulymissed-payments_new', 'nocredit_default_new'), 2203), (('Graduate Schooleducation_new', 'pay_dulymissed-payments_new', 'nocredit_default_new'), 2168), (('Graduate Schooleducation_new', 'malesex_new'), 2106), (('Singlestatus_new', 'malesex_new', 'pay_dulymissed-payments_new'), 2070), (('Marriedstatus_new', 'malesex_new', 'pay_dulymissed-payments_new'), 2026), (('Graduate Schooleducation_new', 'Singlestatus_new', 'nocredit_default_new'), 2003), (('Universityeducation_new', 'malesex_new', 'pay_dulymissed-payments_new'), 1987), (('Marriedstatus_new', 'Universityeducation_new', 'nocredit_default_new'), 1878), (('Singlestatus_new', 'malesex_new', 'pay_dulymissed-payments_new', 'nocredit_default_new'), 1869), (('femalesex_new', 'Universityeducation_new'), 1826), (('Marriedstatus_new', 'Universityeducation_new', 'malesex_new'), 1803), (('Marriedstatus_new', 'malesex_new', 'pay_dulymissed-payments_new', 'nocredit_default_new'), 1800), (('Universityeducation_new', 'malesex_new', 'pay_dulymissed-payments_new', 'nocredit_default_new'), 1759), (('Universityeducation_new', 'Singlestatus_new', 'nocredit_default_new'), 1752), (('femalesex_new', 'Singlestatus_new', 'nocredit_default_new'), 1750), (('Graduate Schooleducation_new', 'malesex_new', 'nocredit_default_new'), 1743), (('Graduate Schooleducation_new', 'Singlestatus_new', 'pay_dulymissed-payments_new'), 1702), (('1.0pa-sep_discr_new', 'nocredit_default_new'), 1698), (('Marriedstatus_new', 'Universityeducation_new', 'pay_dulymissed-payments_new'), 1631), (('pay_delay_more_than_2_monthmissed-payments_new', 'malesex_new'), 1611), (('2.0limit_discr_new', 'nocredit_default_new'), 1601), (('1.0pa-sep_discr_new', 'malesex_new'), 1544), (('Graduate Schooleducation_new', 'Singlestatus_new', 'malesex_new'), 1542), (('Graduate Schooleducation_new', 'Singlestatus_new', 'pay_dulymissed-payments_new', 'nocredit_default_new'), 1540), (('femalesex_new', 'Marriedstatus_new'), 1539), (('Universityeducation_new', 'Singlestatus_new', 'pay_dulymissed-payments_new'), 1488), (('femalesex_new', 'Singlestatus_new', 'pay_dulymissed-payments_new'), 1480), (('Graduate Schooleducation_new', 'malesex_new', 'pay_dulymissed-payments_new'), 1475), (('pay_delay_more_than_2_monthmissed-payments_new', 'Universityeducation_new'), 1450), (('pay_delay_more_than_2_monthmissed-payments_new', 'nocredit_default_new'), 1448), (('Marriedstatus_new', 'Universityeducation_new', 'pay_dulymissed-payments_new', 'nocredit_default_new'), 1433), (('pay_delay_more_than_2_monthmissed-payments_new', 'Singlestatus_new'), 1426), (('Marriedstatus_new', 'Universityeducation_new', 'malesex_new', 'nocredit_default_new'), 1385), (('Graduate Schooleducation_new', 'femalesex_new'), 1374), (('2.0limit_discr_new', 'pay_dulymissed-payments_new'), 1347), (('femalesex_new', 'Universityeducation_new', 'nocredit_default_new'), 1339), (('Graduate Schooleducation_new', 'malesex_new', 'pay_dulymissed-payments_new', 'nocredit_default_new'), 1336), (('Universityeducation_new', 'Singlestatus_new', 'pay_dulymissed-payments_new', 'nocredit_default_new'), 1321), (('yescredit_default_new', 'pay_delay_more_than_2_monthmissed-payments_new'), 1320), (('pay_delay_more_than_2_monthmissed-payments_new', 'Marriedstatus_new'), 1316), (('femalesex_new', 'Singlestatus_new', 'pay_dulymissed-payments_new', 'nocredit_default_new'), 1314), (('2.0limit_discr_new', 'malesex_new'), 1293), (('High Schooleducation_new', 'nocredit_default_new'), 1286), (('Graduate Schooleducation_new', 'Singlestatus_new', 'malesex_new', 'nocredit_default_new'), 1286), (('1.0pa-sep_discr_new', 'Singlestatus_new'), 1277), (('yescredit_default_new', 'malesex_new'), 1248), (('3.0age_discr_new', 'nocredit_default_new'), 1228), (('1.0pa-sep_discr_new', 'Marriedstatus_new'), 1211), (('2.0limit_discr_new', 'Universityeducation_new'), 1198), (('Marriedstatus_new', 'Universityeducation_new', 'malesex_new', 'pay_dulymissed-payments_new'), 1185), (('2.0limit_discr_new', 'Singlestatus_new'), 1179), (('2.0limit_discr_new', 'pay_dulymissed-payments_new', 'nocredit_default_new'), 1169), (('yescredit_default_new', 'Universityeducation_new'), 1157), (('pay_delay_more_than_2_monthmissed-payments_new', 'femalesex_new'), 1157), (('femalesex_new', 'Universityeducation_new', 'pay_dulymissed-payments_new'), 1157), (('Universityeducation_new', 'Singlestatus_new', 'malesex_new'), 1156), (('5.0age_discr_new', 'nocredit_default_new'), 1146), (('femalesex_new', 'Universityeducation_new', 'Singlestatus_new'), 1139), (('femalesex_new', 'Marriedstatus_new', 'nocredit_default_new'), 1135), (('6.0limit_discr_new', 'nocredit_default_new'), 1126), (('3.0age_discr_new', 'Singlestatus_new'), 1115), (('High Schooleducation_new', 'Marriedstatus_new'), 1115), (('7.0pa-sep_discr_new', 'nocredit_default_new'), 1104), (('yescredit_default_new', 'Singlestatus_new'), 1102), (('7.0limit_discr_new', 'nocredit_default_new'), 1099), (('4.0limit_discr_new', 'nocredit_default_new'), 1097), (('1.0pa-sep_discr_new', 'malesex_new', 'nocredit_default_new'), 1096), (('1.0pa-sep_discr_new', 'Universityeducation_new'), 1093), (('yescredit_default_new', 'Marriedstatus_new'), 1085), (('Graduate Schooleducation_new', 'Singlestatus_new', 'malesex_new', 'pay_dulymissed-payments_new'), 1083), (('Graduate Schooleducation_new', 'femalesex_new', 'nocredit_default_new'), 1070), (('6.0pa-sep_discr_new', 'nocredit_default_new'), 1066), (('5.0pa-sep_discr_new', 'nocredit_default_new'), 1056), (('1.0pa-sep_discr_new', 'pay_dulymissed-payments_new'), 1050), (('Marriedstatus_new', 'Universityeducation_new', 'malesex_new', 'pay_dulymissed-payments_new', 'nocredit_default_new'), 1045), (('7.0age_discr_new', 'nocredit_default_new'), 1044), (('High Schooleducation_new', 'pay_dulymissed-payments_new'), 1042), (('3.0age_discr_new', 'pay_dulymissed-payments_new'), 1028), (('7.0pa-sep_discr_new', 'pay_dulymissed-payments_new'), 1027), (('7.0limit_discr_new', 'pay_dulymissed-payments_new'), 1027), (('Graduate Schooleducation_new', 'Marriedstatus_new'), 1021), (('6.0limit_discr_new', 'pay_dulymissed-payments_new'), 1016), (('High Schooleducation_new', 'malesex_new'), 1014), (('femalesex_new', 'Marriedstatus_new', 'pay_dulymissed-payments_new'), 1014), (('7.0ba-sep_discr_new', 'nocredit_default_new'), 1013), (('femalesex_new', 'Universityeducation_new', 'pay_dulymissed-payments_new', 'nocredit_default_new'), 1013), (('5.0limit_discr_new', 'nocredit_default_new'), 1012), (('6.0ba-sep_discr_new', 'nocredit_default_new'), 1009), (('5.0age_discr_new', 'pay_dulymissed-payments_new'), 1008), (('7.0age_discr_new', 'Marriedstatus_new'), 1003), (('5.0age_discr_new', 'Marriedstatus_new'), 1003)]\n"
     ]
    }
   ],
   "source": [
    "#ordino rules per support in ordine decrescente\n",
    "itemsets=sorted(itemsets,key=getKey,reverse=True)\n",
    "print(itemsets)"
   ]
  },
  {
   "cell_type": "code",
   "execution_count": 246,
   "metadata": {},
   "outputs": [],
   "source": [
    "#help(apriori)"
   ]
  },
  {
   "cell_type": "code",
   "execution_count": 247,
   "metadata": {},
   "outputs": [
    {
     "name": "stdout",
     "output_type": "stream",
     "text": [
      "Number of rule: 13411\n"
     ]
    }
   ],
   "source": [
    "print('Number of rule:', len(rules))"
   ]
  },
  {
   "cell_type": "markdown",
   "metadata": {},
   "source": [
    "Regular expression"
   ]
  },
  {
   "cell_type": "code",
   "execution_count": 248,
   "metadata": {},
   "outputs": [],
   "source": [
    "import re"
   ]
  },
  {
   "cell_type": "code",
   "execution_count": 249,
   "metadata": {},
   "outputs": [
    {
     "name": "stdout",
     "output_type": "stream",
     "text": [
      "(('yescredit_default_new', 'pay_delay_more_than_2_monthmissed-payments_new'), 1320)\n",
      "(('yescredit_default_new', 'malesex_new'), 1248)\n",
      "(('yescredit_default_new', 'Universityeducation_new'), 1157)\n",
      "(('yescredit_default_new', 'Singlestatus_new'), 1102)\n",
      "(('yescredit_default_new', 'Marriedstatus_new'), 1085)\n",
      "Itemsets trovati:  5\n"
     ]
    }
   ],
   "source": [
    "\n",
    "cont=0\n",
    "#questo ciclo serve per trovare tutti gli itemsets che al loro interno contengono un item con una certa stringa di caratteri\n",
    "for i in range(len(itemsets)):\n",
    "    for item in itemsets[i][0]:\n",
    "        #cerca all'interno di un item la stringa credit_default, se metti 'nocredit_default' avrai solo i credit_default=no\n",
    "        m1 = re.search('yescredit_default_new',item)\n",
    "        if m1:\n",
    "            print(itemsets[i])\n",
    "            cont+=1\n",
    "            \n",
    "print('Itemsets trovati: ',cont)"
   ]
  },
  {
   "cell_type": "code",
   "execution_count": 175,
   "metadata": {},
   "outputs": [
    {
     "name": "stdout",
     "output_type": "stream",
     "text": [
      "(('2.0limit_discr_new', 'nocredit_default_new'), 1601)\n",
      "(('2.0limit_discr_new', 'pay_dulymissed-payments_new', 'nocredit_default_new'), 1169)\n",
      "(('6.0limit_discr_new', 'nocredit_default_new'), 1126)\n",
      "(('7.0limit_discr_new', 'nocredit_default_new'), 1099)\n",
      "(('4.0limit_discr_new', 'nocredit_default_new'), 1097)\n",
      "(('5.0limit_discr_new', 'nocredit_default_new'), 1012)\n",
      "Itemsets trovati:  6\n"
     ]
    }
   ],
   "source": [
    "\n",
    "cont=0\n",
    "#questo ciclo serve per trovare tutti gli itemsets che al loro interno contengono 3 items, ognuno con una certa stringa di caratteri\n",
    "for i in range(len(itemsets)):\n",
    "    m1_finale=False\n",
    "    m2_finale=False\n",
    "   # m3_finale=False\n",
    "    for item in itemsets[i][0]:\n",
    "        m1 = re.search('credit_default_new',item)\n",
    "        m2 = re.search('limit_discr_new',item)\n",
    "        #m3 = re.search('limit_discr_new',item)\n",
    "        m1_finale=m1 or m1_finale\n",
    "        m2_finale=m2 or m2_finale\n",
    "        #m3_finale=m3 or m3_finale\n",
    "    if m1_finale and m2_finale: #and m3_finale:\n",
    "        print(itemsets[i])\n",
    "        cont+=1\n",
    "print('Itemsets trovati: ',cont)"
   ]
  },
  {
   "cell_type": "code",
   "execution_count": 176,
   "metadata": {},
   "outputs": [],
   "source": [
    "import re\n",
    "cont=0\n",
    "#questo ciclo serve per trovare tutte le regole che hanno all'interno una conseguenza con una certa stringa di caratteri\n",
    "#e due antecedenti con certe stringa di caratteri\n",
    "for i in range(len(rules)):\n",
    "    #cerca nella conseguenza quelle con sex=female\n",
    "    m1 = re.search('yescredit_default_new',rules[i][0])"
   ]
  },
  {
   "cell_type": "code",
   "execution_count": 177,
   "metadata": {},
   "outputs": [
    {
     "name": "stdout",
     "output_type": "stream",
     "text": [
      "Itemsets trovati:  0\n"
     ]
    }
   ],
   "source": [
    "import re\n",
    "cont=0\n",
    "#questo ciclo serve per trovare tutte le regole che hanno all'interno una conseguenza con una certa stringa di caratteri\n",
    "#e due antecedenti con certe stringa di caratteri e con un lift maggiore di una certa soglia\n",
    "for i in range(len(rules)):\n",
    "    #cerca nella conseguenza quelle con sex=female\n",
    "    m1 = re.search('yescredit_default_new',rules[i][0])\n",
    "    m_ant_fin1=False\n",
    "    m_ant_fin2=False\n",
    "    for antec in rules[i][1]:\n",
    "        m_ant1=re.search('3.0ed',antec)\n",
    "        m_ant2=re.search('limit_new',antec)\n",
    "        m_ant_fin1=m_ant_fin1 or m_ant1\n",
    "        m_ant_fin2=m_ant_fin2 or m_ant2\n",
    "    #estraggo il lift della regola\n",
    "    lift=rules[i][5]\n",
    "    if lift>1.8 and m1 and m_ant_fin1 and m_ant_fin2:\n",
    "        print(rules[i])\n",
    "        cont+=1\n",
    "        \n",
    "print('Itemsets trovati: ',cont)"
   ]
  },
  {
   "cell_type": "code",
   "execution_count": 178,
   "metadata": {},
   "outputs": [],
   "source": [
    "# Trovare regole per specifici attributi"
   ]
  },
  {
   "cell_type": "markdown",
   "metadata": {},
   "source": [
    "Analisi di come cambia il numero di itemsets estratto al variare del parametro min_sup e come varia il numero di regole al variare del parametro min_conf"
   ]
  },
  {
   "cell_type": "code",
   "execution_count": 179,
   "metadata": {},
   "outputs": [],
   "source": [
    "#mi estraggo tramite un ciclo il numero di itemsets al variare del parametro min_sup e inserisco tutto in una lista\n",
    "\n",
    "#noi abbiamo deciso di vedere la variazione del numero di itemsets quando min_sup varia da 5 a 49\n",
    "list_supp=range(5,50)\n",
    "list_num_itemsets=list()\n",
    "for min_supp in list_supp:\n",
    "    itemsets=apriori(baskets, supp=min_supp, zmin=2, target='s')\n",
    "    list_num_itemsets.append(len(itemsets))"
   ]
  },
  {
   "cell_type": "code",
   "execution_count": 180,
   "metadata": {},
   "outputs": [
    {
     "data": {
      "image/png": "[encoded data removed]",
      "text/plain": [
       "<Figure size 432x288 with 1 Axes>"
      ]
     },
     "metadata": {},
     "output_type": "display_data"
    }
   ],
   "source": [
    "# Variazione degli itemset al variare del min_supp\n",
    "\n",
    "plt.plot(list_supp, list_num_itemsets)\n",
    "plt.xlabel('Minimum Support')\n",
    "plt.ylabel('Number of items')\n",
    "plt.show()"
   ]
  },
  {
   "cell_type": "code",
   "execution_count": 181,
   "metadata": {},
   "outputs": [],
   "source": [
    "list_conf=range(40,90)\n",
    "list_num_rules=list()\n",
    "for min_conf in list_conf:\n",
    "    rules = apriori(baskets, supp=2, zmin=2, target='r', conf=min_conf, report='ascL')\n",
    "    list_num_rules.append(len(rules))"
   ]
  },
  {
   "cell_type": "code",
   "execution_count": 182,
   "metadata": {},
   "outputs": [
    {
     "data": {
      "image/png": "[encoded data removed]",
      "text/plain": [
       "<Figure size 432x288 with 1 Axes>"
      ]
     },
     "metadata": {},
     "output_type": "display_data"
    }
   ],
   "source": [
    "# Come variano gli itemset al variare del min_conf\n",
    "plt.plot(list_conf, list_num_rules)\n",
    "plt.xlabel('Minimum Confidence')\n",
    "plt.ylabel('Number of items')\n",
    "plt.show()"
   ]
  },
  {
   "cell_type": "code",
   "execution_count": 184,
   "metadata": {},
   "outputs": [],
   "source": [
    "rules = apriori(baskets, supp=2, zmin=2, target='r', conf=30,\n",
    "                report='ascl')"
   ]
  },
  {
   "cell_type": "code",
   "execution_count": 185,
   "metadata": {},
   "outputs": [],
   "source": [
    "list_confidence=list()\n",
    "list_lift=list()\n",
    "for i in range(len(rules)):\n",
    "    confidence=rules[i][4]\n",
    "    list_confidence.append(confidence)\n",
    "    lift=rules[i][5]\n",
    "    list_lift.append(lift)"
   ]
  },
  {
   "cell_type": "code",
   "execution_count": 186,
   "metadata": {},
   "outputs": [
    {
     "data": {
      "image/png": "[encoded data removed]",
      "text/plain": [
       "<Figure size 432x288 with 1 Axes>"
      ]
     },
     "metadata": {},
     "output_type": "display_data"
    }
   ],
   "source": [
    "# Plotting the confidence\n",
    "plt.hist(list_confidence,bins=10)\n",
    "plt.xlabel('Confidence')\n",
    "plt.ylabel('Count')\n",
    "plt.show()"
   ]
  },
  {
   "cell_type": "code",
   "execution_count": 187,
   "metadata": {},
   "outputs": [
    {
     "data": {
      "image/png": "[encoded data removed]",
      "text/plain": [
       "<Figure size 432x288 with 1 Axes>"
      ]
     },
     "metadata": {},
     "output_type": "display_data"
    }
   ],
   "source": [
    "# Plotting the lift\n",
    "plt.hist(list_lift,bins=10)\n",
    "plt.xlabel('Lift')\n",
    "plt.ylabel('Count')\n",
    "plt.show()"
   ]
  },
  {
   "cell_type": "code",
   "execution_count": 194,
   "metadata": {},
   "outputs": [],
   "source": [
    "selected_rules=[]\n",
    "def getKey(item):\n",
    "    return item[5]\n"
   ]
  },
  {
   "cell_type": "code",
   "execution_count": 195,
   "metadata": {},
   "outputs": [],
   "source": [
    "rules=sorted(rules,key=getKey,reverse=True)"
   ]
  },
  {
   "cell_type": "code",
   "execution_count": 196,
   "metadata": {},
   "outputs": [],
   "source": [
    "for rule in selected_rules:\n",
    "    #ciclo sugli antecedenti in modo da inserire una condizione per la mia query finale\n",
    "    for element in rule[1]:\n",
    "        #inizializzo la cond_finale a True dato che poi vado a fare degli 'and' \n",
    "        cond_finale=pd.Series([True for i in range(len(df))])\n",
    "        for attribute in new_attributes:\n",
    "            #vedo se l'antecedente in questione è un valore relativo alla variabile attribute\n",
    "            m = re.search(attribute,element)\n",
    "            if m:\n",
    "                #definisco una delle condizioni per la mia query\n",
    "                cond=df[attribute]==element\n",
    "            else:\n",
    "                cond=pd.Series([True for i in range(len(df))])\n",
    "            #unisco tramite 'and' logici tutte le condizioni relative ad una certa query\n",
    "            cond_finale=cond_finale & cond\n",
    "    consequent=rule[0]\n",
    "    "
   ]
  },
  {
   "cell_type": "code",
   "execution_count": 198,
   "metadata": {},
   "outputs": [
    {
     "ename": "NameError",
     "evalue": "name 'consequent' is not defined",
     "output_type": "error",
     "traceback": [
      "\u001b[1;31m---------------------------------------------------------------------------\u001b[0m",
      "\u001b[1;31mNameError\u001b[0m                                 Traceback (most recent call last)",
      "\u001b[1;32m<ipython-input-198-4ba138874adb>\u001b[0m in \u001b[0;36m<module>\u001b[1;34m()\u001b[0m\n\u001b[0;32m      1\u001b[0m \u001b[1;31m#in questo ciclo applico la query\u001b[0m\u001b[1;33m\u001b[0m\u001b[1;33m\u001b[0m\u001b[0m\n\u001b[0;32m      2\u001b[0m \u001b[1;32mfor\u001b[0m \u001b[0mattribute\u001b[0m \u001b[1;32min\u001b[0m \u001b[0mnew_attributes\u001b[0m\u001b[1;33m:\u001b[0m\u001b[1;33m\u001b[0m\u001b[0m\n\u001b[1;32m----> 3\u001b[1;33m        \u001b[0mm_consequent\u001b[0m \u001b[1;33m=\u001b[0m \u001b[0mre\u001b[0m\u001b[1;33m.\u001b[0m\u001b[0msearch\u001b[0m\u001b[1;33m(\u001b[0m\u001b[0mattribute\u001b[0m\u001b[1;33m,\u001b[0m\u001b[0mconsequent\u001b[0m\u001b[1;33m)\u001b[0m\u001b[1;33m\u001b[0m\u001b[0m\n\u001b[0m\u001b[0;32m      4\u001b[0m        \u001b[1;32mif\u001b[0m \u001b[0mm_consequent\u001b[0m\u001b[1;33m:\u001b[0m\u001b[1;33m\u001b[0m\u001b[0m\n\u001b[0;32m      5\u001b[0m            \u001b[0mattribute_predicted\u001b[0m\u001b[1;33m=\u001b[0m\u001b[0mattribute\u001b[0m\u001b[1;33m+\u001b[0m\u001b[1;34m'_predicted'\u001b[0m\u001b[1;33m\u001b[0m\u001b[0m\n",
      "\u001b[1;31mNameError\u001b[0m: name 'consequent' is not defined"
     ]
    }
   ],
   "source": [
    " #in questo ciclo applico la query\n",
    " for attribute in new_attributes:\n",
    "        m_consequent = re.search(attribute,consequent)\n",
    "        if m_consequent:\n",
    "            attribute_predicted=attribute+'_predicted'\n",
    "            if attribute_predicted not in df.columns:\n",
    "                df[attribute_predicted]=np.NaN\n",
    "            cond_finale=cond_finale & df[attribute_predicted].isna()\n",
    "            df.loc[cond_finale,attribute_predicted]= consequent"
   ]
  },
  {
   "cell_type": "code",
   "execution_count": null,
   "metadata": {},
   "outputs": [],
   "source": []
  },
  {
   "cell_type": "code",
   "execution_count": null,
   "metadata": {},
   "outputs": [],
   "source": []
  },
  {
   "cell_type": "code",
   "execution_count": null,
   "metadata": {},
   "outputs": [],
   "source": []
  }
 ],
 "metadata": {
  "kernelspec": {
   "display_name": "Python 3",
   "language": "python",
   "name": "python3"
  },
  "language_info": {
   "codemirror_mode": {
    "name": "ipython",
    "version": 3
   },
   "file_extension": ".py",
   "mimetype": "text/x-python",
   "name": "python",
   "nbconvert_exporter": "python",
   "pygments_lexer": "ipython3",
   "version": "3.6.5"
  }
 },
 "nbformat": 4,
 "nbformat_minor": 2
}
