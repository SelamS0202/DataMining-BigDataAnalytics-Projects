{
 "cells": [
  {
   "cell_type": "markdown",
   "metadata": {},
   "source": [
    "# Data Understanding"
   ]
  },
  {
   "cell_type": "code",
   "execution_count": 1,
   "metadata": {},
   "outputs": [],
   "source": [
    "%matplotlib inline\n",
    "import math\n",
    "import numpy as np\n",
    "import pandas as pd\n",
    "import scipy.stats as stats\n",
    "import matplotlib.pyplot as plt\n",
    "from math import pi\n",
    "import seaborn as sns"
   ]
  },
  {
   "cell_type": "code",
   "execution_count": 2,
   "metadata": {},
   "outputs": [],
   "source": [
    "# Load the data\n",
    "\n",
    "df = pd.read_csv('D:\\DMDatasets\\credit_default_train.csv')"
   ]
  },
  {
   "cell_type": "code",
   "execution_count": 3,
   "metadata": {},
   "outputs": [],
   "source": [
    "#Changing all values of male and female to 1 and 0\n",
    "df.loc[(df.sex == \"male\"), 'sex'] = 1\n",
    "df.loc[(df.sex == \"female\"), 'sex'] = 0"
   ]
  },
  {
   "cell_type": "code",
   "execution_count": 4,
   "metadata": {},
   "outputs": [],
   "source": [
    "#Changing all values of education to numeric values.\n",
    "df.loc[(df.education == \"others\"), 'education'] = 0\n",
    "df.loc[(df.education == \"high school\"), 'education'] = 1\n",
    "df.loc[(df.education == \"university\"), 'education'] = 2\n",
    "df.loc[(df.education == \"graduate school\"), 'education'] = 3"
   ]
  },
  {
   "cell_type": "code",
   "execution_count": 5,
   "metadata": {},
   "outputs": [],
   "source": [
    "#Changing all values of status to numeric values.\n",
    "df.loc[(df.status == \"single\"), 'status'] = 0\n",
    "df.loc[(df.status == \"married\"), 'status'] = 1\n",
    "df.loc[(df.status == \"others\"), 'status'] = 2"
   ]
  },
  {
   "cell_type": "code",
   "execution_count": 6,
   "metadata": {},
   "outputs": [],
   "source": [
    "#Changing all values of credit_default to numeric values.\n",
    "df.loc[(df.credit_default == \"no\"), 'credit_default'] = 0\n",
    "df.loc[(df.credit_default == \"yes\"), 'credit_default'] = 1"
   ]
  },
  {
   "cell_type": "code",
   "execution_count": 7,
   "metadata": {},
   "outputs": [],
   "source": [
    "#Filling missing values of sex with mode value of dataset which is 0 (female)\n",
    "df['sex'] = df['sex'].fillna(df['sex'].mode()[0])"
   ]
  },
  {
   "cell_type": "code",
   "execution_count": 8,
   "metadata": {},
   "outputs": [
    {
     "data": {
      "text/html": [
       "<div>\n",
       "<style scoped>\n",
       "    .dataframe tbody tr th:only-of-type {\n",
       "        vertical-align: middle;\n",
       "    }\n",
       "\n",
       "    .dataframe tbody tr th {\n",
       "        vertical-align: top;\n",
       "    }\n",
       "\n",
       "    .dataframe thead th {\n",
       "        text-align: right;\n",
       "    }\n",
       "</style>\n",
       "<table border=\"1\" class=\"dataframe\">\n",
       "  <thead>\n",
       "    <tr style=\"text-align: right;\">\n",
       "      <th></th>\n",
       "      <th>modeSex</th>\n",
       "    </tr>\n",
       "    <tr>\n",
       "      <th>education</th>\n",
       "      <th></th>\n",
       "    </tr>\n",
       "  </thead>\n",
       "  <tbody>\n",
       "    <tr>\n",
       "      <th>0</th>\n",
       "      <td>([0], [26])</td>\n",
       "    </tr>\n",
       "    <tr>\n",
       "      <th>1</th>\n",
       "      <td>([0], [1014])</td>\n",
       "    </tr>\n",
       "    <tr>\n",
       "      <th>2</th>\n",
       "      <td>([0], [2908])</td>\n",
       "    </tr>\n",
       "    <tr>\n",
       "      <th>3</th>\n",
       "      <td>([0], [2106])</td>\n",
       "    </tr>\n",
       "  </tbody>\n",
       "</table>\n",
       "</div>"
      ],
      "text/plain": [
       "                 modeSex\n",
       "education               \n",
       "0            ([0], [26])\n",
       "1          ([0], [1014])\n",
       "2          ([0], [2908])\n",
       "3          ([0], [2106])"
      ]
     },
     "execution_count": 8,
     "metadata": {},
     "output_type": "execute_result"
    }
   ],
   "source": [
    "df.groupby(['education'])['sex'].agg([('modeSex', stats.mode)])"
   ]
  },
  {
   "cell_type": "code",
   "execution_count": 9,
   "metadata": {},
   "outputs": [],
   "source": [
    "#Filling missing values of education with mode value of dataset which is 2 (University)\n",
    "df['education'] = df['education'].fillna(df['education'].mode()[0])"
   ]
  },
  {
   "cell_type": "code",
   "execution_count": 10,
   "metadata": {},
   "outputs": [
    {
     "data": {
      "text/html": [
       "<div>\n",
       "<style scoped>\n",
       "    .dataframe tbody tr th:only-of-type {\n",
       "        vertical-align: middle;\n",
       "    }\n",
       "\n",
       "    .dataframe tbody tr th {\n",
       "        vertical-align: top;\n",
       "    }\n",
       "\n",
       "    .dataframe thead th {\n",
       "        text-align: right;\n",
       "    }\n",
       "</style>\n",
       "<table border=\"1\" class=\"dataframe\">\n",
       "  <thead>\n",
       "    <tr style=\"text-align: right;\">\n",
       "      <th></th>\n",
       "      <th></th>\n",
       "      <th>modeStatus</th>\n",
       "    </tr>\n",
       "    <tr>\n",
       "      <th>education</th>\n",
       "      <th>sex</th>\n",
       "      <th></th>\n",
       "    </tr>\n",
       "  </thead>\n",
       "  <tbody>\n",
       "    <tr>\n",
       "      <th rowspan=\"2\" valign=\"top\">0</th>\n",
       "      <th>0</th>\n",
       "      <td>([0], [11])</td>\n",
       "    </tr>\n",
       "    <tr>\n",
       "      <th>1</th>\n",
       "      <td>([0], [3])</td>\n",
       "    </tr>\n",
       "    <tr>\n",
       "      <th rowspan=\"2\" valign=\"top\">1</th>\n",
       "      <th>0</th>\n",
       "      <td>([1], [518])</td>\n",
       "    </tr>\n",
       "    <tr>\n",
       "      <th>1</th>\n",
       "      <td>([1], [282])</td>\n",
       "    </tr>\n",
       "    <tr>\n",
       "      <th rowspan=\"2\" valign=\"top\">2</th>\n",
       "      <th>0</th>\n",
       "      <td>([1], [1250])</td>\n",
       "    </tr>\n",
       "    <tr>\n",
       "      <th>1</th>\n",
       "      <td>([0], [813])</td>\n",
       "    </tr>\n",
       "    <tr>\n",
       "      <th rowspan=\"2\" valign=\"top\">3</th>\n",
       "      <th>0</th>\n",
       "      <td>([0], [1148])</td>\n",
       "    </tr>\n",
       "    <tr>\n",
       "      <th>1</th>\n",
       "      <td>([0], [679])</td>\n",
       "    </tr>\n",
       "  </tbody>\n",
       "</table>\n",
       "</div>"
      ],
      "text/plain": [
       "                  modeStatus\n",
       "education sex               \n",
       "0         0      ([0], [11])\n",
       "          1       ([0], [3])\n",
       "1         0     ([1], [518])\n",
       "          1     ([1], [282])\n",
       "2         0    ([1], [1250])\n",
       "          1     ([0], [813])\n",
       "3         0    ([0], [1148])\n",
       "          1     ([0], [679])"
      ]
     },
     "execution_count": 10,
     "metadata": {},
     "output_type": "execute_result"
    }
   ],
   "source": [
    "#calculating mode value of status based on education and sex\n",
    "df.groupby(['education', 'sex'])['status'].agg([('modeStatus', stats.mode)])"
   ]
  },
  {
   "cell_type": "code",
   "execution_count": 11,
   "metadata": {},
   "outputs": [],
   "source": [
    "#Filling missing values of status based on table we calculated in previous step\n",
    "fill = (df.education == 0) & (df.sex == 0) & (df.status.isnull())\n",
    "df.loc[fill, 'status'] = 0\n",
    "fill = (df.education == 0) & (df.sex == 1) & (df.status.isnull())\n",
    "df.loc[fill, 'status'] = 0\n",
    "fill = (df.education == 1) & (df.sex == 0) & (df.status.isnull())\n",
    "df.loc[fill, 'status'] = 1\n",
    "fill = (df.education == 1) & (df.sex == 1) & (df.status.isnull())\n",
    "df.loc[fill, 'status'] = 1\n",
    "fill = (df.education == 2) & (df.sex == 0) & (df.status.isnull())\n",
    "df.loc[fill, 'status'] = 1\n",
    "fill = (df.education == 2) & (df.sex == 1)& (df.status.isnull())\n",
    "df.loc[fill, 'status'] = 0\n",
    "fill = (df.education == 3) & (df.sex == 0)& (df.status.isnull())\n",
    "df.loc[fill, 'status'] = 0\n",
    "fill = (df.education == 3) & (df.sex == 1)& (df.status.isnull())\n",
    "df.loc[fill, 'status'] = 0"
   ]
  },
  {
   "cell_type": "code",
   "execution_count": 12,
   "metadata": {},
   "outputs": [],
   "source": [
    "#Creating a new column based on sex and status\n",
    "df['sex_status'] = 0\n",
    "df.loc[((df.sex == 1) & (df.status == 1)) , 'sex_status'] = 1 #married man\n",
    "df.loc[((df.sex == 1) & (df.status == 0)) , 'sex_status'] = 2 #single man\n",
    "df.loc[((df.sex == 1) & (df.status == 2)) , 'sex_status'] = 3 #divorced man\n",
    "df.loc[((df.sex == 0) & (df.status == 1)) , 'sex_status'] = 4 #married woman\n",
    "df.loc[((df.sex == 0) & (df.status == 0)) , 'sex_status'] = 5 #single woman\n",
    "df.loc[((df.sex == 0) & (df.status == 2)) , 'sex_status'] = 6 #divorced woman"
   ]
  },
  {
   "cell_type": "code",
   "execution_count": 13,
   "metadata": {},
   "outputs": [],
   "source": [
    "#Removing all rows with age value of -1 to calculate mean value in next step\n",
    "df_temp = df\n",
    "df_temp = df_temp.drop(df_temp[df_temp.age < 21].index)"
   ]
  },
  {
   "cell_type": "code",
   "execution_count": 14,
   "metadata": {},
   "outputs": [
    {
     "data": {
      "text/plain": [
       "sex_status\n",
       "1    41.715616\n",
       "2    33.133429\n",
       "3    43.068966\n",
       "4    37.962737\n",
       "5    31.377128\n",
       "6    41.300000\n",
       "Name: age, dtype: float64"
      ]
     },
     "execution_count": 14,
     "metadata": {},
     "output_type": "execute_result"
    }
   ],
   "source": [
    "#Generating mean value for age based on sex_status\n",
    "df_temp.groupby('sex_status')['age'].mean()"
   ]
  },
  {
   "cell_type": "code",
   "execution_count": 15,
   "metadata": {},
   "outputs": [],
   "source": [
    "#Changing all -1 values of age to mean values generated in previous step.\n",
    "fill = (df.sex_status == 1) & (df.age < 21)\n",
    "df.loc[fill, 'age'] = 41\n",
    "fill = (df.sex_status == 2) & (df.age < 21)\n",
    "df.loc[fill, 'age'] = 33\n",
    "fill = (df.sex_status == 3) & (df.age < 21)\n",
    "df.loc[fill, 'age'] = 43\n",
    "fill = (df.sex_status == 4) & (df.age < 21)\n",
    "df.loc[fill, 'age'] = 37\n",
    "fill = (df.sex_status == 5) & (df.age < 21)\n",
    "df.loc[fill, 'age'] = 31\n",
    "fill = (df.sex_status == 6) & (df.age < 21)\n",
    "df.loc[fill, 'age'] = 41"
   ]
  },
  {
   "cell_type": "code",
   "execution_count": 16,
   "metadata": {},
   "outputs": [],
   "source": [
    "df['expense-may'] = df['ba-may']-(df['ba-apr']-df['pa-may'])\n",
    "df['expense-jun'] = df['ba-jun']-(df['ba-may']-df['pa-jun'])\n",
    "df['expense-jul'] = df['ba-jul']-(df['ba-jun']-df['pa-jul'])\n",
    "df['expense-aug'] = df['ba-aug']-(df['ba-jul']-df['pa-aug'])\n",
    "df['expense-sep'] = df['ba-sep']-(df['ba-aug']-df['pa-sep'])\n",
    "df['avg-expense'] = (df['expense-may'] + df['expense-jun'] + df['expense-jul'] + df['expense-aug'] + df['expense-sep'])/5\n",
    "# df[['limit', 'expense-may', 'expense-jun', 'expense-jul', 'expense-aug', 'expense-sep', 'credit_default']].head(5)"
   ]
  },
  {
   "cell_type": "code",
   "execution_count": 17,
   "metadata": {},
   "outputs": [],
   "source": [
    "df['debt-apr'] = df['ba-apr']-df['pa-may']\n",
    "df['debt-may'] = df['ba-may']-df['pa-jun'] + df['debt-apr']\n",
    "df['debt-jun'] = df['ba-jun']-df['pa-jul'] + df['debt-may']\n",
    "df['debt-jul'] = df['ba-jul']-df['pa-aug'] + df['debt-jun']\n",
    "df['debt-aug'] = df['ba-aug']-df['pa-sep'] + df['debt-jul']\n",
    "\n",
    "df['avg-debt'] = (df['debt-apr']+df['debt-may']+df['debt-jun']+df['debt-jul']+df['debt-aug'])/5\n",
    "df['missed-payments'] = df[['ps-apr', 'ps-may', 'ps-jun', 'ps-jul', 'ps-aug', 'ps-sep']].max(axis=1)\n",
    "df['avg-debt-to-limit-ratio'] = df['avg-debt']/df['limit']\n",
    "df['avg-expense-to-limit-ratio'] = df['avg-expense']/df['limit']\n",
    "# df[['limit','missed-payments','avg-debt','avg-debt-to-limit-ratio','credit_default']].sample(10)"
   ]
  },
  {
   "cell_type": "code",
   "execution_count": 18,
   "metadata": {},
   "outputs": [],
   "source": [
    "df['avg-ba'] = (df['ba-apr']+df['ba-may']+df['ba-jun']+df['ba-jul']+df['ba-aug']+df['ba-sep'])/6\n",
    "df['avg-pa'] = (df['pa-apr']+df['pa-may']+df['pa-jun']+df['pa-jul']+df['pa-aug']+df['pa-sep'])/6"
   ]
  },
  {
   "cell_type": "code",
   "execution_count": 19,
   "metadata": {},
   "outputs": [],
   "source": [
    "df['missed-payments'] = df[['ps-apr', 'ps-may', 'ps-jun', 'ps-jul', 'ps-aug', 'ps-sep']].max(axis=1)"
   ]
  },
  {
   "cell_type": "markdown",
   "metadata": {},
   "source": [
    "# Clustering"
   ]
  },
  {
   "cell_type": "markdown",
   "metadata": {},
   "source": [
    "## K-Means"
   ]
  },
  {
   "cell_type": "markdown",
   "metadata": {},
   "source": [
    "##### Normalization"
   ]
  },
  {
   "cell_type": "code",
   "execution_count": 20,
   "metadata": {},
   "outputs": [],
   "source": [
    "from sklearn.preprocessing import StandardScaler\n",
    "from sklearn.cluster import KMeans\n",
    "from sklearn.metrics import silhouette_score\n"
   ]
  },
  {
   "cell_type": "code",
   "execution_count": 21,
   "metadata": {},
   "outputs": [
    {
     "data": {
      "text/html": [
       "<div>\n",
       "<style scoped>\n",
       "    .dataframe tbody tr th:only-of-type {\n",
       "        vertical-align: middle;\n",
       "    }\n",
       "\n",
       "    .dataframe tbody tr th {\n",
       "        vertical-align: top;\n",
       "    }\n",
       "\n",
       "    .dataframe thead th {\n",
       "        text-align: right;\n",
       "    }\n",
       "</style>\n",
       "<table border=\"1\" class=\"dataframe\">\n",
       "  <thead>\n",
       "    <tr style=\"text-align: right;\">\n",
       "      <th></th>\n",
       "      <th>limit</th>\n",
       "      <th>avg-pa</th>\n",
       "      <th>avg-ba</th>\n",
       "      <th>age</th>\n",
       "    </tr>\n",
       "  </thead>\n",
       "  <tbody>\n",
       "    <tr>\n",
       "      <th>0</th>\n",
       "      <td>50000</td>\n",
       "      <td>1541.000000</td>\n",
       "      <td>43317.666667</td>\n",
       "      <td>25</td>\n",
       "    </tr>\n",
       "    <tr>\n",
       "      <th>1</th>\n",
       "      <td>200000</td>\n",
       "      <td>7064.166667</td>\n",
       "      <td>7914.333333</td>\n",
       "      <td>54</td>\n",
       "    </tr>\n",
       "    <tr>\n",
       "      <th>2</th>\n",
       "      <td>30000</td>\n",
       "      <td>859.833333</td>\n",
       "      <td>29802.833333</td>\n",
       "      <td>37</td>\n",
       "    </tr>\n",
       "    <tr>\n",
       "      <th>3</th>\n",
       "      <td>140000</td>\n",
       "      <td>3650.000000</td>\n",
       "      <td>36138.000000</td>\n",
       "      <td>31</td>\n",
       "    </tr>\n",
       "    <tr>\n",
       "      <th>4</th>\n",
       "      <td>60000</td>\n",
       "      <td>1580.000000</td>\n",
       "      <td>49241.166667</td>\n",
       "      <td>36</td>\n",
       "    </tr>\n",
       "  </tbody>\n",
       "</table>\n",
       "</div>"
      ],
      "text/plain": [
       "    limit       avg-pa        avg-ba  age\n",
       "0   50000  1541.000000  43317.666667   25\n",
       "1  200000  7064.166667   7914.333333   54\n",
       "2   30000   859.833333  29802.833333   37\n",
       "3  140000  3650.000000  36138.000000   31\n",
       "4   60000  1580.000000  49241.166667   36"
      ]
     },
     "execution_count": 21,
     "metadata": {},
     "output_type": "execute_result"
    }
   ],
   "source": [
    "# New dataframe clustering\n",
    "dfc = df[['limit', 'avg-pa', 'avg-ba', 'age']].copy()\n",
    "dfc.head()"
   ]
  },
  {
   "cell_type": "code",
   "execution_count": 22,
   "metadata": {},
   "outputs": [
    {
     "data": {
      "text/plain": [
       "array([[5.00000000e+04, 1.54100000e+03, 4.33176667e+04, 2.50000000e+01],\n",
       "       [2.00000000e+05, 7.06416667e+03, 7.91433333e+03, 5.40000000e+01],\n",
       "       [3.00000000e+04, 8.59833333e+02, 2.98028333e+04, 3.70000000e+01],\n",
       "       [1.40000000e+05, 3.65000000e+03, 3.61380000e+04, 3.10000000e+01],\n",
       "       [6.00000000e+04, 1.58000000e+03, 4.92411667e+04, 3.60000000e+01]])"
      ]
     },
     "execution_count": 22,
     "metadata": {},
     "output_type": "execute_result"
    }
   ],
   "source": [
    "# Normalizzo con Z-score\n",
    "scaler = StandardScaler()\n",
    "scaler.fit(dfc.head().values) \n",
    "dfc.head().values"
   ]
  },
  {
   "cell_type": "code",
   "execution_count": 23,
   "metadata": {},
   "outputs": [
    {
     "data": {
      "text/plain": [
       "array([[-0.71804912, -0.61727131,  0.70286052, -1.1974682 ],\n",
       "       [ 1.62341541,  1.82142133, -1.77685407,  1.7962023 ],\n",
       "       [-1.03024439, -0.91803285, -0.24374327,  0.04129201],\n",
       "       [ 0.6868296 ,  0.31393412,  0.19998346, -0.5780881 ],\n",
       "       [-0.56195149, -0.60005129,  1.11775335, -0.06193801]])"
      ]
     },
     "execution_count": 23,
     "metadata": {},
     "output_type": "execute_result"
    }
   ],
   "source": [
    "scaler.transform(dfc.head().values)"
   ]
  },
  {
   "cell_type": "code",
   "execution_count": 24,
   "metadata": {},
   "outputs": [],
   "source": [
    "# MinMax Z-score\n",
    "Z= scaler.transform( dfc.values)"
   ]
  },
  {
   "cell_type": "code",
   "execution_count": null,
   "metadata": {},
   "outputs": [],
   "source": []
  },
  {
   "cell_type": "markdown",
   "metadata": {},
   "source": [
    "# Parameter Tuning\n"
   ]
  },
  {
   "cell_type": "code",
   "execution_count": null,
   "metadata": {},
   "outputs": [],
   "source": []
  },
  {
   "cell_type": "code",
   "execution_count": null,
   "metadata": {},
   "outputs": [],
   "source": [
    "# Knee Method to estimate the best K\n",
    "sse_list = list()\n",
    "silhouette_list = list()\n",
    "max_k = 50\n",
    "for k in range(2, max_k + 1): \n",
    "    kmeans = KMeans(n_clusters=k, n_init= 5, max_iter=10)\n",
    "    kmeans.fit(Z)\n",
    "    \n",
    "    sse = kmeans.inertia_\n",
    "    sse_list.append(sse)\n",
    "    silhouette=  silhouette_score(Z, kmeans.labels_)\n",
    "    silhouette_list.append(silhouette)"
   ]
  },
  {
   "cell_type": "code",
   "execution_count": null,
   "metadata": {},
   "outputs": [],
   "source": [
    "# Plotting SSE curve\n",
    "plt.plot(range(2, len(sse_list) + 2), sse_list)\n",
    "plt.ylabel('SSE', fontsize= 22)\n",
    "plt.xlabel('K', fontsize= 22)\n",
    "plt.tick_params(axis='both', which='major', labelsize= 10)\n",
    "plt.xticks( range(50))\n",
    "plt.show()"
   ]
  },
  {
   "cell_type": "code",
   "execution_count": 32,
   "metadata": {},
   "outputs": [
    {
     "data": {
      "image/png": "[encoded data removed]",
      "text/plain": [
       "<Figure size 432x288 with 1 Axes>"
      ]
     },
     "metadata": {},
     "output_type": "display_data"
    }
   ],
   "source": [
    "# Plotting Silhouette curve\n",
    "plt.plot(range(2, len(silhouette_list) + 2), silhouette_list)\n",
    "plt.ylabel('Silhouette', fontsize= 22)\n",
    "plt.xlabel('K', fontsize= 22)\n",
    "plt.tick_params(axis='both', which='major', labelsize= 10)\n",
    "plt.xticks( range(50))\n",
    "plt.show()"
   ]
  },
  {
   "cell_type": "code",
   "execution_count": null,
   "metadata": {},
   "outputs": [],
   "source": []
  },
  {
   "cell_type": "markdown",
   "metadata": {},
   "source": [
    "# Perform Clustering"
   ]
  },
  {
   "cell_type": "code",
   "execution_count": 27,
   "metadata": {},
   "outputs": [
    {
     "data": {
      "text/plain": [
       "KMeans(algorithm='auto', copy_x=True, init='k-means++', max_iter=100,\n",
       "    n_clusters=9, n_init=10, n_jobs=None, precompute_distances='auto',\n",
       "    random_state=None, tol=0.0001, verbose=0)"
      ]
     },
     "execution_count": 27,
     "metadata": {},
     "output_type": "execute_result"
    }
   ],
   "source": [
    "kmeans = KMeans(n_clusters= 9, n_init=10, max_iter=100)\n",
    "kmeans.fit(Z)"
   ]
  },
  {
   "cell_type": "code",
   "execution_count": 28,
   "metadata": {},
   "outputs": [
    {
     "name": "stdout",
     "output_type": "stream",
     "text": [
      "Silhouette 0.35567318727315644\n"
     ]
    }
   ],
   "source": [
    "# According to the picture above I take the k that has the best silhouette \n",
    "print('Silhouette %s' % silhouette_score(Z, kmeans.labels_))"
   ]
  },
  {
   "cell_type": "code",
   "execution_count": 29,
   "metadata": {},
   "outputs": [
    {
     "name": "stdout",
     "output_type": "stream",
     "text": [
      "SSE 70593.06445384666\n"
     ]
    }
   ],
   "source": [
    "# Calculate the SSE\n",
    "print('SSE %s' % kmeans.inertia_)"
   ]
  },
  {
   "cell_type": "markdown",
   "metadata": {},
   "source": [
    "# Analyze the clustering results"
   ]
  },
  {
   "cell_type": "markdown",
   "metadata": {},
   "source": [
    "Observing the size of each cluster"
   ]
  },
  {
   "cell_type": "code",
   "execution_count": 30,
   "metadata": {},
   "outputs": [
    {
     "name": "stdout",
     "output_type": "stream",
     "text": [
      "Cluster 0: 4351 (0.44)\n",
      "Cluster 1: 723 (0.07)\n",
      "Cluster 2: 225 (0.02)\n",
      "Cluster 3: 189 (0.02)\n",
      "Cluster 4: 725 (0.07)\n",
      "Cluster 5: 50 (0.01)\n",
      "Cluster 6: 2274 (0.23)\n",
      "Cluster 7: 1460 (0.15)\n",
      "Cluster 8: 3 (0.00)\n"
     ]
    }
   ],
   "source": [
    "hist, bins = np.histogram(kmeans.labels_, bins=range(0, len(set(kmeans.labels_)) + 1))\n",
    "sizes = dict(zip(bins, hist))\n",
    "\n",
    "for id_cluster, size in sizes.items():\n",
    "    print('Cluster %d: %d (%.2f)' % (id_cluster, size, size/len(Z)))"
   ]
  },
  {
   "cell_type": "code",
   "execution_count": 31,
   "metadata": {},
   "outputs": [
    {
     "data": {
      "text/plain": [
       "array([0, 6, 0, ..., 0, 0, 2])"
      ]
     },
     "execution_count": 31,
     "metadata": {},
     "output_type": "execute_result"
    }
   ],
   "source": [
    "kmeans.labels_"
   ]
  },
  {
   "cell_type": "code",
   "execution_count": 32,
   "metadata": {},
   "outputs": [],
   "source": [
    "#dfc['label'] = pd.Series(kmeans.labels_, index=dfc.index)\n",
    "df['label'] = kmeans.labels_#pd.Series(kmeans.labels_, index=dfc.index)"
   ]
  },
  {
   "cell_type": "code",
   "execution_count": 33,
   "metadata": {},
   "outputs": [
    {
     "data": {
      "text/html": [
       "<div>\n",
       "<style scoped>\n",
       "    .dataframe tbody tr th:only-of-type {\n",
       "        vertical-align: middle;\n",
       "    }\n",
       "\n",
       "    .dataframe tbody tr th {\n",
       "        vertical-align: top;\n",
       "    }\n",
       "\n",
       "    .dataframe thead th {\n",
       "        text-align: right;\n",
       "    }\n",
       "</style>\n",
       "<table border=\"1\" class=\"dataframe\">\n",
       "  <thead>\n",
       "    <tr style=\"text-align: right;\">\n",
       "      <th></th>\n",
       "      <th>limit</th>\n",
       "      <th>avg-ba</th>\n",
       "      <th>avg-pa</th>\n",
       "      <th>missed-payments</th>\n",
       "      <th>credit_default</th>\n",
       "      <th>sex</th>\n",
       "      <th>education</th>\n",
       "    </tr>\n",
       "  </thead>\n",
       "  <tbody>\n",
       "    <tr>\n",
       "      <th>count</th>\n",
       "      <td>189.000000</td>\n",
       "      <td>189.000000</td>\n",
       "      <td>189.000000</td>\n",
       "      <td>189.000000</td>\n",
       "      <td>189.000000</td>\n",
       "      <td>189.000000</td>\n",
       "      <td>189.000000</td>\n",
       "    </tr>\n",
       "    <tr>\n",
       "      <th>mean</th>\n",
       "      <td>404074.074074</td>\n",
       "      <td>321545.804233</td>\n",
       "      <td>15446.216049</td>\n",
       "      <td>0.544974</td>\n",
       "      <td>0.248677</td>\n",
       "      <td>0.365079</td>\n",
       "      <td>2.343915</td>\n",
       "    </tr>\n",
       "    <tr>\n",
       "      <th>std</th>\n",
       "      <td>92130.889862</td>\n",
       "      <td>71719.489362</td>\n",
       "      <td>7425.916020</td>\n",
       "      <td>1.131906</td>\n",
       "      <td>0.433394</td>\n",
       "      <td>0.482731</td>\n",
       "      <td>0.586395</td>\n",
       "    </tr>\n",
       "    <tr>\n",
       "      <th>min</th>\n",
       "      <td>200000.000000</td>\n",
       "      <td>214298.666667</td>\n",
       "      <td>2333.333333</td>\n",
       "      <td>0.000000</td>\n",
       "      <td>0.000000</td>\n",
       "      <td>0.000000</td>\n",
       "      <td>1.000000</td>\n",
       "    </tr>\n",
       "    <tr>\n",
       "      <th>25%</th>\n",
       "      <td>340000.000000</td>\n",
       "      <td>265163.333333</td>\n",
       "      <td>10166.666667</td>\n",
       "      <td>0.000000</td>\n",
       "      <td>0.000000</td>\n",
       "      <td>0.000000</td>\n",
       "      <td>2.000000</td>\n",
       "    </tr>\n",
       "    <tr>\n",
       "      <th>50%</th>\n",
       "      <td>390000.000000</td>\n",
       "      <td>305445.333333</td>\n",
       "      <td>13272.000000</td>\n",
       "      <td>0.000000</td>\n",
       "      <td>0.000000</td>\n",
       "      <td>0.000000</td>\n",
       "      <td>2.000000</td>\n",
       "    </tr>\n",
       "    <tr>\n",
       "      <th>75%</th>\n",
       "      <td>480000.000000</td>\n",
       "      <td>366184.333333</td>\n",
       "      <td>18272.000000</td>\n",
       "      <td>0.000000</td>\n",
       "      <td>0.000000</td>\n",
       "      <td>1.000000</td>\n",
       "      <td>3.000000</td>\n",
       "    </tr>\n",
       "    <tr>\n",
       "      <th>max</th>\n",
       "      <td>740000.000000</td>\n",
       "      <td>577585.000000</td>\n",
       "      <td>49837.500000</td>\n",
       "      <td>8.000000</td>\n",
       "      <td>1.000000</td>\n",
       "      <td>1.000000</td>\n",
       "      <td>3.000000</td>\n",
       "    </tr>\n",
       "  </tbody>\n",
       "</table>\n",
       "</div>"
      ],
      "text/plain": [
       "               limit         avg-ba        avg-pa  missed-payments  \\\n",
       "count     189.000000     189.000000    189.000000       189.000000   \n",
       "mean   404074.074074  321545.804233  15446.216049         0.544974   \n",
       "std     92130.889862   71719.489362   7425.916020         1.131906   \n",
       "min    200000.000000  214298.666667   2333.333333         0.000000   \n",
       "25%    340000.000000  265163.333333  10166.666667         0.000000   \n",
       "50%    390000.000000  305445.333333  13272.000000         0.000000   \n",
       "75%    480000.000000  366184.333333  18272.000000         0.000000   \n",
       "max    740000.000000  577585.000000  49837.500000         8.000000   \n",
       "\n",
       "       credit_default         sex   education  \n",
       "count      189.000000  189.000000  189.000000  \n",
       "mean         0.248677    0.365079    2.343915  \n",
       "std          0.433394    0.482731    0.586395  \n",
       "min          0.000000    0.000000    1.000000  \n",
       "25%          0.000000    0.000000    2.000000  \n",
       "50%          0.000000    0.000000    2.000000  \n",
       "75%          0.000000    1.000000    3.000000  \n",
       "max          1.000000    1.000000    3.000000  "
      ]
     },
     "execution_count": 33,
     "metadata": {},
     "output_type": "execute_result"
    }
   ],
   "source": [
    "# Re-naming all the clusters \n",
    "cluster0= df[df['label'] == 0]\n",
    "cluster1= df[df['label'] == 1]\n",
    "cluster2= df[df['label'] == 2]\n",
    "cluster3= df[df['label'] == 3]\n",
    "cluster4= df[df['label'] == 4]\n",
    "cluster5= df[df['label'] == 5]\n",
    "cluster6 = df[df['label'] == 6]\n",
    "cluster7= df[df['label'] == 7]\n",
    "cluster8= df[df['label'] == 8]\n",
    "# Caratterization of one cluster with just few attributes (the interesting ones)\n",
    "attributes=['limit','avg-ba', 'avg-pa', 'missed-payments', 'credit_default', 'sex', 'education']\n",
    "cluster3[attributes].describe() # Cluster 3 can be composed by outliers  "
   ]
  },
  {
   "cell_type": "code",
   "execution_count": 43,
   "metadata": {},
   "outputs": [
    {
     "data": {
      "text/plain": [
       "0    3\n",
       "Name: credit_default, dtype: int64"
      ]
     },
     "execution_count": 43,
     "metadata": {},
     "output_type": "execute_result"
    }
   ],
   "source": [
    "cluster8['credit_default'].value_counts()"
   ]
  },
  {
   "cell_type": "code",
   "execution_count": 35,
   "metadata": {},
   "outputs": [
    {
     "data": {
      "text/html": [
       "<div>\n",
       "<style scoped>\n",
       "    .dataframe tbody tr th:only-of-type {\n",
       "        vertical-align: middle;\n",
       "    }\n",
       "\n",
       "    .dataframe tbody tr th {\n",
       "        vertical-align: top;\n",
       "    }\n",
       "\n",
       "    .dataframe thead th {\n",
       "        text-align: right;\n",
       "    }\n",
       "</style>\n",
       "<table border=\"1\" class=\"dataframe\">\n",
       "  <thead>\n",
       "    <tr style=\"text-align: right;\">\n",
       "      <th></th>\n",
       "      <th>limit</th>\n",
       "      <th>avg-ba</th>\n",
       "      <th>avg-pa</th>\n",
       "      <th>missed-payments</th>\n",
       "      <th>credit_default</th>\n",
       "      <th>sex</th>\n",
       "      <th>education</th>\n",
       "    </tr>\n",
       "  </thead>\n",
       "  <tbody>\n",
       "    <tr>\n",
       "      <th>count</th>\n",
       "      <td>1476.000000</td>\n",
       "      <td>1476.000000</td>\n",
       "      <td>1476.000000</td>\n",
       "      <td>1476.000000</td>\n",
       "      <td>1476.000000</td>\n",
       "      <td>1476.000000</td>\n",
       "      <td>1476.000000</td>\n",
       "    </tr>\n",
       "    <tr>\n",
       "      <th>mean</th>\n",
       "      <td>156341.463415</td>\n",
       "      <td>83637.216012</td>\n",
       "      <td>3952.890583</td>\n",
       "      <td>0.720190</td>\n",
       "      <td>0.218157</td>\n",
       "      <td>0.369241</td>\n",
       "      <td>2.102304</td>\n",
       "    </tr>\n",
       "    <tr>\n",
       "      <th>std</th>\n",
       "      <td>82555.143984</td>\n",
       "      <td>22326.736150</td>\n",
       "      <td>1908.126907</td>\n",
       "      <td>1.103903</td>\n",
       "      <td>0.413135</td>\n",
       "      <td>0.482763</td>\n",
       "      <td>0.687689</td>\n",
       "    </tr>\n",
       "    <tr>\n",
       "      <th>min</th>\n",
       "      <td>30000.000000</td>\n",
       "      <td>42051.333333</td>\n",
       "      <td>0.000000</td>\n",
       "      <td>-2.000000</td>\n",
       "      <td>0.000000</td>\n",
       "      <td>0.000000</td>\n",
       "      <td>0.000000</td>\n",
       "    </tr>\n",
       "    <tr>\n",
       "      <th>25%</th>\n",
       "      <td>100000.000000</td>\n",
       "      <td>65389.041667</td>\n",
       "      <td>2736.458333</td>\n",
       "      <td>0.000000</td>\n",
       "      <td>0.000000</td>\n",
       "      <td>0.000000</td>\n",
       "      <td>2.000000</td>\n",
       "    </tr>\n",
       "    <tr>\n",
       "      <th>50%</th>\n",
       "      <td>140000.000000</td>\n",
       "      <td>79935.500000</td>\n",
       "      <td>3532.916667</td>\n",
       "      <td>0.000000</td>\n",
       "      <td>0.000000</td>\n",
       "      <td>0.000000</td>\n",
       "      <td>2.000000</td>\n",
       "    </tr>\n",
       "    <tr>\n",
       "      <th>75%</th>\n",
       "      <td>190000.000000</td>\n",
       "      <td>100010.916667</td>\n",
       "      <td>4621.291667</td>\n",
       "      <td>2.000000</td>\n",
       "      <td>0.000000</td>\n",
       "      <td>1.000000</td>\n",
       "      <td>3.000000</td>\n",
       "    </tr>\n",
       "    <tr>\n",
       "      <th>max</th>\n",
       "      <td>500000.000000</td>\n",
       "      <td>135764.666667</td>\n",
       "      <td>14037.833333</td>\n",
       "      <td>8.000000</td>\n",
       "      <td>1.000000</td>\n",
       "      <td>1.000000</td>\n",
       "      <td>3.000000</td>\n",
       "    </tr>\n",
       "  </tbody>\n",
       "</table>\n",
       "</div>"
      ],
      "text/plain": [
       "               limit         avg-ba        avg-pa  missed-payments  \\\n",
       "count    1476.000000    1476.000000   1476.000000      1476.000000   \n",
       "mean   156341.463415   83637.216012   3952.890583         0.720190   \n",
       "std     82555.143984   22326.736150   1908.126907         1.103903   \n",
       "min     30000.000000   42051.333333      0.000000        -2.000000   \n",
       "25%    100000.000000   65389.041667   2736.458333         0.000000   \n",
       "50%    140000.000000   79935.500000   3532.916667         0.000000   \n",
       "75%    190000.000000  100010.916667   4621.291667         2.000000   \n",
       "max    500000.000000  135764.666667  14037.833333         8.000000   \n",
       "\n",
       "       credit_default          sex    education  \n",
       "count     1476.000000  1476.000000  1476.000000  \n",
       "mean         0.218157     0.369241     2.102304  \n",
       "std          0.413135     0.482763     0.687689  \n",
       "min          0.000000     0.000000     0.000000  \n",
       "25%          0.000000     0.000000     2.000000  \n",
       "50%          0.000000     0.000000     2.000000  \n",
       "75%          0.000000     1.000000     3.000000  \n",
       "max          1.000000     1.000000     3.000000  "
      ]
     },
     "execution_count": 35,
     "metadata": {},
     "output_type": "execute_result"
    }
   ],
   "source": [
    "# Caratterization of the bigger cluster\n",
    "cluster[attributes].describe()"
   ]
  },
  {
   "cell_type": "code",
   "execution_count": 66,
   "metadata": {},
   "outputs": [],
   "source": [
    "def scatterPlot(dataset, first, second, column):\n",
    "    column_values = sorted(dataset[column].unique())\n",
    "    plt.figure(figsize=(10,8))\n",
    "    i = 0\n",
    "    for values in column_values:\n",
    "        plt.scatter(dataset[first][dataset[column] == values],dataset[second][dataset[column] == values], alpha= 1,s=10) #c= colors(i)\n",
    "        i += 1\n",
    "\n",
    "    plt.title('%s to %s Scatter Plot' % (first, second), fontsize=15)\n",
    "    plt.xlabel(first,fontsize=15)\n",
    "    plt.ylabel(second, fontsize=15)\n",
    "    plt.legend(tuple(column_values), loc='best')\n",
    "    ax = plt.gca()\n",
    "    ax.tick_params(axis = 'both', which = 'major', labelsize = 15)\n",
    "    plt.show()"
   ]
  },
  {
   "cell_type": "code",
   "execution_count": 67,
   "metadata": {},
   "outputs": [
    {
     "data": {
      "image/png": "[encoded data removed]",
      "text/plain": [
       "<Figure size 720x576 with 1 Axes>"
      ]
     },
     "metadata": {},
     "output_type": "display_data"
    }
   ],
   "source": [
    "scatterPlot(df, 'limit', 'avg-pa', 'label')"
   ]
  },
  {
   "cell_type": "code",
   "execution_count": 43,
   "metadata": {},
   "outputs": [
    {
     "data": {
      "image/png": "[encoded data removed]",
      "text/plain": [
       "<Figure size 1440x720 with 1 Axes>"
      ]
     },
     "metadata": {},
     "output_type": "display_data"
    }
   ],
   "source": [
    "centers = kmeans.cluster_centers_\n",
    "\n",
    "plt.figure(figsize=(20, 10))\n",
    "for i in range(0, len(centers)):\n",
    "    plt.plot(centers[i], marker='o', label='Cluster %s' % i)\n",
    "plt.tick_params(axis='both', which='major', labelsize=22)\n",
    "plt.xticks(range(0, len(dfc.columns)), dfc.columns, fontsize=18)\n",
    "plt.legend(fontsize=16, ncol=2, bbox_to_anchor=(1.1, 1.05))\n",
    "plt.show()"
   ]
  },
  {
   "cell_type": "code",
   "execution_count": null,
   "metadata": {},
   "outputs": [],
   "source": [
    "df_temp = df_temp.drop(dfc_temp[df_temp.label==3].index)"
   ]
  }
 ],
 "metadata": {
  "kernelspec": {
   "display_name": "Python 3",
   "language": "python",
   "name": "python3"
  },
  "language_info": {
   "codemirror_mode": {
    "name": "ipython",
    "version": 3
   },
   "file_extension": ".py",
   "mimetype": "text/x-python",
   "name": "python",
   "nbconvert_exporter": "python",
   "pygments_lexer": "ipython3",
   "version": "3.6.5"
  }
 },
 "nbformat": 4,
 "nbformat_minor": 2
}
