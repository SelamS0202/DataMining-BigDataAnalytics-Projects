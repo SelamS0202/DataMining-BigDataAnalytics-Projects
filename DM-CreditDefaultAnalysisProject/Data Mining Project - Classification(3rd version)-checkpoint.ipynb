{
 "cells": [
  {
   "cell_type": "markdown",
   "metadata": {},
   "source": [
    "# Data Understanding"
   ]
  },
  {
   "cell_type": "code",
   "execution_count": 1,
   "metadata": {},
   "outputs": [],
   "source": [
    "%matplotlib inline\n",
    "import math\n",
    "import numpy as np\n",
    "import pandas as pd\n",
    "import scipy.stats as stats\n",
    "import matplotlib.pyplot as plt\n",
    "from math import pi\n",
    "import seaborn as sns\n",
    "from pandas.plotting import scatter_matrix"
   ]
  },
  {
   "cell_type": "code",
   "execution_count": 2,
   "metadata": {},
   "outputs": [],
   "source": [
    "# Load the data\n",
    "\n",
    "df = pd.read_csv('files/credit_default_train.csv')"
   ]
  },
  {
   "cell_type": "code",
   "execution_count": 3,
   "metadata": {},
   "outputs": [],
   "source": [
    "#Changing all values of male and female to 1 and 0\n",
    "df.loc[(df.sex == \"male\"), 'sex'] = 1\n",
    "df.loc[(df.sex == \"female\"), 'sex'] = 0"
   ]
  },
  {
   "cell_type": "code",
   "execution_count": 4,
   "metadata": {},
   "outputs": [],
   "source": [
    "#Changing all values of education to numeric values.\n",
    "df.loc[(df.education == \"others\"), 'education'] = 0\n",
    "df.loc[(df.education == \"high school\"), 'education'] = 1\n",
    "df.loc[(df.education == \"university\"), 'education'] = 2\n",
    "df.loc[(df.education == \"graduate school\"), 'education'] = 3"
   ]
  },
  {
   "cell_type": "code",
   "execution_count": 5,
   "metadata": {},
   "outputs": [],
   "source": [
    "#Changing all values of status to numeric values.\n",
    "df.loc[(df.status == \"single\"), 'status'] = 0\n",
    "df.loc[(df.status == \"married\"), 'status'] = 1\n",
    "df.loc[(df.status == \"others\"), 'status'] = 2"
   ]
  },
  {
   "cell_type": "code",
   "execution_count": 6,
   "metadata": {},
   "outputs": [],
   "source": [
    "#Changing all values of credit_default to numeric values.\n",
    "df.loc[(df.credit_default == \"no\"), 'credit_default'] = 0\n",
    "df.loc[(df.credit_default == \"yes\"), 'credit_default'] = 1"
   ]
  },
  {
   "cell_type": "code",
   "execution_count": 7,
   "metadata": {},
   "outputs": [],
   "source": [
    "#Filling missing values of sex with mode value of dataset which is 0 (female)\n",
    "df['sex'] = df['sex'].fillna(df['sex'].mode()[0])"
   ]
  },
  {
   "cell_type": "code",
   "execution_count": 8,
   "metadata": {},
   "outputs": [
    {
     "data": {
      "text/html": [
       "<div>\n",
       "<style scoped>\n",
       "    .dataframe tbody tr th:only-of-type {\n",
       "        vertical-align: middle;\n",
       "    }\n",
       "\n",
       "    .dataframe tbody tr th {\n",
       "        vertical-align: top;\n",
       "    }\n",
       "\n",
       "    .dataframe thead th {\n",
       "        text-align: right;\n",
       "    }\n",
       "</style>\n",
       "<table border=\"1\" class=\"dataframe\">\n",
       "  <thead>\n",
       "    <tr style=\"text-align: right;\">\n",
       "      <th></th>\n",
       "      <th>modeSex</th>\n",
       "    </tr>\n",
       "    <tr>\n",
       "      <th>education</th>\n",
       "      <th></th>\n",
       "    </tr>\n",
       "  </thead>\n",
       "  <tbody>\n",
       "    <tr>\n",
       "      <th>0</th>\n",
       "      <td>([0], [26])</td>\n",
       "    </tr>\n",
       "    <tr>\n",
       "      <th>1</th>\n",
       "      <td>([0], [1014])</td>\n",
       "    </tr>\n",
       "    <tr>\n",
       "      <th>2</th>\n",
       "      <td>([0], [2908])</td>\n",
       "    </tr>\n",
       "    <tr>\n",
       "      <th>3</th>\n",
       "      <td>([0], [2106])</td>\n",
       "    </tr>\n",
       "  </tbody>\n",
       "</table>\n",
       "</div>"
      ],
      "text/plain": [
       "                 modeSex\n",
       "education               \n",
       "0            ([0], [26])\n",
       "1          ([0], [1014])\n",
       "2          ([0], [2908])\n",
       "3          ([0], [2106])"
      ]
     },
     "execution_count": 8,
     "metadata": {},
     "output_type": "execute_result"
    }
   ],
   "source": [
    "df.groupby(['education'])['sex'].agg([('modeSex', stats.mode)])"
   ]
  },
  {
   "cell_type": "code",
   "execution_count": 9,
   "metadata": {},
   "outputs": [],
   "source": [
    "#Filling missing values of education with mode value of dataset which is 2 (University)\n",
    "df['education'] = df['education'].fillna(df['education'].mode()[0])"
   ]
  },
  {
   "cell_type": "code",
   "execution_count": 10,
   "metadata": {},
   "outputs": [
    {
     "data": {
      "text/html": [
       "<div>\n",
       "<style scoped>\n",
       "    .dataframe tbody tr th:only-of-type {\n",
       "        vertical-align: middle;\n",
       "    }\n",
       "\n",
       "    .dataframe tbody tr th {\n",
       "        vertical-align: top;\n",
       "    }\n",
       "\n",
       "    .dataframe thead th {\n",
       "        text-align: right;\n",
       "    }\n",
       "</style>\n",
       "<table border=\"1\" class=\"dataframe\">\n",
       "  <thead>\n",
       "    <tr style=\"text-align: right;\">\n",
       "      <th></th>\n",
       "      <th></th>\n",
       "      <th>modeStatus</th>\n",
       "    </tr>\n",
       "    <tr>\n",
       "      <th>education</th>\n",
       "      <th>sex</th>\n",
       "      <th></th>\n",
       "    </tr>\n",
       "  </thead>\n",
       "  <tbody>\n",
       "    <tr>\n",
       "      <th rowspan=\"2\" valign=\"top\">0</th>\n",
       "      <th>0</th>\n",
       "      <td>([0], [11])</td>\n",
       "    </tr>\n",
       "    <tr>\n",
       "      <th>1</th>\n",
       "      <td>([0], [3])</td>\n",
       "    </tr>\n",
       "    <tr>\n",
       "      <th rowspan=\"2\" valign=\"top\">1</th>\n",
       "      <th>0</th>\n",
       "      <td>([1], [518])</td>\n",
       "    </tr>\n",
       "    <tr>\n",
       "      <th>1</th>\n",
       "      <td>([1], [282])</td>\n",
       "    </tr>\n",
       "    <tr>\n",
       "      <th rowspan=\"2\" valign=\"top\">2</th>\n",
       "      <th>0</th>\n",
       "      <td>([1], [1250])</td>\n",
       "    </tr>\n",
       "    <tr>\n",
       "      <th>1</th>\n",
       "      <td>([0], [813])</td>\n",
       "    </tr>\n",
       "    <tr>\n",
       "      <th rowspan=\"2\" valign=\"top\">3</th>\n",
       "      <th>0</th>\n",
       "      <td>([0], [1148])</td>\n",
       "    </tr>\n",
       "    <tr>\n",
       "      <th>1</th>\n",
       "      <td>([0], [679])</td>\n",
       "    </tr>\n",
       "  </tbody>\n",
       "</table>\n",
       "</div>"
      ],
      "text/plain": [
       "                  modeStatus\n",
       "education sex               \n",
       "0         0      ([0], [11])\n",
       "          1       ([0], [3])\n",
       "1         0     ([1], [518])\n",
       "          1     ([1], [282])\n",
       "2         0    ([1], [1250])\n",
       "          1     ([0], [813])\n",
       "3         0    ([0], [1148])\n",
       "          1     ([0], [679])"
      ]
     },
     "execution_count": 10,
     "metadata": {},
     "output_type": "execute_result"
    }
   ],
   "source": [
    "#calculating mode value of status based on education and sex\n",
    "df.groupby(['education', 'sex'])['status'].agg([('modeStatus', stats.mode)])"
   ]
  },
  {
   "cell_type": "code",
   "execution_count": 11,
   "metadata": {},
   "outputs": [],
   "source": [
    "#Filling missing values of status based on table we calculated in previous step\n",
    "fill = (df.education == 0) & (df.sex == 0) & (df.status.isnull())\n",
    "df.loc[fill, 'status'] = 0\n",
    "fill = (df.education == 0) & (df.sex == 1) & (df.status.isnull())\n",
    "df.loc[fill, 'status'] = 0\n",
    "fill = (df.education == 1) & (df.sex == 0) & (df.status.isnull())\n",
    "df.loc[fill, 'status'] = 1\n",
    "fill = (df.education == 1) & (df.sex == 1) & (df.status.isnull())\n",
    "df.loc[fill, 'status'] = 1\n",
    "fill = (df.education == 2) & (df.sex == 0) & (df.status.isnull())\n",
    "df.loc[fill, 'status'] = 1\n",
    "fill = (df.education == 2) & (df.sex == 1)& (df.status.isnull())\n",
    "df.loc[fill, 'status'] = 0\n",
    "fill = (df.education == 3) & (df.sex == 0)& (df.status.isnull())\n",
    "df.loc[fill, 'status'] = 0\n",
    "fill = (df.education == 3) & (df.sex == 1)& (df.status.isnull())\n",
    "df.loc[fill, 'status'] = 0"
   ]
  },
  {
   "cell_type": "code",
   "execution_count": 12,
   "metadata": {},
   "outputs": [],
   "source": [
    "#Creating a new column based on sex and status\n",
    "df['sex_status'] = 0\n",
    "df.loc[((df.sex == 1) & (df.status == 1)) , 'sex_status'] = 1 #married man\n",
    "df.loc[((df.sex == 1) & (df.status == 0)) , 'sex_status'] = 2 #single man\n",
    "df.loc[((df.sex == 1) & (df.status == 2)) , 'sex_status'] = 3 #divorced man\n",
    "df.loc[((df.sex == 0) & (df.status == 1)) , 'sex_status'] = 4 #married woman\n",
    "df.loc[((df.sex == 0) & (df.status == 0)) , 'sex_status'] = 5 #single woman\n",
    "df.loc[((df.sex == 0) & (df.status == 2)) , 'sex_status'] = 6 #divorced woman"
   ]
  },
  {
   "cell_type": "code",
   "execution_count": 13,
   "metadata": {},
   "outputs": [],
   "source": [
    "#Removing all rows with age value of -1 to calculate mean value in next step\n",
    "df_temp = df\n",
    "df_temp = df_temp.drop(df_temp[df_temp.age < 21].index)"
   ]
  },
  {
   "cell_type": "code",
   "execution_count": 14,
   "metadata": {},
   "outputs": [
    {
     "data": {
      "text/plain": [
       "sex_status\n",
       "1    41.715616\n",
       "2    33.133429\n",
       "3    43.068966\n",
       "4    37.962737\n",
       "5    31.377128\n",
       "6    41.300000\n",
       "Name: age, dtype: float64"
      ]
     },
     "execution_count": 14,
     "metadata": {},
     "output_type": "execute_result"
    }
   ],
   "source": [
    "#Generating mean value for age based on sex_status\n",
    "df_temp.groupby('sex_status')['age'].mean()"
   ]
  },
  {
   "cell_type": "code",
   "execution_count": 15,
   "metadata": {},
   "outputs": [],
   "source": [
    "#Changing all -1 values of age to mean values generated in previous step.\n",
    "fill = (df.sex_status == 1) & (df.age < 21)\n",
    "df.loc[fill, 'age'] = 41\n",
    "fill = (df.sex_status == 2) & (df.age < 21)\n",
    "df.loc[fill, 'age'] = 33\n",
    "fill = (df.sex_status == 3) & (df.age < 21)\n",
    "df.loc[fill, 'age'] = 43\n",
    "fill = (df.sex_status == 4) & (df.age < 21)\n",
    "df.loc[fill, 'age'] = 37\n",
    "fill = (df.sex_status == 5) & (df.age < 21)\n",
    "df.loc[fill, 'age'] = 31\n",
    "fill = (df.sex_status == 6) & (df.age < 21)\n",
    "df.loc[fill, 'age'] = 41"
   ]
  },
  {
   "cell_type": "code",
   "execution_count": 16,
   "metadata": {},
   "outputs": [],
   "source": [
    "df['expense-may'] = df['ba-may']-(df['ba-apr']-df['pa-may'])\n",
    "df['expense-jun'] = df['ba-jun']-(df['ba-may']-df['pa-jun'])\n",
    "df['expense-jul'] = df['ba-jul']-(df['ba-jun']-df['pa-jul'])\n",
    "df['expense-aug'] = df['ba-aug']-(df['ba-jul']-df['pa-aug'])\n",
    "df['expense-sep'] = df['ba-sep']-(df['ba-aug']-df['pa-sep'])\n",
    "df['avg-expense'] = (df['expense-may'] + df['expense-jun'] + df['expense-jul'] + df['expense-aug'] + df['expense-sep'])/5\n",
    "# df[['limit', 'expense-may', 'expense-jun', 'expense-jul', 'expense-aug', 'expense-sep', 'credit_default']].head(5)"
   ]
  },
  {
   "cell_type": "code",
   "execution_count": 17,
   "metadata": {},
   "outputs": [],
   "source": [
    "df['debt-apr'] = df['ba-apr']-df['pa-may']\n",
    "df['debt-may'] = df['ba-may']-df['pa-jun'] + df['debt-apr']\n",
    "df['debt-jun'] = df['ba-jun']-df['pa-jul'] + df['debt-may']\n",
    "df['debt-jul'] = df['ba-jul']-df['pa-aug'] + df['debt-jun']\n",
    "df['debt-aug'] = df['ba-aug']-df['pa-sep'] + df['debt-jul']\n",
    "\n",
    "df['avg-debt'] = (df['debt-apr']+df['debt-may']+df['debt-jun']+df['debt-jul']+df['debt-aug'])/5\n",
    "df['missed-payments'] = df[['ps-apr', 'ps-may', 'ps-jun', 'ps-jul', 'ps-aug', 'ps-sep']].max(axis=1)\n",
    "df['avg-debt-to-limit-ratio'] = df['avg-debt']/df['limit']\n",
    "df['avg-expense-to-limit-ratio'] = df['avg-expense']/df['limit']\n",
    "# df[['limit','missed-payments','avg-debt','avg-debt-to-limit-ratio','credit_default']].sample(10)"
   ]
  },
  {
   "cell_type": "code",
   "execution_count": 18,
   "metadata": {},
   "outputs": [],
   "source": [
    "df['avg-ba'] = (df['ba-apr']+df['ba-may']+df['ba-jun']+df['ba-jul']+df['ba-aug']+df['ba-sep'])/6\n",
    "df['avg-pa'] = (df['pa-apr']+df['pa-may']+df['pa-jun']+df['pa-jul']+df['pa-aug']+df['pa-sep'])/6"
   ]
  },
  {
   "cell_type": "code",
   "execution_count": 19,
   "metadata": {},
   "outputs": [],
   "source": [
    "# #Changing all values of male and female to 1 and 0\n",
    "# df.loc[(df.sex == 1), 'sex'] = \"male\"\n",
    "# df.loc[(df.sex == 0), 'sex'] = \"female\""
   ]
  },
  {
   "cell_type": "code",
   "execution_count": 20,
   "metadata": {},
   "outputs": [],
   "source": [
    "# df['male'] = 0\n",
    "# df['female'] = 0\n",
    "# df.loc[(df.sex == 1), 'male'] = 1\n",
    "# df.loc[(df.sex == 0), 'female'] = 1"
   ]
  },
  {
   "cell_type": "code",
   "execution_count": 21,
   "metadata": {},
   "outputs": [],
   "source": [
    "# months = ['ps-apr', 'ps-may','ps-jun', 'ps-jul', 'ps-aug', 'ps-sep']\n",
    "# digits = [-2,-1, 0, 1, 2, 3, 4,5 ,6,7 ,8]\n",
    "# for i in months:\n",
    "#     for j in digits:\n",
    "#         df[i+str(j)] = 0\n",
    "# #         df.loc[(df[i] == j), i] = \"str_\" + str(j)\n",
    "\n",
    "# for p in months:\n",
    "#     for q in digits:\n",
    "#         df.loc[(df[p] == q), p+str(q)] = 1\n",
    "    \n",
    "# for w in digits:\n",
    "#     df[\"mp\"+str(w)] = 0\n",
    "    \n",
    "# for o in digits:\n",
    "#     df.loc[(df[\"missed-payments\"] == o), \"mp\"+str(o)] = 1"
   ]
  },
  {
   "cell_type": "code",
   "execution_count": 22,
   "metadata": {},
   "outputs": [],
   "source": [
    "df = pd.concat((df[['ps-sep', 'ps-aug', 'ps-jul', 'ps-jun', 'ps-may', 'ps-apr', 'missed-payments', 'sex_status', 'education']],\n",
    "          pd.get_dummies(df, columns=['ps-sep', 'ps-aug', 'ps-jul', 'ps-jun', 'ps-may', 'ps-apr', 'missed-payments', 'sex_status', 'education'], drop_first=False)),\n",
    "          axis=1)"
   ]
  },
  {
   "cell_type": "markdown",
   "metadata": {},
   "source": [
    "# Classification"
   ]
  },
  {
   "cell_type": "code",
   "execution_count": 23,
   "metadata": {},
   "outputs": [
    {
     "data": {
      "text/plain": [
       "0    7788\n",
       "1    2212\n",
       "Name: credit_default, dtype: int64"
      ]
     },
     "execution_count": 23,
     "metadata": {},
     "output_type": "execute_result"
    }
   ],
   "source": [
    "df['credit_default'].value_counts()"
   ]
  },
  {
   "cell_type": "code",
   "execution_count": 24,
   "metadata": {},
   "outputs": [],
   "source": [
    "# scatter_matrix(df[['limit', 'age','avg-debt','avg-expense']], figsize=(10, 10), c=df['credit_default'], s=50)\n",
    "# plt.show()"
   ]
  },
  {
   "cell_type": "code",
   "execution_count": 25,
   "metadata": {},
   "outputs": [],
   "source": [
    "from sklearn.metrics import confusion_matrix\n",
    "from sklearn.metrics import accuracy_score, f1_score, classification_report\n",
    "from sklearn.metrics import roc_curve, auc, roc_auc_score\n",
    "from sklearn.tree import DecisionTreeClassifier\n",
    "from sklearn.model_selection import train_test_split\n",
    "from sklearn import preprocessing"
   ]
  },
  {
   "cell_type": "code",
   "execution_count": 26,
   "metadata": {},
   "outputs": [],
   "source": [
    "# le = preprocessing.LabelEncoder()\n",
    "# # le.fit(df['sex'])\n",
    "# # df['sex'] = le.transform([\"male\", \"female\"]) \n",
    "# df['sex'] = le.fit_transform(df.sex.values)"
   ]
  },
  {
   "cell_type": "code",
   "execution_count": 199,
   "metadata": {},
   "outputs": [],
   "source": [
    "# attributes = [col for col in df.columns if col != 'credit_default']\n",
    "\n",
    "# attributes = ['limit','education', 'age', 'sex_status',\n",
    "#               'avg-debt', 'avg-expense', 'avg-ba', 'avg-pa',\n",
    "#               'ps-apr','ps-may','ps-jun','ps-jul','ps-aug', 'ps-sep']\n",
    "# attributes = ['limit', 'mp-2','mp-1','mp0','mp1','mp2','mp3','mp4','mp5','mp6','mp7', 'mp8',\n",
    "#              'avg-ba', 'avg-pa','avg-expense', 'sex', 'avg-debt', 'ba-sep', 'pa-sep', 'ba-apr', 'ps-apr']\n",
    "# attributes = ['limit','mp1','mp2','mp3', 'mp8', 'ps-sep2', 'ps-aug2', 'ps-apr2',\n",
    "#              'avg-ba', 'avg-pa','avg-expense', 'sex', 'avg-debt', 'ba-sep', 'pa-sep', 'ba-apr']\n",
    "# attributes = ['limit','education', 'age', 'sex_status',\n",
    "#               'avg-expense', 'avg-ba', 'avg-pa',\n",
    "#               'ps-apr','ps-may','ps-jun','ps-jul','ps-aug', 'ps-sep','ba-sep','ba-aug','ba-jul','pa-sep','pa-aug','pa-jul']\n",
    "# attributes = ['limit', 'age',\n",
    "#              'sex_status_1', 'sex_status_2', 'sex_status_3', 'sex_status_4', 'sex_status_5', 'sex_status_6',\n",
    "#              'education_0', 'education_1', 'education_2', 'education_3',\n",
    "#              'missed-payments_-2', 'missed-payments_-1', 'missed-payments_0', 'missed-payments_1', 'missed-payments_2',\n",
    "#              'missed-payments_3', 'missed-payments_4', 'missed-payments_5', 'missed-payments_6', 'missed-payments_7', 'missed-payments_8',\n",
    "#              'ps-sep_-2','ps-sep_-1','ps-sep_0','ps-sep_1','ps-sep_2','ps-sep_3','ps-sep_4','ps-sep_5','ps-sep_6','ps-sep_7','ps-sep_8',\n",
    "#              'ps-aug_-2','ps-aug_-1','ps-aug_0','ps-aug_1','ps-aug_2','ps-aug_3','ps-aug_4','ps-aug_5','ps-aug_6','ps-aug_7',\n",
    "#              'ps-jul_-2','ps-jul_-1','ps-jul_0','ps-jul_1','ps-jul_2','ps-jul_3','ps-jul_4','ps-jul_5','ps-jul_6','ps-jul_7','ps-jul_8',\n",
    "#              'ps-jun_-2','ps-jun_-1','ps-jun_0','ps-jun_2','ps-jun_3','ps-jun_4','ps-jun_5','ps-jun_6','ps-jun_7','ps-jun_8',\n",
    "#              'ps-may_-2','ps-may_-1','ps-may_0','ps-may_2','ps-may_3','ps-may_4','ps-may_5','ps-may_6','ps-may_7',\n",
    "#              'ps-apr_-2','ps-apr_-1','ps-apr_0','ps-apr_2','ps-apr_3','ps-apr_4','ps-apr_5','ps-apr_6','ps-apr_7','ps-apr_8',\n",
    "#               'expense-may', 'expense-jun', 'expense-jul', 'expense-aug', 'expense-sep',\n",
    "#               'debt-apr', 'debt-may', 'debt-jun', 'debt-jul', 'debt-aug',\n",
    "#               'ba-apr','ba-may','ba-jun','ba-jul','ba-aug','ba-sep',\n",
    "#               'pa-apr','pa-may','pa-jun','pa-jul','pa-aug','pa-sep',\n",
    "#              'avg-debt', 'avg-expense', 'avg-ba', 'avg-pa']\n",
    "# attributes = ['limit', 'age',\n",
    "#              'sex_status_1', 'sex_status_2', 'sex_status_3', 'sex_status_4', 'sex_status_5', 'sex_status_6',\n",
    "#              'education_0', 'education_1', 'education_2', 'education_3',\n",
    "#              'ps-sep_-2','ps-sep_-1','ps-sep_0','ps-sep_1','ps-sep_2','ps-sep_3','ps-sep_4','ps-sep_5','ps-sep_6','ps-sep_7','ps-sep_8',\n",
    "#              'ps-aug_-2','ps-aug_-1','ps-aug_0','ps-aug_1','ps-aug_2','ps-aug_3','ps-aug_4','ps-aug_5','ps-aug_6','ps-aug_7',\n",
    "#              'ps-jul_-2','ps-jul_-1','ps-jul_0','ps-jul_1','ps-jul_2','ps-jul_3','ps-jul_4','ps-jul_5','ps-jul_6','ps-jul_7','ps-jul_8',\n",
    "#              'ps-jun_-2','ps-jun_-1','ps-jun_0','ps-jun_2','ps-jun_3','ps-jun_4','ps-jun_5','ps-jun_6','ps-jun_7','ps-jun_8',\n",
    "#              'ps-may_-2','ps-may_-1','ps-may_0','ps-may_2','ps-may_3','ps-may_4','ps-may_5','ps-may_6','ps-may_7',\n",
    "#              'ps-apr_-2','ps-apr_-1','ps-apr_0','ps-apr_2','ps-apr_3','ps-apr_4','ps-apr_5','ps-apr_6','ps-apr_7','ps-apr_8',\n",
    "#              'avg-debt', 'avg-expense', 'avg-ba', 'avg-pa']\n",
    "# attributes = ['limit',\n",
    "#              'ps-sep_-2','ps-sep_-1','ps-sep_0','ps-sep_1','ps-sep_2','ps-sep_3','ps-sep_4','ps-sep_5','ps-sep_6','ps-sep_7','ps-sep_8',\n",
    "#              'ps-aug_-2','ps-aug_-1','ps-aug_0','ps-aug_1','ps-aug_2','ps-aug_3','ps-aug_4','ps-aug_5','ps-aug_6','ps-aug_7',\n",
    "#              'ps-jul_-2','ps-jul_-1','ps-jul_0','ps-jul_1','ps-jul_2','ps-jul_3','ps-jul_4','ps-jul_5','ps-jul_6','ps-jul_7','ps-jul_8',\n",
    "#               'ba-aug', 'pa-aug','expense-aug', 'expense-sep','avg-expense', 'avg-ba']\n",
    "# attributes = ['age', 'avg-debt-to-limit-ratio',\n",
    "#              'ps-sep_-2','ps-sep_-1','ps-sep_0','ps-sep_1','ps-sep_2','ps-sep_3','ps-sep_4','ps-sep_5','ps-sep_6','ps-sep_7','ps-sep_8',\n",
    "#              'ps-apr_-2','ps-apr_-1','ps-apr_0','ps-apr_2','ps-apr_3','ps-apr_4','ps-apr_5','ps-apr_6','ps-apr_7','ps-apr_8',\n",
    "#               'ba-apr', 'ba-sep','avg-ba', 'avg-pa']\n",
    "attributes = ['limit', 'age',\n",
    "             'sex_status_1', 'sex_status_2', 'sex_status_3', 'sex_status_4', 'sex_status_5', 'sex_status_6',\n",
    "             'education_0', 'education_1', 'education_2', 'education_3',\n",
    "             'ps-sep_-2','ps-sep_-1','ps-sep_0','ps-sep_1','ps-sep_2','ps-sep_3','ps-sep_4','ps-sep_5','ps-sep_6','ps-sep_7','ps-sep_8',\n",
    "             'ps-jul_-2','ps-jul_-1','ps-jul_0','ps-jul_1','ps-jul_2','ps-jul_3','ps-jul_4','ps-jul_5','ps-jul_6','ps-jul_7','ps-jul_8',\n",
    "             'ps-may_-2','ps-may_-1','ps-may_0','ps-may_2','ps-may_3','ps-may_4','ps-may_5','ps-may_6','ps-may_7',\n",
    "             'expense-sep', 'expense-jul', 'expense-may',\n",
    "             'debt-aug', 'debt-jun', 'debt-apr', \n",
    "             'ba-sep', 'ba-jul', 'ba-may', \n",
    "             'pa-aug', 'pa-jun', 'pa-apr',\n",
    "             'avg-debt','avg-expense','avg-ba', 'avg-pa']\n",
    "\n",
    "\n",
    "X = df[attributes].values\n",
    "y = df['credit_default']\n",
    "\n",
    "X_train, X_test, y_train, y_test = train_test_split(X, y, \n",
    "                                                    test_size=0.3, \n",
    "                                                    random_state=100\n",
    "                                                    ,stratify=y)"
   ]
  },
  {
   "cell_type": "code",
   "execution_count": 200,
   "metadata": {},
   "outputs": [
    {
     "data": {
      "text/plain": [
       "DecisionTreeClassifier(class_weight=None, criterion='gini', max_depth=4,\n",
       "            max_features=None, max_leaf_nodes=None,\n",
       "            min_impurity_decrease=0.0, min_impurity_split=None,\n",
       "            min_samples_leaf=1, min_samples_split=50,\n",
       "            min_weight_fraction_leaf=0.0, presort=False, random_state=None,\n",
       "            splitter='best')"
      ]
     },
     "execution_count": 200,
     "metadata": {},
     "output_type": "execute_result"
    }
   ],
   "source": [
    "clf = DecisionTreeClassifier(criterion='gini', max_depth=4, \n",
    "                             min_samples_split=50, min_samples_leaf=1)\n",
    "clf.fit(X_train, y_train)"
   ]
  },
  {
   "cell_type": "markdown",
   "metadata": {},
   "source": [
    "#### Features Importance"
   ]
  },
  {
   "cell_type": "code",
   "execution_count": 201,
   "metadata": {},
   "outputs": [
    {
     "name": "stdout",
     "output_type": "stream",
     "text": [
      "limit 0.0\n",
      "age 0.0\n",
      "sex_status_1 0.0\n",
      "sex_status_2 0.0\n",
      "sex_status_3 0.0\n",
      "sex_status_4 0.0\n",
      "sex_status_5 0.0\n",
      "sex_status_6 0.0\n",
      "education_0 0.0\n",
      "education_1 0.0023437110094878923\n",
      "education_2 0.0\n",
      "education_3 0.0\n",
      "ps-sep_-2 0.011825789117404633\n",
      "ps-sep_-1 0.0\n",
      "ps-sep_0 0.0\n",
      "ps-sep_1 0.031473979930756985\n",
      "ps-sep_2 0.5738789166972984\n",
      "ps-sep_3 0.041834448385345405\n",
      "ps-sep_4 0.0\n",
      "ps-sep_5 0.0\n",
      "ps-sep_6 0.0\n",
      "ps-sep_7 0.0\n",
      "ps-sep_8 0.0\n",
      "ps-jul_-2 0.0\n",
      "ps-jul_-1 0.0\n",
      "ps-jul_0 0.0\n",
      "ps-jul_1 0.0\n",
      "ps-jul_2 0.1762437232006115\n",
      "ps-jul_3 0.0\n",
      "ps-jul_4 0.0\n",
      "ps-jul_5 0.0\n",
      "ps-jul_6 0.0\n",
      "ps-jul_7 0.0\n",
      "ps-jul_8 0.0\n",
      "ps-may_-2 0.0\n",
      "ps-may_-1 0.0\n",
      "ps-may_0 0.0\n",
      "ps-may_2 0.0\n",
      "ps-may_3 0.0\n",
      "ps-may_4 0.0\n",
      "ps-may_5 0.0\n",
      "ps-may_6 0.0\n",
      "ps-may_7 0.0\n",
      "expense-sep 0.0\n",
      "expense-jul 0.0\n",
      "expense-may 0.007307470588757544\n",
      "debt-aug 0.016731547688522884\n",
      "debt-jun 0.0\n",
      "debt-apr 0.0\n",
      "ba-sep 0.011901777617772127\n",
      "ba-jul 0.0\n",
      "ba-may 0.0\n",
      "pa-aug 0.0\n",
      "pa-jun 0.0\n",
      "pa-apr 0.0\n",
      "avg-debt 0.008725980973831779\n",
      "avg-expense 0.117732654790211\n",
      "avg-ba 0.0\n",
      "avg-pa 0.0\n"
     ]
    }
   ],
   "source": [
    "for col, imp in zip(attributes, clf.feature_importances_):\n",
    "    print(col, imp)"
   ]
  },
  {
   "cell_type": "markdown",
   "metadata": {},
   "source": [
    "#### Visualize the decision tree "
   ]
  },
  {
   "cell_type": "code",
   "execution_count": 202,
   "metadata": {},
   "outputs": [],
   "source": [
    "import pydotplus\n",
    "from sklearn import tree\n",
    "from IPython.display import Image"
   ]
  },
  {
   "cell_type": "code",
   "execution_count": 203,
   "metadata": {},
   "outputs": [],
   "source": [
    "import os\n",
    "os.environ['PATH'] += os.pathsep + 'C:/Users/Pouria/Anaconda3/pkgs/graphviz-2.38-hfd603c8_2/Library/bin/graphviz'"
   ]
  },
  {
   "cell_type": "code",
   "execution_count": 204,
   "metadata": {},
   "outputs": [
    {
     "data": {
      "image/png": "[encoded data removed]",
      "text/plain": [
       "<IPython.core.display.Image object>"
      ]
     },
     "execution_count": 204,
     "metadata": {},
     "output_type": "execute_result"
    }
   ],
   "source": [
    "dot_data = tree.export_graphviz(clf, out_file=None,  \n",
    "                                feature_names=attributes, \n",
    "                                class_names=['Defaulted' if x == 1 else 'Not Defaulted' for x in clf.classes_],  \n",
    "                                filled=True, rounded=True,  \n",
    "                                special_characters=True,max_depth=3)  \n",
    "graph = pydotplus.graph_from_dot_data(dot_data)  \n",
    "Image(graph.create_png())"
   ]
  },
  {
   "cell_type": "code",
   "execution_count": 205,
   "metadata": {},
   "outputs": [],
   "source": [
    "y_train_pred = clf.predict(X_train)"
   ]
  },
  {
   "cell_type": "code",
   "execution_count": 206,
   "metadata": {},
   "outputs": [
    {
     "name": "stdout",
     "output_type": "stream",
     "text": [
      "Accuracy 0.8215714285714286\n",
      "F1-score [0.89266993 0.47143462]\n"
     ]
    }
   ],
   "source": [
    "print('Accuracy %s' % accuracy_score(y_train, y_train_pred))\n",
    "print('F1-score %s' % f1_score(y_train, y_train_pred, average=None))"
   ]
  },
  {
   "cell_type": "code",
   "execution_count": 207,
   "metadata": {},
   "outputs": [
    {
     "name": "stdout",
     "output_type": "stream",
     "text": [
      "             precision    recall  f1-score   support\n",
      "\n",
      "          0       0.84      0.95      0.89      5452\n",
      "          1       0.68      0.36      0.47      1548\n",
      "\n",
      "avg / total       0.81      0.82      0.80      7000\n",
      "\n"
     ]
    }
   ],
   "source": [
    "print(classification_report(y_train, y_train_pred))"
   ]
  },
  {
   "cell_type": "code",
   "execution_count": 208,
   "metadata": {},
   "outputs": [
    {
     "data": {
      "text/plain": [
       "array([[5194,  258],\n",
       "       [ 991,  557]], dtype=int64)"
      ]
     },
     "execution_count": 208,
     "metadata": {},
     "output_type": "execute_result"
    }
   ],
   "source": [
    "confusion_matrix(y_train, y_train_pred)"
   ]
  },
  {
   "cell_type": "code",
   "execution_count": 209,
   "metadata": {},
   "outputs": [],
   "source": [
    "y_test_pred = clf.predict(X_test)"
   ]
  },
  {
   "cell_type": "code",
   "execution_count": 210,
   "metadata": {},
   "outputs": [
    {
     "name": "stdout",
     "output_type": "stream",
     "text": [
      "Accuracy 0.8216666666666667\n",
      "F1-score [0.89250553 0.47702835]\n",
      "             precision    recall  f1-score   support\n",
      "\n",
      "          0       0.84      0.95      0.89      2336\n",
      "          1       0.68      0.37      0.48       664\n",
      "\n",
      "avg / total       0.81      0.82      0.80      3000\n",
      "\n"
     ]
    },
    {
     "data": {
      "text/plain": [
       "array([[2221,  115],\n",
       "       [ 420,  244]], dtype=int64)"
      ]
     },
     "execution_count": 210,
     "metadata": {},
     "output_type": "execute_result"
    }
   ],
   "source": [
    "print('Accuracy %s' % accuracy_score(y_test, y_test_pred))\n",
    "print('F1-score %s' % f1_score(y_test, y_test_pred, average=None))\n",
    "print(classification_report(y_test, y_test_pred))\n",
    "confusion_matrix(y_test, y_test_pred)"
   ]
  },
  {
   "cell_type": "code",
   "execution_count": 211,
   "metadata": {},
   "outputs": [],
   "source": [
    "from sklearn.preprocessing import LabelBinarizer"
   ]
  },
  {
   "cell_type": "code",
   "execution_count": 212,
   "metadata": {},
   "outputs": [
    {
     "data": {
      "text/plain": [
       "[0, 1]"
      ]
     },
     "execution_count": 212,
     "metadata": {},
     "output_type": "execute_result"
    }
   ],
   "source": [
    "lb = LabelBinarizer()\n",
    "lb.fit(y_test)\n",
    "lb.classes_.tolist()"
   ]
  },
  {
   "cell_type": "code",
   "execution_count": 213,
   "metadata": {},
   "outputs": [
    {
     "name": "stdout",
     "output_type": "stream",
     "text": [
      "0.659120213731639\n"
     ]
    }
   ],
   "source": [
    "fpr, tpr, _ = roc_curve(y_test, y_test_pred)\n",
    "roc_auc = auc(fpr, tpr)\n",
    "print(roc_auc)\n",
    "\n",
    "roc_auc = roc_auc_score(y_test, y_test_pred, average=None)"
   ]
  },
  {
   "cell_type": "code",
   "execution_count": 214,
   "metadata": {},
   "outputs": [
    {
     "data": {
      "image/png": "[encoded data removed]",
      "text/plain": [
       "<Figure size 576x360 with 1 Axes>"
      ]
     },
     "metadata": {},
     "output_type": "display_data"
    }
   ],
   "source": [
    "plt.figure(figsize=(8, 5))\n",
    "plt.plot(fpr, tpr, label='ROC curve (area = %0.2f)' % (roc_auc))\n",
    "    \n",
    "plt.plot([0, 1], [0, 1], 'k--')\n",
    "plt.xlim([0.0, 1.0])\n",
    "plt.ylim([0.0, 1.05])\n",
    "plt.xlabel('False Positive Rate', fontsize=20)\n",
    "plt.ylabel('True Positive Rate', fontsize=20) \n",
    "plt.tick_params(axis='both', which='major', labelsize=22)\n",
    "plt.legend(loc=\"lower right\", fontsize=14, frameon=False)\n",
    "plt.show()"
   ]
  },
  {
   "cell_type": "markdown",
   "metadata": {},
   "source": [
    "### Cross Validation "
   ]
  },
  {
   "cell_type": "code",
   "execution_count": 215,
   "metadata": {},
   "outputs": [],
   "source": [
    "from sklearn.model_selection import cross_val_score"
   ]
  },
  {
   "cell_type": "code",
   "execution_count": 216,
   "metadata": {},
   "outputs": [
    {
     "name": "stdout",
     "output_type": "stream",
     "text": [
      "Accuracy: 0.8192 (+/- 0.03)\n",
      "F1-score: 0.6795 (+/- 0.05)\n"
     ]
    }
   ],
   "source": [
    "accuracy_cross_scores = cross_val_score(clf, X, y, cv=10)\n",
    "print('Accuracy: %0.4f (+/- %0.2f)' % (accuracy_cross_scores.mean(), accuracy_cross_scores.std() * 2))\n",
    "\n",
    "f1_cross_scores = cross_val_score(clf, X, y, cv=10, scoring='f1_macro')\n",
    "print('F1-score: %0.4f (+/- %0.2f)' % (f1_cross_scores.mean(), f1_cross_scores.std() * 2))"
   ]
  },
  {
   "cell_type": "code",
   "execution_count": 217,
   "metadata": {},
   "outputs": [
    {
     "data": {
      "text/plain": [
       "array([0.81318681, 0.81218781, 0.823     , 0.811     , 0.835     ,\n",
       "       0.799     , 0.826     , 0.843     , 0.80780781, 0.82182182])"
      ]
     },
     "execution_count": 217,
     "metadata": {},
     "output_type": "execute_result"
    }
   ],
   "source": [
    "accuracy_cross_scores"
   ]
  },
  {
   "cell_type": "markdown",
   "metadata": {},
   "source": [
    "### Tuning the hyper-parameters"
   ]
  },
  {
   "cell_type": "code",
   "execution_count": 218,
   "metadata": {},
   "outputs": [],
   "source": [
    "from sklearn.model_selection import GridSearchCV\n",
    "from sklearn.model_selection import RandomizedSearchCV"
   ]
  },
  {
   "cell_type": "code",
   "execution_count": 219,
   "metadata": {},
   "outputs": [],
   "source": [
    "def report(results, n_top=3):\n",
    "    for i in range(1, n_top + 1):\n",
    "        candidates = np.flatnonzero(results['rank_test_score'] == i)\n",
    "        for candidate in candidates:\n",
    "            print(\"Model with rank: {0}\".format(i))\n",
    "            print(\"Mean validation score: {0:.9f} (std: {1:.9f})\".format(\n",
    "                  results['mean_test_score'][candidate],\n",
    "                  results['std_test_score'][candidate]))\n",
    "            print(\"Parameters: {0}\".format(results['params'][candidate]))\n",
    "            print(\"\")"
   ]
  },
  {
   "cell_type": "code",
   "execution_count": 220,
   "metadata": {},
   "outputs": [],
   "source": [
    "param_list = {'criterion': ['gini','entropy'],\n",
    "              'max_depth': [None] + list(np.arange(2, 6)),\n",
    "              'min_samples_split': [2, 5, 10, 20, 30, 40, 50, 60, 70],\n",
    "              'min_samples_leaf': [1, 5, 10, 20, 30, 40, 50, 60, 70],\n",
    "             }\n",
    "# param_list = {'min_samples_split': [47, 48, 49, 50, 51, 52, 53],\n",
    "#               'min_samples_leaf': [17, 18, 19, 20, 21, 22, 23],\n",
    "#              }\n",
    "\n",
    "grid_search = GridSearchCV(clf, param_grid=param_list)\n",
    "grid_search.fit(X, y)\n",
    "# grid_search.fit(X_test, y_test)\n",
    "clf = grid_search.best_estimator_"
   ]
  },
  {
   "cell_type": "code",
   "execution_count": 198,
   "metadata": {},
   "outputs": [
    {
     "name": "stdout",
     "output_type": "stream",
     "text": [
      "Model with rank: 1\n",
      "Mean validation score: 0.792300000 (std: 0.001454268)\n",
      "Parameters: {'criterion': 'gini', 'max_depth': 5, 'min_samples_leaf': 10, 'min_samples_split': 40}\n",
      "\n",
      "Model with rank: 2\n",
      "Mean validation score: 0.792000000 (std: 0.001220688)\n",
      "Parameters: {'criterion': 'gini', 'max_depth': 5, 'min_samples_leaf': 10, 'min_samples_split': 50}\n",
      "\n",
      "Model with rank: 2\n",
      "Mean validation score: 0.792000000 (std: 0.001220688)\n",
      "Parameters: {'criterion': 'gini', 'max_depth': 5, 'min_samples_leaf': 10, 'min_samples_split': 60}\n",
      "\n",
      "Model with rank: 4\n",
      "Mean validation score: 0.791800000 (std: 0.001502824)\n",
      "Parameters: {'criterion': 'gini', 'max_depth': 5, 'min_samples_leaf': 10, 'min_samples_split': 70}\n",
      "\n",
      "Model with rank: 5\n",
      "Mean validation score: 0.791600000 (std: 0.001103097)\n",
      "Parameters: {'criterion': 'gini', 'max_depth': 5, 'min_samples_leaf': 10, 'min_samples_split': 30}\n",
      "\n"
     ]
    }
   ],
   "source": [
    "report(grid_search.cv_results_, n_top=5)"
   ]
  },
  {
   "cell_type": "code",
   "execution_count": 228,
   "metadata": {},
   "outputs": [
    {
     "data": {
      "text/plain": [
       "{'class_weight': None,\n",
       " 'criterion': 'entropy',\n",
       " 'max_depth': 4,\n",
       " 'max_features': None,\n",
       " 'max_leaf_nodes': None,\n",
       " 'min_impurity_decrease': 0.0,\n",
       " 'min_impurity_split': None,\n",
       " 'min_samples_leaf': 30,\n",
       " 'min_samples_split': 2,\n",
       " 'min_weight_fraction_leaf': 0.0,\n",
       " 'presort': False,\n",
       " 'random_state': None,\n",
       " 'splitter': 'best'}"
      ]
     },
     "execution_count": 228,
     "metadata": {},
     "output_type": "execute_result"
    }
   ],
   "source": [
    "grid_search.best_estimator_.get_params()"
   ]
  },
  {
   "cell_type": "code",
   "execution_count": 229,
   "metadata": {},
   "outputs": [],
   "source": [
    "param_list = {'max_depth': [None] + list(np.arange(2, 20)),\n",
    "              'min_samples_split': [2, 5, 10, 20, 30, 50, 100],\n",
    "              'min_samples_leaf': [1, 5, 10, 20, 30, 50, 100],\n",
    "             }\n",
    "\n",
    "random_search = RandomizedSearchCV(clf, param_distributions=param_list, \n",
    "                                   n_iter=100)\n",
    "random_search.fit(X, y)\n",
    "clf = random_search.best_estimator_"
   ]
  },
  {
   "cell_type": "code",
   "execution_count": 230,
   "metadata": {},
   "outputs": [
    {
     "name": "stdout",
     "output_type": "stream",
     "text": [
      "Model with rank: 1\n",
      "Mean validation score: 0.822 (std: 0.004)\n",
      "Parameters: {'min_samples_split': 10, 'min_samples_leaf': 30, 'max_depth': 4}\n",
      "\n",
      "Model with rank: 2\n",
      "Mean validation score: 0.822 (std: 0.003)\n",
      "Parameters: {'min_samples_split': 20, 'min_samples_leaf': 1, 'max_depth': 4}\n",
      "\n",
      "Model with rank: 3\n",
      "Mean validation score: 0.821 (std: 0.003)\n",
      "Parameters: {'min_samples_split': 100, 'min_samples_leaf': 1, 'max_depth': 4}\n",
      "\n",
      "Model with rank: 4\n",
      "Mean validation score: 0.821 (std: 0.004)\n",
      "Parameters: {'min_samples_split': 20, 'min_samples_leaf': 10, 'max_depth': 4}\n",
      "\n",
      "Model with rank: 4\n",
      "Mean validation score: 0.821 (std: 0.004)\n",
      "Parameters: {'min_samples_split': 2, 'min_samples_leaf': 10, 'max_depth': 4}\n",
      "\n"
     ]
    }
   ],
   "source": [
    "report(random_search.cv_results_, n_top=5)"
   ]
  },
  {
   "cell_type": "code",
   "execution_count": 231,
   "metadata": {},
   "outputs": [
    {
     "data": {
      "text/plain": [
       "{'class_weight': None,\n",
       " 'criterion': 'entropy',\n",
       " 'max_depth': 4,\n",
       " 'max_features': None,\n",
       " 'max_leaf_nodes': None,\n",
       " 'min_impurity_decrease': 0.0,\n",
       " 'min_impurity_split': None,\n",
       " 'min_samples_leaf': 30,\n",
       " 'min_samples_split': 10,\n",
       " 'min_weight_fraction_leaf': 0.0,\n",
       " 'presort': False,\n",
       " 'random_state': None,\n",
       " 'splitter': 'best'}"
      ]
     },
     "execution_count": 231,
     "metadata": {},
     "output_type": "execute_result"
    }
   ],
   "source": [
    "random_search.best_estimator_.get_params()"
   ]
  },
  {
   "cell_type": "markdown",
   "metadata": {},
   "source": [
    "# Testing"
   ]
  },
  {
   "cell_type": "code",
   "execution_count": 237,
   "metadata": {},
   "outputs": [],
   "source": [
    "# Load the data\n",
    "\n",
    "df_test = pd.read_csv('files/credit_default_test.csv')"
   ]
  },
  {
   "cell_type": "code",
   "execution_count": 238,
   "metadata": {},
   "outputs": [
    {
     "name": "stdout",
     "output_type": "stream",
     "text": [
      "<class 'pandas.core.frame.DataFrame'>\n",
      "RangeIndex: 20000 entries, 0 to 19999\n",
      "Data columns (total 24 columns):\n",
      "index        20000 non-null int64\n",
      "limit        20000 non-null int64\n",
      "sex          20000 non-null object\n",
      "education    19782 non-null object\n",
      "status       19970 non-null object\n",
      "age          20000 non-null int64\n",
      "ps-sep       20000 non-null int64\n",
      "ps-aug       20000 non-null int64\n",
      "ps-jul       20000 non-null int64\n",
      "ps-jun       20000 non-null int64\n",
      "ps-may       20000 non-null int64\n",
      "ps-apr       20000 non-null int64\n",
      "ba-sep       20000 non-null int64\n",
      "ba-aug       20000 non-null int64\n",
      "ba-jul       20000 non-null int64\n",
      "ba-jun       20000 non-null int64\n",
      "ba-may       20000 non-null int64\n",
      "ba-apr       20000 non-null int64\n",
      "pa-sep       20000 non-null int64\n",
      "pa-aug       20000 non-null int64\n",
      "pa-jul       20000 non-null int64\n",
      "pa-jun       20000 non-null int64\n",
      "pa-may       20000 non-null int64\n",
      "pa-apr       20000 non-null int64\n",
      "dtypes: int64(21), object(3)\n",
      "memory usage: 3.7+ MB\n"
     ]
    }
   ],
   "source": [
    "df_test.info()"
   ]
  },
  {
   "cell_type": "code",
   "execution_count": 239,
   "metadata": {},
   "outputs": [],
   "source": [
    "#Changing all values of male and female to 1 and 0\n",
    "df_test.loc[(df_test.sex == \"male\"), 'sex'] = 1\n",
    "df_test.loc[(df_test.sex == \"female\"), 'sex'] = 0\n",
    "\n",
    "#Changing all values of education to numeric values.\n",
    "df_test.loc[(df_test.education == \"others\"), 'education'] = 0\n",
    "df_test.loc[(df_test.education == \"high school\"), 'education'] = 1\n",
    "df_test.loc[(df_test.education == \"university\"), 'education'] = 2\n",
    "df_test.loc[(df_test.education == \"graduate school\"), 'education'] = 3\n",
    "\n",
    "#Changing all values of status to numeric values.\n",
    "df_test.loc[(df_test.status == \"single\"), 'status'] = 0\n",
    "df_test.loc[(df_test.status == \"married\"), 'status'] = 1\n",
    "df_test.loc[(df_test.status == \"others\"), 'status'] = 2"
   ]
  },
  {
   "cell_type": "code",
   "execution_count": 240,
   "metadata": {},
   "outputs": [],
   "source": [
    "#Filling missing values of education with mode value of dataset which is 2 (University)\n",
    "df_test['education'] = df_test['education'].fillna(df_test['education'].mode()[0])"
   ]
  },
  {
   "cell_type": "code",
   "execution_count": 241,
   "metadata": {},
   "outputs": [
    {
     "data": {
      "text/html": [
       "<div>\n",
       "<style scoped>\n",
       "    .dataframe tbody tr th:only-of-type {\n",
       "        vertical-align: middle;\n",
       "    }\n",
       "\n",
       "    .dataframe tbody tr th {\n",
       "        vertical-align: top;\n",
       "    }\n",
       "\n",
       "    .dataframe thead th {\n",
       "        text-align: right;\n",
       "    }\n",
       "</style>\n",
       "<table border=\"1\" class=\"dataframe\">\n",
       "  <thead>\n",
       "    <tr style=\"text-align: right;\">\n",
       "      <th></th>\n",
       "      <th></th>\n",
       "      <th>modeStatus</th>\n",
       "    </tr>\n",
       "    <tr>\n",
       "      <th>education</th>\n",
       "      <th>sex</th>\n",
       "      <th></th>\n",
       "    </tr>\n",
       "  </thead>\n",
       "  <tbody>\n",
       "    <tr>\n",
       "      <th rowspan=\"2\" valign=\"top\">0</th>\n",
       "      <th>0</th>\n",
       "      <td>([0], [32])</td>\n",
       "    </tr>\n",
       "    <tr>\n",
       "      <th>1</th>\n",
       "      <td>([0], [18])</td>\n",
       "    </tr>\n",
       "    <tr>\n",
       "      <th rowspan=\"2\" valign=\"top\">1</th>\n",
       "      <th>0</th>\n",
       "      <td>([1], [1181])</td>\n",
       "    </tr>\n",
       "    <tr>\n",
       "      <th>1</th>\n",
       "      <td>([1], [697])</td>\n",
       "    </tr>\n",
       "    <tr>\n",
       "      <th rowspan=\"2\" valign=\"top\">2</th>\n",
       "      <th>0</th>\n",
       "      <td>([1], [3067])</td>\n",
       "    </tr>\n",
       "    <tr>\n",
       "      <th>1</th>\n",
       "      <td>([0], [2003])</td>\n",
       "    </tr>\n",
       "    <tr>\n",
       "      <th rowspan=\"2\" valign=\"top\">3</th>\n",
       "      <th>0</th>\n",
       "      <td>([0], [2762])</td>\n",
       "    </tr>\n",
       "    <tr>\n",
       "      <th>1</th>\n",
       "      <td>([0], [1811])</td>\n",
       "    </tr>\n",
       "  </tbody>\n",
       "</table>\n",
       "</div>"
      ],
      "text/plain": [
       "                  modeStatus\n",
       "education sex               \n",
       "0         0      ([0], [32])\n",
       "          1      ([0], [18])\n",
       "1         0    ([1], [1181])\n",
       "          1     ([1], [697])\n",
       "2         0    ([1], [3067])\n",
       "          1    ([0], [2003])\n",
       "3         0    ([0], [2762])\n",
       "          1    ([0], [1811])"
      ]
     },
     "execution_count": 241,
     "metadata": {},
     "output_type": "execute_result"
    }
   ],
   "source": [
    "#calculating mode value of status based on education and sex\n",
    "df_test.groupby(['education', 'sex'])['status'].agg([('modeStatus', stats.mode)])"
   ]
  },
  {
   "cell_type": "code",
   "execution_count": 242,
   "metadata": {},
   "outputs": [],
   "source": [
    "#Filling missing values of status based on table we calculated in previous step\n",
    "fill = (df_test.education == 0) & (df_test.sex == 0) & (df_test.status.isnull())\n",
    "df_test.loc[fill, 'status'] = 0\n",
    "fill = (df_test.education == 0) & (df_test.sex == 1) & (df_test.status.isnull())\n",
    "df_test.loc[fill, 'status'] = 0\n",
    "fill = (df_test.education == 1) & (df_test.sex == 0) & (df_test.status.isnull())\n",
    "df_test.loc[fill, 'status'] = 1\n",
    "fill = (df_test.education == 1) & (df_test.sex == 1) & (df_test.status.isnull())\n",
    "df_test.loc[fill, 'status'] = 1\n",
    "fill = (df_test.education == 2) & (df_test.sex == 0) & (df_test.status.isnull())\n",
    "df_test.loc[fill, 'status'] = 1\n",
    "fill = (df_test.education == 2) & (df_test.sex == 1)& (df_test.status.isnull())\n",
    "df_test.loc[fill, 'status'] = 0\n",
    "fill = (df_test.education == 3) & (df_test.sex == 0)& (df_test.status.isnull())\n",
    "df_test.loc[fill, 'status'] = 0\n",
    "fill = (df_test.education == 3) & (df_test.sex == 1)& (df_test.status.isnull())\n",
    "df_test.loc[fill, 'status'] = 0"
   ]
  },
  {
   "cell_type": "code",
   "execution_count": 243,
   "metadata": {},
   "outputs": [],
   "source": [
    "#Creating a new column based on sex and status\n",
    "df_test['sex_status'] = 0\n",
    "df_test.loc[((df_test.sex == 1) & (df_test.status == 1)) , 'sex_status'] = 1 #married man\n",
    "df_test.loc[((df_test.sex == 1) & (df_test.status == 0)) , 'sex_status'] = 2 #single man\n",
    "df_test.loc[((df_test.sex == 1) & (df_test.status == 2)) , 'sex_status'] = 3 #divorced man\n",
    "df_test.loc[((df_test.sex == 0) & (df_test.status == 1)) , 'sex_status'] = 4 #married woman\n",
    "df_test.loc[((df_test.sex == 0) & (df_test.status == 0)) , 'sex_status'] = 5 #single woman\n",
    "df_test.loc[((df_test.sex == 0) & (df_test.status == 2)) , 'sex_status'] = 6 #divorced woman"
   ]
  },
  {
   "cell_type": "code",
   "execution_count": 244,
   "metadata": {},
   "outputs": [],
   "source": [
    "df_test['expense-may'] = df_test['ba-may']-(df_test['ba-apr']-df_test['pa-may'])\n",
    "df_test['expense-jun'] = df_test['ba-jun']-(df_test['ba-may']-df_test['pa-jun'])\n",
    "df_test['expense-jul'] = df_test['ba-jul']-(df_test['ba-jun']-df_test['pa-jul'])\n",
    "df_test['expense-aug'] = df_test['ba-aug']-(df_test['ba-jul']-df_test['pa-aug'])\n",
    "df_test['expense-sep'] = df_test['ba-sep']-(df_test['ba-aug']-df_test['pa-sep'])\n",
    "df_test['avg-expense'] = (df_test['expense-may'] + df_test['expense-jun'] + df_test['expense-jul'] +\n",
    "                          df_test['expense-aug'] + df_test['expense-sep'])/5"
   ]
  },
  {
   "cell_type": "code",
   "execution_count": 245,
   "metadata": {},
   "outputs": [],
   "source": [
    "df_test['debt-apr'] = df_test['ba-apr']-df_test['pa-may']\n",
    "df_test['debt-may'] = df_test['ba-may']-df_test['pa-jun'] + df_test['debt-apr']\n",
    "df_test['debt-jun'] = df_test['ba-jun']-df_test['pa-jul'] + df_test['debt-may']\n",
    "df_test['debt-jul'] = df_test['ba-jul']-df_test['pa-aug'] + df_test['debt-jun']\n",
    "df_test['debt-aug'] = df_test['ba-aug']-df_test['pa-sep'] + df_test['debt-jul']\n",
    "\n",
    "df_test['avg-debt'] = (df_test['debt-apr']+df_test['debt-may']+df_test['debt-jun']+df_test['debt-jul']+df_test['debt-aug'])/5\n",
    "df_test['missed-payments'] = df_test[['ps-apr', 'ps-may', 'ps-jun', 'ps-jul', 'ps-aug', 'ps-sep']].max(axis=1)\n",
    "df_test['avg-debt-to-limit-ratio'] = df_test['avg-debt']/df_test['limit']\n",
    "df_test['avg-expense-to-limit-ratio'] = df_test['avg-expense']/df_test['limit']"
   ]
  },
  {
   "cell_type": "code",
   "execution_count": 246,
   "metadata": {},
   "outputs": [],
   "source": [
    "df_test['avg-ba'] = (df_test['ba-apr']+df_test['ba-may']+df_test['ba-jun']+\n",
    "                     df_test['ba-jul']+df_test['ba-aug']+df_test['ba-sep'])/6\n",
    "df_test['avg-pa'] = (df_test['pa-apr']+df_test['pa-may']+df_test['pa-jun']+\n",
    "                     df_test['pa-jul']+df_test['pa-aug']+df_test['pa-sep'])/6"
   ]
  },
  {
   "cell_type": "code",
   "execution_count": 247,
   "metadata": {},
   "outputs": [],
   "source": [
    "df_test = pd.concat((df_test[['ps-sep', 'ps-aug', 'ps-jul', 'ps-jun', 'ps-may', 'ps-apr', 'missed-payments', 'sex_status', 'education']],\n",
    "          pd.get_dummies(df_test, columns=['ps-sep', 'ps-aug', 'ps-jul', 'ps-jun', 'ps-may', 'ps-apr', 'missed-payments', 'sex_status', 'education'], drop_first=False)),\n",
    "          axis=1)"
   ]
  },
  {
   "cell_type": "code",
   "execution_count": 248,
   "metadata": {},
   "outputs": [
    {
     "data": {
      "text/plain": [
       " 0    11320\n",
       "-1     3702\n",
       "-2     3014\n",
       " 2     1738\n",
       " 3      120\n",
       " 4       57\n",
       " 7       35\n",
       " 5       12\n",
       " 6        2\n",
       "Name: ps-may, dtype: int64"
      ]
     },
     "execution_count": 248,
     "metadata": {},
     "output_type": "execute_result"
    }
   ],
   "source": [
    "df_test['ps-may'].value_counts()"
   ]
  },
  {
   "cell_type": "code",
   "execution_count": 250,
   "metadata": {},
   "outputs": [],
   "source": [
    "# TEST_attributes = [col for col in df_test.columns if col != 'index']\n",
    "TEST_attributes = attributes\n",
    "TEST_X = df_test[TEST_attributes].values\n",
    "\n",
    "TEST_pred = clf.predict(TEST_X)\n",
    "# TEST_pred = random_forest_clf.predict(TEST_X)"
   ]
  },
  {
   "cell_type": "code",
   "execution_count": 251,
   "metadata": {},
   "outputs": [],
   "source": [
    "def outputResult(TEST_pred):\n",
    "    f = open(\"result8.csv\", \"w\")\n",
    "    f.write(\"index,credit_default\\n\")\n",
    "    for i in range(20000):\n",
    "        value = \"\"\n",
    "        if(TEST_pred[i] == 0):\n",
    "            value = \"no\"\n",
    "        else:\n",
    "            value = \"yes\"\n",
    "        f.write(str(i) + \",\" + str(value) + \"\\n\")"
   ]
  },
  {
   "cell_type": "code",
   "execution_count": 252,
   "metadata": {},
   "outputs": [],
   "source": [
    "outputResult(TEST_pred)"
   ]
  },
  {
   "cell_type": "code",
   "execution_count": 253,
   "metadata": {},
   "outputs": [
    {
     "data": {
      "text/html": [
       "<div>\n",
       "<style scoped>\n",
       "    .dataframe tbody tr th:only-of-type {\n",
       "        vertical-align: middle;\n",
       "    }\n",
       "\n",
       "    .dataframe tbody tr th {\n",
       "        vertical-align: top;\n",
       "    }\n",
       "\n",
       "    .dataframe thead th {\n",
       "        text-align: right;\n",
       "    }\n",
       "</style>\n",
       "<table border=\"1\" class=\"dataframe\">\n",
       "  <thead>\n",
       "    <tr style=\"text-align: right;\">\n",
       "      <th></th>\n",
       "      <th>index</th>\n",
       "      <th>credit_default</th>\n",
       "    </tr>\n",
       "  </thead>\n",
       "  <tbody>\n",
       "    <tr>\n",
       "      <th>0</th>\n",
       "      <td>0</td>\n",
       "      <td>no</td>\n",
       "    </tr>\n",
       "    <tr>\n",
       "      <th>1</th>\n",
       "      <td>1</td>\n",
       "      <td>no</td>\n",
       "    </tr>\n",
       "    <tr>\n",
       "      <th>2</th>\n",
       "      <td>2</td>\n",
       "      <td>no</td>\n",
       "    </tr>\n",
       "    <tr>\n",
       "      <th>3</th>\n",
       "      <td>3</td>\n",
       "      <td>no</td>\n",
       "    </tr>\n",
       "    <tr>\n",
       "      <th>4</th>\n",
       "      <td>4</td>\n",
       "      <td>no</td>\n",
       "    </tr>\n",
       "  </tbody>\n",
       "</table>\n",
       "</div>"
      ],
      "text/plain": [
       "   index credit_default\n",
       "0      0             no\n",
       "1      1             no\n",
       "2      2             no\n",
       "3      3             no\n",
       "4      4             no"
      ]
     },
     "execution_count": 253,
     "metadata": {},
     "output_type": "execute_result"
    }
   ],
   "source": [
    "# Load the data\n",
    "\n",
    "df_pred = pd.read_csv('files/result8.csv')\n",
    "df_pred.head()"
   ]
  },
  {
   "cell_type": "code",
   "execution_count": 254,
   "metadata": {},
   "outputs": [
    {
     "data": {
      "text/html": [
       "<div>\n",
       "<style scoped>\n",
       "    .dataframe tbody tr th:only-of-type {\n",
       "        vertical-align: middle;\n",
       "    }\n",
       "\n",
       "    .dataframe tbody tr th {\n",
       "        vertical-align: top;\n",
       "    }\n",
       "\n",
       "    .dataframe thead th {\n",
       "        text-align: right;\n",
       "    }\n",
       "</style>\n",
       "<table border=\"1\" class=\"dataframe\">\n",
       "  <thead>\n",
       "    <tr style=\"text-align: right;\">\n",
       "      <th></th>\n",
       "      <th>index</th>\n",
       "    </tr>\n",
       "    <tr>\n",
       "      <th>credit_default</th>\n",
       "      <th></th>\n",
       "    </tr>\n",
       "  </thead>\n",
       "  <tbody>\n",
       "    <tr>\n",
       "      <th>no</th>\n",
       "      <td>17815</td>\n",
       "    </tr>\n",
       "    <tr>\n",
       "      <th>yes</th>\n",
       "      <td>2185</td>\n",
       "    </tr>\n",
       "  </tbody>\n",
       "</table>\n",
       "</div>"
      ],
      "text/plain": [
       "                index\n",
       "credit_default       \n",
       "no              17815\n",
       "yes              2185"
      ]
     },
     "execution_count": 254,
     "metadata": {},
     "output_type": "execute_result"
    }
   ],
   "source": [
    "df_pred.groupby('credit_default').count()"
   ]
  },
  {
   "cell_type": "code",
   "execution_count": 61,
   "metadata": {},
   "outputs": [
    {
     "data": {
      "text/plain": [
       "credit_default\n",
       "0    7788\n",
       "1    2212\n",
       "Name: credit_default, dtype: int64"
      ]
     },
     "execution_count": 61,
     "metadata": {},
     "output_type": "execute_result"
    }
   ],
   "source": [
    "df.groupby('credit_default')['credit_default'].count()"
   ]
  },
  {
   "cell_type": "markdown",
   "metadata": {},
   "source": [
    "# Random Forest"
   ]
  },
  {
   "cell_type": "code",
   "execution_count": 544,
   "metadata": {},
   "outputs": [],
   "source": [
    "from sklearn.ensemble import RandomForestClassifier"
   ]
  },
  {
   "cell_type": "code",
   "execution_count": 569,
   "metadata": {},
   "outputs": [
    {
     "data": {
      "text/plain": [
       "RandomForestClassifier(bootstrap=True, class_weight=None, criterion='gini',\n",
       "            max_depth=5, max_features='auto', max_leaf_nodes=None,\n",
       "            min_impurity_decrease=0.0, min_impurity_split=None,\n",
       "            min_samples_leaf=5, min_samples_split=50,\n",
       "            min_weight_fraction_leaf=0.0, n_estimators=200, n_jobs=1,\n",
       "            oob_score=False, random_state=None, verbose=0,\n",
       "            warm_start=False)"
      ]
     },
     "execution_count": 569,
     "metadata": {},
     "output_type": "execute_result"
    }
   ],
   "source": [
    "random_forest_clf = RandomForestClassifier(n_estimators=200, \n",
    "                             criterion='gini', \n",
    "                             max_depth=5, \n",
    "                             min_samples_split=50, \n",
    "                             min_samples_leaf=5, \n",
    "                             class_weight=None)\n",
    "random_forest_clf.fit(X_train, y_train)"
   ]
  },
  {
   "cell_type": "code",
   "execution_count": 570,
   "metadata": {},
   "outputs": [],
   "source": [
    "y_test_pred_random_forest = random_forest_clf.predict(X_test)"
   ]
  },
  {
   "cell_type": "code",
   "execution_count": 571,
   "metadata": {},
   "outputs": [
    {
     "name": "stdout",
     "output_type": "stream",
     "text": [
      "Accuracy 0.8176666666666667\n",
      "F1-score [0.89031482 0.46001974]\n"
     ]
    }
   ],
   "source": [
    "print('Accuracy %s' % accuracy_score(y_test, y_test_pred_random_forest))\n",
    "print('F1-score %s' % f1_score(y_test, y_test_pred_random_forest, average=None))"
   ]
  },
  {
   "cell_type": "code",
   "execution_count": 560,
   "metadata": {},
   "outputs": [
    {
     "name": "stdout",
     "output_type": "stream",
     "text": [
      "Accuracy: 0.8228 (+/- 0.02)\n",
      "F1-score: 0.6919 (+/- 0.04)\n"
     ]
    }
   ],
   "source": [
    "scores = cross_val_score(random_forest_clf, X, y, cv=10)\n",
    "print('Accuracy: %0.4f (+/- %0.2f)' % (scores.mean(), scores.std() * 2))\n",
    "\n",
    "scores = cross_val_score(random_forest_clf, X, y, cv=10, scoring='f1_macro')\n",
    "print('F1-score: %0.4f (+/- %0.2f)' % (scores.mean(), scores.std() * 2))"
   ]
  },
  {
   "cell_type": "code",
   "execution_count": 555,
   "metadata": {},
   "outputs": [],
   "source": [
    "param_list = {'max_depth': [None] + list(np.arange(3, 5)),\n",
    "              'n_estimators':[10,100,200],\n",
    "              'min_samples_split': [2,5,10,50,100],\n",
    "              'min_samples_leaf': [2,5,10,50,100],\n",
    "             }\n",
    "# param_list = {'criterion': ['gini','entropy'],\n",
    "#               'max_depth': [None] + list(np.arange(2, 5)),\n",
    "#               'min_samples_split': [2, 3, 4, 5, 6, 7, 8],\n",
    "#               'min_samples_leaf': [2, 3, 4, 5, 6, 7, 8],\n",
    "#              }\n",
    "\n",
    "grid_search = GridSearchCV(random_forest_clf, param_grid=param_list)\n",
    "# grid_search.fit(X, y)\n",
    "grid_search.fit(X_test, y_test)\n",
    "random_forest_clf = grid_search.best_estimator_"
   ]
  },
  {
   "cell_type": "code",
   "execution_count": 556,
   "metadata": {},
   "outputs": [
    {
     "name": "stdout",
     "output_type": "stream",
     "text": [
      "Model with rank: 1\n",
      "Mean validation score: 0.823666667 (std: 0.006317018)\n",
      "Parameters: {'max_depth': None, 'min_samples_leaf': 5, 'min_samples_split': 50, 'n_estimators': 200}\n",
      "\n",
      "Model with rank: 2\n",
      "Mean validation score: 0.823000000 (std: 0.008612877)\n",
      "Parameters: {'max_depth': None, 'min_samples_leaf': 2, 'min_samples_split': 100, 'n_estimators': 200}\n",
      "\n",
      "Model with rank: 3\n",
      "Mean validation score: 0.822666667 (std: 0.007275519)\n",
      "Parameters: {'max_depth': None, 'min_samples_leaf': 5, 'min_samples_split': 100, 'n_estimators': 200}\n",
      "\n"
     ]
    }
   ],
   "source": [
    "report(grid_search.cv_results_, n_top=3)"
   ]
  },
  {
   "cell_type": "code",
   "execution_count": null,
   "metadata": {},
   "outputs": [],
   "source": []
  }
 ],
 "metadata": {
  "kernelspec": {
   "display_name": "Python 3",
   "language": "python",
   "name": "python3"
  },
  "language_info": {
   "codemirror_mode": {
    "name": "ipython",
    "version": 3
   },
   "file_extension": ".py",
   "mimetype": "text/x-python",
   "name": "python",
   "nbconvert_exporter": "python",
   "pygments_lexer": "ipython3",
   "version": "3.6.5"
  }
 },
 "nbformat": 4,
 "nbformat_minor": 2
}
