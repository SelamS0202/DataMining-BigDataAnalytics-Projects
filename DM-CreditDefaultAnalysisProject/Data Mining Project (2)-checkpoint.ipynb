{
 "cells": [
  {
   "cell_type": "code",
   "execution_count": 2,
   "metadata": {},
   "outputs": [],
   "source": [
    "%matplotlib inline\n",
    "import math\n",
    "import numpy as np\n",
    "import pandas as pd\n",
    "import scipy.stats as stats\n",
    "import matplotlib.pyplot as plt\n",
    "from math import pi"
   ]
  },
  {
   "cell_type": "code",
   "execution_count": 3,
   "metadata": {},
   "outputs": [
    {
     "data": {
      "text/html": [
       "<div>\n",
       "<style scoped>\n",
       "    .dataframe tbody tr th:only-of-type {\n",
       "        vertical-align: middle;\n",
       "    }\n",
       "\n",
       "    .dataframe tbody tr th {\n",
       "        vertical-align: top;\n",
       "    }\n",
       "\n",
       "    .dataframe thead th {\n",
       "        text-align: right;\n",
       "    }\n",
       "</style>\n",
       "<table border=\"1\" class=\"dataframe\">\n",
       "  <thead>\n",
       "    <tr style=\"text-align: right;\">\n",
       "      <th></th>\n",
       "      <th>limit</th>\n",
       "      <th>sex</th>\n",
       "      <th>education</th>\n",
       "      <th>status</th>\n",
       "      <th>age</th>\n",
       "      <th>ps-sep</th>\n",
       "      <th>ps-aug</th>\n",
       "      <th>ps-jul</th>\n",
       "      <th>ps-jun</th>\n",
       "      <th>ps-may</th>\n",
       "      <th>...</th>\n",
       "      <th>ba-jun</th>\n",
       "      <th>ba-may</th>\n",
       "      <th>ba-apr</th>\n",
       "      <th>pa-sep</th>\n",
       "      <th>pa-aug</th>\n",
       "      <th>pa-jul</th>\n",
       "      <th>pa-jun</th>\n",
       "      <th>pa-may</th>\n",
       "      <th>pa-apr</th>\n",
       "      <th>credit_default</th>\n",
       "    </tr>\n",
       "  </thead>\n",
       "  <tbody>\n",
       "    <tr>\n",
       "      <th>0</th>\n",
       "      <td>50000</td>\n",
       "      <td>male</td>\n",
       "      <td>graduate school</td>\n",
       "      <td>NaN</td>\n",
       "      <td>25</td>\n",
       "      <td>2</td>\n",
       "      <td>0</td>\n",
       "      <td>0</td>\n",
       "      <td>0</td>\n",
       "      <td>0</td>\n",
       "      <td>...</td>\n",
       "      <td>49535</td>\n",
       "      <td>30358</td>\n",
       "      <td>30302</td>\n",
       "      <td>2130</td>\n",
       "      <td>1905</td>\n",
       "      <td>1811</td>\n",
       "      <td>1100</td>\n",
       "      <td>1100</td>\n",
       "      <td>1200</td>\n",
       "      <td>no</td>\n",
       "    </tr>\n",
       "    <tr>\n",
       "      <th>1</th>\n",
       "      <td>200000</td>\n",
       "      <td>male</td>\n",
       "      <td>university</td>\n",
       "      <td>married</td>\n",
       "      <td>54</td>\n",
       "      <td>-1</td>\n",
       "      <td>-1</td>\n",
       "      <td>-1</td>\n",
       "      <td>-1</td>\n",
       "      <td>-1</td>\n",
       "      <td>...</td>\n",
       "      <td>6335</td>\n",
       "      <td>4616</td>\n",
       "      <td>7956</td>\n",
       "      <td>10120</td>\n",
       "      <td>7852</td>\n",
       "      <td>6336</td>\n",
       "      <td>4622</td>\n",
       "      <td>7956</td>\n",
       "      <td>5499</td>\n",
       "      <td>no</td>\n",
       "    </tr>\n",
       "    <tr>\n",
       "      <th>2</th>\n",
       "      <td>30000</td>\n",
       "      <td>female</td>\n",
       "      <td>high school</td>\n",
       "      <td>married</td>\n",
       "      <td>-1</td>\n",
       "      <td>2</td>\n",
       "      <td>3</td>\n",
       "      <td>2</td>\n",
       "      <td>2</td>\n",
       "      <td>2</td>\n",
       "      <td>...</td>\n",
       "      <td>30496</td>\n",
       "      <td>29731</td>\n",
       "      <td>29047</td>\n",
       "      <td>0</td>\n",
       "      <td>1700</td>\n",
       "      <td>1100</td>\n",
       "      <td>3</td>\n",
       "      <td>1053</td>\n",
       "      <td>1303</td>\n",
       "      <td>no</td>\n",
       "    </tr>\n",
       "    <tr>\n",
       "      <th>3</th>\n",
       "      <td>140000</td>\n",
       "      <td>female</td>\n",
       "      <td>university</td>\n",
       "      <td>single</td>\n",
       "      <td>-1</td>\n",
       "      <td>0</td>\n",
       "      <td>0</td>\n",
       "      <td>0</td>\n",
       "      <td>0</td>\n",
       "      <td>0</td>\n",
       "      <td>...</td>\n",
       "      <td>25224</td>\n",
       "      <td>26855</td>\n",
       "      <td>23783</td>\n",
       "      <td>2000</td>\n",
       "      <td>2000</td>\n",
       "      <td>900</td>\n",
       "      <td>2000</td>\n",
       "      <td>10000</td>\n",
       "      <td>5000</td>\n",
       "      <td>no</td>\n",
       "    </tr>\n",
       "    <tr>\n",
       "      <th>4</th>\n",
       "      <td>60000</td>\n",
       "      <td>female</td>\n",
       "      <td>high school</td>\n",
       "      <td>married</td>\n",
       "      <td>36</td>\n",
       "      <td>1</td>\n",
       "      <td>2</td>\n",
       "      <td>2</td>\n",
       "      <td>0</td>\n",
       "      <td>0</td>\n",
       "      <td>...</td>\n",
       "      <td>48738</td>\n",
       "      <td>49601</td>\n",
       "      <td>52773</td>\n",
       "      <td>1788</td>\n",
       "      <td>0</td>\n",
       "      <td>1894</td>\n",
       "      <td>1801</td>\n",
       "      <td>3997</td>\n",
       "      <td>0</td>\n",
       "      <td>yes</td>\n",
       "    </tr>\n",
       "  </tbody>\n",
       "</table>\n",
       "<p>5 rows × 24 columns</p>\n",
       "</div>"
      ],
      "text/plain": [
       "    limit     sex        education   status  age  ps-sep  ps-aug  ps-jul  \\\n",
       "0   50000    male  graduate school      NaN   25       2       0       0   \n",
       "1  200000    male       university  married   54      -1      -1      -1   \n",
       "2   30000  female      high school  married   -1       2       3       2   \n",
       "3  140000  female       university   single   -1       0       0       0   \n",
       "4   60000  female      high school  married   36       1       2       2   \n",
       "\n",
       "   ps-jun  ps-may       ...        ba-jun  ba-may  ba-apr  pa-sep  pa-aug  \\\n",
       "0       0       0       ...         49535   30358   30302    2130    1905   \n",
       "1      -1      -1       ...          6335    4616    7956   10120    7852   \n",
       "2       2       2       ...         30496   29731   29047       0    1700   \n",
       "3       0       0       ...         25224   26855   23783    2000    2000   \n",
       "4       0       0       ...         48738   49601   52773    1788       0   \n",
       "\n",
       "   pa-jul  pa-jun  pa-may  pa-apr  credit_default  \n",
       "0    1811    1100    1100    1200              no  \n",
       "1    6336    4622    7956    5499              no  \n",
       "2    1100       3    1053    1303              no  \n",
       "3     900    2000   10000    5000              no  \n",
       "4    1894    1801    3997       0             yes  \n",
       "\n",
       "[5 rows x 24 columns]"
      ]
     },
     "execution_count": 3,
     "metadata": {},
     "output_type": "execute_result"
    }
   ],
   "source": [
    "# Load the data\n",
    "\n",
    "df = pd.read_csv('files/credit_default_train.csv')\n",
    "df.head()"
   ]
  },
  {
   "cell_type": "code",
   "execution_count": 4,
   "metadata": {},
   "outputs": [],
   "source": [
    "#Changing all values of male and female to 1 and 0\n",
    "df.loc[(df.sex == \"male\"), 'sex'] = 1\n",
    "df.loc[(df.sex == \"female\"), 'sex'] = 0"
   ]
  },
  {
   "cell_type": "code",
   "execution_count": 5,
   "metadata": {},
   "outputs": [
    {
     "data": {
      "text/html": [
       "<div>\n",
       "<style scoped>\n",
       "    .dataframe tbody tr th:only-of-type {\n",
       "        vertical-align: middle;\n",
       "    }\n",
       "\n",
       "    .dataframe tbody tr th {\n",
       "        vertical-align: top;\n",
       "    }\n",
       "\n",
       "    .dataframe thead th {\n",
       "        text-align: right;\n",
       "    }\n",
       "</style>\n",
       "<table border=\"1\" class=\"dataframe\">\n",
       "  <thead>\n",
       "    <tr style=\"text-align: right;\">\n",
       "      <th></th>\n",
       "      <th>limit</th>\n",
       "      <th>sex</th>\n",
       "      <th>education</th>\n",
       "      <th>status</th>\n",
       "      <th>age</th>\n",
       "      <th>ps-sep</th>\n",
       "      <th>ps-aug</th>\n",
       "      <th>ps-jul</th>\n",
       "      <th>ps-jun</th>\n",
       "      <th>ps-may</th>\n",
       "      <th>...</th>\n",
       "      <th>ba-jun</th>\n",
       "      <th>ba-may</th>\n",
       "      <th>ba-apr</th>\n",
       "      <th>pa-sep</th>\n",
       "      <th>pa-aug</th>\n",
       "      <th>pa-jul</th>\n",
       "      <th>pa-jun</th>\n",
       "      <th>pa-may</th>\n",
       "      <th>pa-apr</th>\n",
       "      <th>credit_default</th>\n",
       "    </tr>\n",
       "  </thead>\n",
       "  <tbody>\n",
       "    <tr>\n",
       "      <th>0</th>\n",
       "      <td>50000</td>\n",
       "      <td>1</td>\n",
       "      <td>3</td>\n",
       "      <td>NaN</td>\n",
       "      <td>25</td>\n",
       "      <td>2</td>\n",
       "      <td>0</td>\n",
       "      <td>0</td>\n",
       "      <td>0</td>\n",
       "      <td>0</td>\n",
       "      <td>...</td>\n",
       "      <td>49535</td>\n",
       "      <td>30358</td>\n",
       "      <td>30302</td>\n",
       "      <td>2130</td>\n",
       "      <td>1905</td>\n",
       "      <td>1811</td>\n",
       "      <td>1100</td>\n",
       "      <td>1100</td>\n",
       "      <td>1200</td>\n",
       "      <td>no</td>\n",
       "    </tr>\n",
       "    <tr>\n",
       "      <th>1</th>\n",
       "      <td>200000</td>\n",
       "      <td>1</td>\n",
       "      <td>2</td>\n",
       "      <td>married</td>\n",
       "      <td>54</td>\n",
       "      <td>-1</td>\n",
       "      <td>-1</td>\n",
       "      <td>-1</td>\n",
       "      <td>-1</td>\n",
       "      <td>-1</td>\n",
       "      <td>...</td>\n",
       "      <td>6335</td>\n",
       "      <td>4616</td>\n",
       "      <td>7956</td>\n",
       "      <td>10120</td>\n",
       "      <td>7852</td>\n",
       "      <td>6336</td>\n",
       "      <td>4622</td>\n",
       "      <td>7956</td>\n",
       "      <td>5499</td>\n",
       "      <td>no</td>\n",
       "    </tr>\n",
       "    <tr>\n",
       "      <th>2</th>\n",
       "      <td>30000</td>\n",
       "      <td>0</td>\n",
       "      <td>1</td>\n",
       "      <td>married</td>\n",
       "      <td>-1</td>\n",
       "      <td>2</td>\n",
       "      <td>3</td>\n",
       "      <td>2</td>\n",
       "      <td>2</td>\n",
       "      <td>2</td>\n",
       "      <td>...</td>\n",
       "      <td>30496</td>\n",
       "      <td>29731</td>\n",
       "      <td>29047</td>\n",
       "      <td>0</td>\n",
       "      <td>1700</td>\n",
       "      <td>1100</td>\n",
       "      <td>3</td>\n",
       "      <td>1053</td>\n",
       "      <td>1303</td>\n",
       "      <td>no</td>\n",
       "    </tr>\n",
       "    <tr>\n",
       "      <th>3</th>\n",
       "      <td>140000</td>\n",
       "      <td>0</td>\n",
       "      <td>2</td>\n",
       "      <td>single</td>\n",
       "      <td>-1</td>\n",
       "      <td>0</td>\n",
       "      <td>0</td>\n",
       "      <td>0</td>\n",
       "      <td>0</td>\n",
       "      <td>0</td>\n",
       "      <td>...</td>\n",
       "      <td>25224</td>\n",
       "      <td>26855</td>\n",
       "      <td>23783</td>\n",
       "      <td>2000</td>\n",
       "      <td>2000</td>\n",
       "      <td>900</td>\n",
       "      <td>2000</td>\n",
       "      <td>10000</td>\n",
       "      <td>5000</td>\n",
       "      <td>no</td>\n",
       "    </tr>\n",
       "    <tr>\n",
       "      <th>4</th>\n",
       "      <td>60000</td>\n",
       "      <td>0</td>\n",
       "      <td>1</td>\n",
       "      <td>married</td>\n",
       "      <td>36</td>\n",
       "      <td>1</td>\n",
       "      <td>2</td>\n",
       "      <td>2</td>\n",
       "      <td>0</td>\n",
       "      <td>0</td>\n",
       "      <td>...</td>\n",
       "      <td>48738</td>\n",
       "      <td>49601</td>\n",
       "      <td>52773</td>\n",
       "      <td>1788</td>\n",
       "      <td>0</td>\n",
       "      <td>1894</td>\n",
       "      <td>1801</td>\n",
       "      <td>3997</td>\n",
       "      <td>0</td>\n",
       "      <td>yes</td>\n",
       "    </tr>\n",
       "  </tbody>\n",
       "</table>\n",
       "<p>5 rows × 24 columns</p>\n",
       "</div>"
      ],
      "text/plain": [
       "    limit sex education   status  age  ps-sep  ps-aug  ps-jul  ps-jun  ps-may  \\\n",
       "0   50000   1         3      NaN   25       2       0       0       0       0   \n",
       "1  200000   1         2  married   54      -1      -1      -1      -1      -1   \n",
       "2   30000   0         1  married   -1       2       3       2       2       2   \n",
       "3  140000   0         2   single   -1       0       0       0       0       0   \n",
       "4   60000   0         1  married   36       1       2       2       0       0   \n",
       "\n",
       "        ...        ba-jun  ba-may  ba-apr  pa-sep  pa-aug  pa-jul  pa-jun  \\\n",
       "0       ...         49535   30358   30302    2130    1905    1811    1100   \n",
       "1       ...          6335    4616    7956   10120    7852    6336    4622   \n",
       "2       ...         30496   29731   29047       0    1700    1100       3   \n",
       "3       ...         25224   26855   23783    2000    2000     900    2000   \n",
       "4       ...         48738   49601   52773    1788       0    1894    1801   \n",
       "\n",
       "   pa-may  pa-apr  credit_default  \n",
       "0    1100    1200              no  \n",
       "1    7956    5499              no  \n",
       "2    1053    1303              no  \n",
       "3   10000    5000              no  \n",
       "4    3997       0             yes  \n",
       "\n",
       "[5 rows x 24 columns]"
      ]
     },
     "execution_count": 5,
     "metadata": {},
     "output_type": "execute_result"
    }
   ],
   "source": [
    "#Changing all values of education to numeric values.\n",
    "df.loc[(df.education == \"others\"), 'education'] = 0\n",
    "df.loc[(df.education == \"high school\"), 'education'] = 1\n",
    "df.loc[(df.education == \"university\"), 'education'] = 2\n",
    "df.loc[(df.education == \"graduate school\"), 'education'] = 3\n",
    "df.head()"
   ]
  },
  {
   "cell_type": "code",
   "execution_count": 6,
   "metadata": {},
   "outputs": [],
   "source": [
    "#Changing all values of status to numeric values.\n",
    "df.loc[(df.status == \"single\"), 'status'] = 0\n",
    "df.loc[(df.status == \"married\"), 'status'] = 1\n",
    "df.loc[(df.status == \"others\"), 'status'] = 2"
   ]
  },
  {
   "cell_type": "code",
   "execution_count": 7,
   "metadata": {},
   "outputs": [],
   "source": [
    "#Changing all values of credit_default to numeric values.\n",
    "df.loc[(df.credit_default == \"no\"), 'credit_default'] = 0\n",
    "df.loc[(df.credit_default == \"yes\"), 'credit_default'] = 1"
   ]
  },
  {
   "cell_type": "code",
   "execution_count": 8,
   "metadata": {},
   "outputs": [],
   "source": [
    "#Filling missing values of sex with mode value of dataset which is 0 (female)\n",
    "df['sex'] = df['sex'].fillna(df['sex'].mode()[0])"
   ]
  },
  {
   "cell_type": "code",
   "execution_count": 9,
   "metadata": {},
   "outputs": [],
   "source": [
    "#Filling missing values of education with mode value of dataset which is 2 (University)\n",
    "df['education'] = df['education'].fillna(df['education'].mode()[0])"
   ]
  },
  {
   "cell_type": "code",
   "execution_count": 10,
   "metadata": {},
   "outputs": [
    {
     "data": {
      "text/html": [
       "<div>\n",
       "<style scoped>\n",
       "    .dataframe tbody tr th:only-of-type {\n",
       "        vertical-align: middle;\n",
       "    }\n",
       "\n",
       "    .dataframe tbody tr th {\n",
       "        vertical-align: top;\n",
       "    }\n",
       "\n",
       "    .dataframe thead th {\n",
       "        text-align: right;\n",
       "    }\n",
       "</style>\n",
       "<table border=\"1\" class=\"dataframe\">\n",
       "  <thead>\n",
       "    <tr style=\"text-align: right;\">\n",
       "      <th></th>\n",
       "      <th></th>\n",
       "      <th>modeStatus</th>\n",
       "    </tr>\n",
       "    <tr>\n",
       "      <th>education</th>\n",
       "      <th>sex</th>\n",
       "      <th></th>\n",
       "    </tr>\n",
       "  </thead>\n",
       "  <tbody>\n",
       "    <tr>\n",
       "      <th rowspan=\"2\" valign=\"top\">0</th>\n",
       "      <th>0</th>\n",
       "      <td>([0], [11])</td>\n",
       "    </tr>\n",
       "    <tr>\n",
       "      <th>1</th>\n",
       "      <td>([0], [3])</td>\n",
       "    </tr>\n",
       "    <tr>\n",
       "      <th rowspan=\"2\" valign=\"top\">1</th>\n",
       "      <th>0</th>\n",
       "      <td>([1], [518])</td>\n",
       "    </tr>\n",
       "    <tr>\n",
       "      <th>1</th>\n",
       "      <td>([1], [282])</td>\n",
       "    </tr>\n",
       "    <tr>\n",
       "      <th rowspan=\"2\" valign=\"top\">2</th>\n",
       "      <th>0</th>\n",
       "      <td>([1], [1250])</td>\n",
       "    </tr>\n",
       "    <tr>\n",
       "      <th>1</th>\n",
       "      <td>([0], [813])</td>\n",
       "    </tr>\n",
       "    <tr>\n",
       "      <th rowspan=\"2\" valign=\"top\">3</th>\n",
       "      <th>0</th>\n",
       "      <td>([0], [1148])</td>\n",
       "    </tr>\n",
       "    <tr>\n",
       "      <th>1</th>\n",
       "      <td>([0], [679])</td>\n",
       "    </tr>\n",
       "  </tbody>\n",
       "</table>\n",
       "</div>"
      ],
      "text/plain": [
       "                  modeStatus\n",
       "education sex               \n",
       "0         0      ([0], [11])\n",
       "          1       ([0], [3])\n",
       "1         0     ([1], [518])\n",
       "          1     ([1], [282])\n",
       "2         0    ([1], [1250])\n",
       "          1     ([0], [813])\n",
       "3         0    ([0], [1148])\n",
       "          1     ([0], [679])"
      ]
     },
     "execution_count": 10,
     "metadata": {},
     "output_type": "execute_result"
    }
   ],
   "source": [
    "#calculating mode value of status based on education and sex\n",
    "df.groupby(['education', 'sex'])['status'].agg([('modeStatus', stats.mode)])"
   ]
  },
  {
   "cell_type": "code",
   "execution_count": 11,
   "metadata": {},
   "outputs": [],
   "source": [
    "#Filling missing values of status based on table we calculated in previous step\n",
    "fill = (df.education == 0) & (df.sex == 0) & (df.status.isnull())\n",
    "df.loc[fill, 'status'] = 0\n",
    "fill = (df.education == 0) & (df.sex == 1) & (df.status.isnull())\n",
    "df.loc[fill, 'status'] = 0\n",
    "fill = (df.education == 1) & (df.sex == 0) & (df.status.isnull())\n",
    "df.loc[fill, 'status'] = 1\n",
    "fill = (df.education == 1) & (df.sex == 1) & (df.status.isnull())\n",
    "df.loc[fill, 'status'] = 1\n",
    "fill = (df.education == 2) & (df.sex == 0) & (df.status.isnull())\n",
    "df.loc[fill, 'status'] = 1\n",
    "fill = (df.education == 2) & (df.sex == 1)& (df.status.isnull())\n",
    "df.loc[fill, 'status'] = 0\n",
    "fill = (df.education == 3) & (df.sex == 0)& (df.status.isnull())\n",
    "df.loc[fill, 'status'] = 0\n",
    "fill = (df.education == 3) & (df.sex == 1)& (df.status.isnull())\n",
    "df.loc[fill, 'status'] = 0"
   ]
  },
  {
   "cell_type": "code",
   "execution_count": 12,
   "metadata": {},
   "outputs": [],
   "source": [
    "#Creating a new column based on sex and status\n",
    "df['sex_status'] = 0\n",
    "df.loc[((df.sex == 1) & (df.status == 1)) , 'sex_status'] = 1 #married man\n",
    "df.loc[((df.sex == 1) & (df.status == 0)) , 'sex_status'] = 2 #single man\n",
    "df.loc[((df.sex == 1) & (df.status == 2)) , 'sex_status'] = 3 #divorced man\n",
    "df.loc[((df.sex == 0) & (df.status == 1)) , 'sex_status'] = 4 #married woman\n",
    "df.loc[((df.sex == 0) & (df.status == 0)) , 'sex_status'] = 5 #single woman\n",
    "df.loc[((df.sex == 0) & (df.status == 2)) , 'sex_status'] = 6 #divorced woman"
   ]
  },
  {
   "cell_type": "code",
   "execution_count": 13,
   "metadata": {},
   "outputs": [
    {
     "data": {
      "text/plain": [
       "4    3086\n",
       "5    3003\n",
       "2    2297\n",
       "1    1539\n",
       "6      43\n",
       "3      32\n",
       "Name: sex_status, dtype: int64"
      ]
     },
     "execution_count": 13,
     "metadata": {},
     "output_type": "execute_result"
    }
   ],
   "source": [
    "df.sex_status.value_counts()"
   ]
  },
  {
   "cell_type": "code",
   "execution_count": 14,
   "metadata": {},
   "outputs": [],
   "source": [
    "#Removing all rows with age value of -1 to calculate mean value in next step\n",
    "df_temp = df\n",
    "df_temp = df_temp.drop(df_temp[df_temp.age < 21].index)"
   ]
  },
  {
   "cell_type": "code",
   "execution_count": 15,
   "metadata": {},
   "outputs": [
    {
     "data": {
      "text/plain": [
       "sex_status\n",
       "1    41.715616\n",
       "2    33.133429\n",
       "3    43.068966\n",
       "4    37.962737\n",
       "5    31.377128\n",
       "6    41.300000\n",
       "Name: age, dtype: float64"
      ]
     },
     "execution_count": 15,
     "metadata": {},
     "output_type": "execute_result"
    }
   ],
   "source": [
    "#Generating mean value for age based on sex_status\n",
    "df_temp.groupby('sex_status')['age'].mean()"
   ]
  },
  {
   "cell_type": "code",
   "execution_count": 16,
   "metadata": {},
   "outputs": [],
   "source": [
    "#Changing all -1 values of age to mean values generated in previous step.\n",
    "fill = (df.sex_status == 1) & (df.age < 21)\n",
    "df.loc[fill, 'age'] = 41\n",
    "fill = (df.sex_status == 2) & (df.age < 21)\n",
    "df.loc[fill, 'age'] = 33\n",
    "fill = (df.sex_status == 3) & (df.age < 21)\n",
    "df.loc[fill, 'age'] = 43\n",
    "fill = (df.sex_status == 4) & (df.age < 21)\n",
    "df.loc[fill, 'age'] = 37\n",
    "fill = (df.sex_status == 5) & (df.age < 21)\n",
    "df.loc[fill, 'age'] = 31\n",
    "fill = (df.sex_status == 6) & (df.age < 21)\n",
    "df.loc[fill, 'age'] = 41"
   ]
  },
  {
   "cell_type": "code",
   "execution_count": 17,
   "metadata": {},
   "outputs": [
    {
     "data": {
      "text/plain": [
       "<matplotlib.collections.PathCollection at 0x16012f09208>"
      ]
     },
     "execution_count": 17,
     "metadata": {},
     "output_type": "execute_result"
    },
    {
     "data": {
      "image/png": "[encoded data removed]",
      "text/plain": [
       "<Figure size 432x288 with 1 Axes>"
      ]
     },
     "metadata": {},
     "output_type": "display_data"
    }
   ],
   "source": [
    "plt.scatter(df['ba-jun'],df['pa-jul'],marker='o',c = df['credit_default'], alpha=0.8,s=5)\n",
    "# plt.scatter(df['ba-jun'],df['credit_default'],marker='o',c = df['credit_default'], alpha=0.8)"
   ]
  },
  {
   "cell_type": "code",
   "execution_count": 19,
   "metadata": {},
   "outputs": [
    {
     "data": {
      "text/html": [
       "<div>\n",
       "<style scoped>\n",
       "    .dataframe tbody tr th:only-of-type {\n",
       "        vertical-align: middle;\n",
       "    }\n",
       "\n",
       "    .dataframe tbody tr th {\n",
       "        vertical-align: top;\n",
       "    }\n",
       "\n",
       "    .dataframe thead th {\n",
       "        text-align: right;\n",
       "    }\n",
       "</style>\n",
       "<table border=\"1\" class=\"dataframe\">\n",
       "  <thead>\n",
       "    <tr style=\"text-align: right;\">\n",
       "      <th></th>\n",
       "      <th>limit</th>\n",
       "      <th>missed-payments</th>\n",
       "      <th>avg-debt</th>\n",
       "      <th>avg-debt-to-limit-ratio</th>\n",
       "      <th>credit_default</th>\n",
       "    </tr>\n",
       "  </thead>\n",
       "  <tbody>\n",
       "    <tr>\n",
       "      <th>6689</th>\n",
       "      <td>200000</td>\n",
       "      <td>0</td>\n",
       "      <td>11115.2</td>\n",
       "      <td>0.055576</td>\n",
       "      <td>0</td>\n",
       "    </tr>\n",
       "    <tr>\n",
       "      <th>308</th>\n",
       "      <td>50000</td>\n",
       "      <td>0</td>\n",
       "      <td>34146.2</td>\n",
       "      <td>0.682924</td>\n",
       "      <td>0</td>\n",
       "    </tr>\n",
       "    <tr>\n",
       "      <th>7770</th>\n",
       "      <td>150000</td>\n",
       "      <td>0</td>\n",
       "      <td>400.8</td>\n",
       "      <td>0.002672</td>\n",
       "      <td>0</td>\n",
       "    </tr>\n",
       "    <tr>\n",
       "      <th>7065</th>\n",
       "      <td>500000</td>\n",
       "      <td>0</td>\n",
       "      <td>638.4</td>\n",
       "      <td>0.001277</td>\n",
       "      <td>0</td>\n",
       "    </tr>\n",
       "    <tr>\n",
       "      <th>6608</th>\n",
       "      <td>50000</td>\n",
       "      <td>0</td>\n",
       "      <td>3304.0</td>\n",
       "      <td>0.066080</td>\n",
       "      <td>0</td>\n",
       "    </tr>\n",
       "    <tr>\n",
       "      <th>3940</th>\n",
       "      <td>240000</td>\n",
       "      <td>2</td>\n",
       "      <td>172763.2</td>\n",
       "      <td>0.719847</td>\n",
       "      <td>1</td>\n",
       "    </tr>\n",
       "    <tr>\n",
       "      <th>2131</th>\n",
       "      <td>240000</td>\n",
       "      <td>1</td>\n",
       "      <td>-1.8</td>\n",
       "      <td>-0.000008</td>\n",
       "      <td>0</td>\n",
       "    </tr>\n",
       "    <tr>\n",
       "      <th>4780</th>\n",
       "      <td>10000</td>\n",
       "      <td>0</td>\n",
       "      <td>20779.6</td>\n",
       "      <td>2.077960</td>\n",
       "      <td>1</td>\n",
       "    </tr>\n",
       "    <tr>\n",
       "      <th>1479</th>\n",
       "      <td>20000</td>\n",
       "      <td>2</td>\n",
       "      <td>24439.4</td>\n",
       "      <td>1.221970</td>\n",
       "      <td>0</td>\n",
       "    </tr>\n",
       "    <tr>\n",
       "      <th>182</th>\n",
       "      <td>50000</td>\n",
       "      <td>2</td>\n",
       "      <td>146868.2</td>\n",
       "      <td>2.937364</td>\n",
       "      <td>0</td>\n",
       "    </tr>\n",
       "  </tbody>\n",
       "</table>\n",
       "</div>"
      ],
      "text/plain": [
       "       limit  missed-payments  avg-debt  avg-debt-to-limit-ratio  \\\n",
       "6689  200000                0   11115.2                 0.055576   \n",
       "308    50000                0   34146.2                 0.682924   \n",
       "7770  150000                0     400.8                 0.002672   \n",
       "7065  500000                0     638.4                 0.001277   \n",
       "6608   50000                0    3304.0                 0.066080   \n",
       "3940  240000                2  172763.2                 0.719847   \n",
       "2131  240000                1      -1.8                -0.000008   \n",
       "4780   10000                0   20779.6                 2.077960   \n",
       "1479   20000                2   24439.4                 1.221970   \n",
       "182    50000                2  146868.2                 2.937364   \n",
       "\n",
       "      credit_default  \n",
       "6689               0  \n",
       "308                0  \n",
       "7770               0  \n",
       "7065               0  \n",
       "6608               0  \n",
       "3940               1  \n",
       "2131               0  \n",
       "4780               1  \n",
       "1479               0  \n",
       "182                0  "
      ]
     },
     "execution_count": 19,
     "metadata": {},
     "output_type": "execute_result"
    }
   ],
   "source": [
    "df['debt-apr'] = df['ba-apr']-df['pa-may']\n",
    "df['debt-may'] = df['ba-may']-df['pa-jun'] + df['debt-apr']\n",
    "df['debt-jun'] = df['ba-jun']-df['pa-jul'] + df['debt-may']\n",
    "df['debt-jul'] = df['ba-jul']-df['pa-aug'] + df['debt-jun']\n",
    "df['debt-aug'] = df['ba-aug']-df['pa-sep'] + df['debt-jul']\n",
    "\n",
    "df['avg-debt'] = (df['debt-apr']+df['debt-may']+df['debt-jun']+df['debt-jul']+df['debt-aug'])/5\n",
    "df['missed-payments'] = df[['ps-apr', 'ps-may', 'ps-jun', 'ps-jul', 'ps-aug', 'ps-sep']].max(axis=1)\n",
    "df['avg-debt-to-limit-ratio'] = df['avg-debt']/df['limit']\n",
    "df[['limit','missed-payments','avg-debt','avg-debt-to-limit-ratio','credit_default']].sample(10)"
   ]
  },
  {
   "cell_type": "code",
   "execution_count": 20,
   "metadata": {},
   "outputs": [
    {
     "data": {
      "text/plain": [
       "<matplotlib.collections.PathCollection at 0x1601441b828>"
      ]
     },
     "execution_count": 20,
     "metadata": {},
     "output_type": "execute_result"
    },
    {
     "data": {
      "image/png": "[encoded data removed]",
      "text/plain": [
       "<Figure size 432x288 with 1 Axes>"
      ]
     },
     "metadata": {},
     "output_type": "display_data"
    }
   ],
   "source": [
    "plt.scatter(df['avg-debt-to-limit-ratio'],df['missed-payments'],marker='o',c=df['credit_default'], alpha=0.8,s=5)"
   ]
  },
  {
   "cell_type": "code",
   "execution_count": 21,
   "metadata": {},
   "outputs": [],
   "source": [
    "# default_0 = plt.scatter(df.loc[df['credit_default']==0,'limit'],df.loc[df['credit_default']==0,'avg-debt'],marker='x',color='r',alpha=0.8)\n",
    "# default_1 = plt.scatter(df.loc[df['credit_default']==1,'limit'],df.loc[df['credit_default']==1,'avg-debt'],color='b',alpha=0.5)\n",
    "# plt.legend((default_1,default_0),('default 1','default 0'))\n",
    "# plt.grid(True)\n",
    "# plt.show()"
   ]
  },
  {
   "cell_type": "code",
   "execution_count": 22,
   "metadata": {},
   "outputs": [
    {
     "data": {
      "text/html": [
       "<div>\n",
       "<style scoped>\n",
       "    .dataframe tbody tr th:only-of-type {\n",
       "        vertical-align: middle;\n",
       "    }\n",
       "\n",
       "    .dataframe tbody tr th {\n",
       "        vertical-align: top;\n",
       "    }\n",
       "\n",
       "    .dataframe thead th {\n",
       "        text-align: right;\n",
       "    }\n",
       "</style>\n",
       "<table border=\"1\" class=\"dataframe\">\n",
       "  <thead>\n",
       "    <tr style=\"text-align: right;\">\n",
       "      <th></th>\n",
       "      <th>limit</th>\n",
       "      <th>expense-may</th>\n",
       "      <th>expense-jun</th>\n",
       "      <th>expense-jul</th>\n",
       "      <th>expense-aug</th>\n",
       "      <th>expense-sep</th>\n",
       "      <th>credit_default</th>\n",
       "    </tr>\n",
       "  </thead>\n",
       "  <tbody>\n",
       "    <tr>\n",
       "      <th>0</th>\n",
       "      <td>50000</td>\n",
       "      <td>1156</td>\n",
       "      <td>20277</td>\n",
       "      <td>3036</td>\n",
       "      <td>1130</td>\n",
       "      <td>1111</td>\n",
       "      <td>0</td>\n",
       "    </tr>\n",
       "    <tr>\n",
       "      <th>1</th>\n",
       "      <td>200000</td>\n",
       "      <td>4616</td>\n",
       "      <td>6341</td>\n",
       "      <td>7844</td>\n",
       "      <td>9990</td>\n",
       "      <td>10894</td>\n",
       "      <td>0</td>\n",
       "    </tr>\n",
       "    <tr>\n",
       "      <th>2</th>\n",
       "      <td>30000</td>\n",
       "      <td>1737</td>\n",
       "      <td>768</td>\n",
       "      <td>810</td>\n",
       "      <td>774</td>\n",
       "      <td>777</td>\n",
       "      <td>0</td>\n",
       "    </tr>\n",
       "    <tr>\n",
       "      <th>3</th>\n",
       "      <td>140000</td>\n",
       "      <td>13072</td>\n",
       "      <td>369</td>\n",
       "      <td>18499</td>\n",
       "      <td>894</td>\n",
       "      <td>16709</td>\n",
       "      <td>0</td>\n",
       "    </tr>\n",
       "    <tr>\n",
       "      <th>4</th>\n",
       "      <td>60000</td>\n",
       "      <td>825</td>\n",
       "      <td>938</td>\n",
       "      <td>788</td>\n",
       "      <td>1084</td>\n",
       "      <td>1059</td>\n",
       "      <td>1</td>\n",
       "    </tr>\n",
       "  </tbody>\n",
       "</table>\n",
       "</div>"
      ],
      "text/plain": [
       "    limit  expense-may  expense-jun  expense-jul  expense-aug  expense-sep  \\\n",
       "0   50000         1156        20277         3036         1130         1111   \n",
       "1  200000         4616         6341         7844         9990        10894   \n",
       "2   30000         1737          768          810          774          777   \n",
       "3  140000        13072          369        18499          894        16709   \n",
       "4   60000          825          938          788         1084         1059   \n",
       "\n",
       "   credit_default  \n",
       "0               0  \n",
       "1               0  \n",
       "2               0  \n",
       "3               0  \n",
       "4               1  "
      ]
     },
     "execution_count": 22,
     "metadata": {},
     "output_type": "execute_result"
    }
   ],
   "source": [
    "df['expense-may'] = df['ba-may']-(df['ba-apr']-df['pa-may'])\n",
    "df['expense-jun'] = df['ba-jun']-(df['ba-may']-df['pa-jun'])\n",
    "df['expense-jul'] = df['ba-jul']-(df['ba-jun']-df['pa-jul'])\n",
    "df['expense-aug'] = df['ba-aug']-(df['ba-jul']-df['pa-aug'])\n",
    "df['expense-sep'] = df['ba-sep']-(df['ba-aug']-df['pa-sep'])\n",
    "df['avg-expense'] = (df['expense-may'] + df['expense-jun'] + df['expense-jul'] + df['expense-aug'] + df['expense-sep'])/5\n",
    "df[['limit', 'expense-may', 'expense-jun', 'expense-jul', 'expense-aug', 'expense-sep', 'credit_default']].head(5)"
   ]
  },
  {
   "cell_type": "code",
   "execution_count": 38,
   "metadata": {},
   "outputs": [
    {
     "data": {
      "text/plain": [
       "<matplotlib.collections.PathCollection at 0x16014ab5710>"
      ]
     },
     "execution_count": 38,
     "metadata": {},
     "output_type": "execute_result"
    },
    {
     "data": {
      "image/png": "[encoded data removed]",
      "text/plain": [
       "<Figure size 432x288 with 1 Axes>"
      ]
     },
     "metadata": {},
     "output_type": "display_data"
    }
   ],
   "source": [
    "plt.scatter(df['limit'],df['avg-expense'],c=df['credit_default'], alpha=0.8,s=5)"
   ]
  },
  {
   "cell_type": "code",
   "execution_count": 36,
   "metadata": {},
   "outputs": [
    {
     "data": {
      "text/plain": [
       "<matplotlib.collections.PathCollection at 0x160149f20b8>"
      ]
     },
     "execution_count": 36,
     "metadata": {},
     "output_type": "execute_result"
    },
    {
     "data": {
      "image/png": "[encoded data removed]",
      "text/plain": [
       "<Figure size 432x288 with 1 Axes>"
      ]
     },
     "metadata": {},
     "output_type": "display_data"
    }
   ],
   "source": [
    "plt.scatter(df['avg-debt'],df['avg-expense'],c=df['credit_default'], alpha=0.8,s=5)"
   ]
  },
  {
   "cell_type": "code",
   "execution_count": 46,
   "metadata": {},
   "outputs": [
    {
     "data": {
      "text/plain": [
       "<matplotlib.axes._subplots.AxesSubplot at 0x16015d07358>"
      ]
     },
     "execution_count": 46,
     "metadata": {},
     "output_type": "execute_result"
    },
    {
     "data": {
      "image/png": "[encoded data removed]",
      "text/plain": [
       "<Figure size 432x288 with 1 Axes>"
      ]
     },
     "metadata": {},
     "output_type": "display_data"
    }
   ],
   "source": [
    "df.boxplot(column='avg-debt-to-limit-ratio', by='credit_default')"
   ]
  },
  {
   "cell_type": "code",
   "execution_count": 50,
   "metadata": {},
   "outputs": [
    {
     "data": {
      "text/plain": [
       "0.4467480615942029"
      ]
     },
     "execution_count": 50,
     "metadata": {},
     "output_type": "execute_result"
    }
   ],
   "source": [
    "fill = df['credit_default'] == 0\n",
    "df.loc[fill, 'avg-debt-to-limit-ratio'].median()"
   ]
  },
  {
   "cell_type": "code",
   "execution_count": 35,
   "metadata": {},
   "outputs": [
    {
     "data": {
      "text/plain": [
       "<matplotlib.legend.Legend at 0x160146d1898>"
      ]
     },
     "execution_count": 35,
     "metadata": {},
     "output_type": "execute_result"
    },
    {
     "data": {
      "image/png": "[encoded data removed]",
      "text/plain": [
       "<Figure size 432x288 with 1 Axes>"
      ]
     },
     "metadata": {},
     "output_type": "display_data"
    }
   ],
   "source": [
    "feature_list = ['limit', 'avg-expense', 'avg-debt']\n",
    "temp_1 = df.loc[df.credit_default == 1, feature_list]\n",
    "temp_0 = df.loc[df.credit_default == 0, feature_list]\n",
    "temp_1_norm = (temp_1-temp_1.mean())/(temp_1.max()-temp_1.min())\n",
    "temp_0_norm = (temp_0-temp_0.mean())/(temp_0.max()-temp_0.min())\n",
    "\n",
    "\n",
    "# number of variable\n",
    "N = len(feature_list)\n",
    "\n",
    "# What will be the angle of each axis in the plot? (we divide the plot / number of variable)\n",
    "angles = [n / float(N) * 2 * pi for n in range(N)]\n",
    "angles += angles[:1]\n",
    " \n",
    "# Initialise the spider plot\n",
    "ax = plt.subplot(111, polar=True)\n",
    " \n",
    "# If you want the first axis to be on top:\n",
    "ax.set_theta_offset(pi / 2)\n",
    "ax.set_theta_direction(-1)\n",
    " \n",
    "# Draw one axe per variable + add labels labels yet\n",
    "plt.xticks(angles[:-1], feature_list)\n",
    " \n",
    "# Draw ylabels\n",
    "ax.set_rlabel_position(0)\n",
    "plt.yticks([-1, 0, 1], [\"-1\",\"0\",\"1\"], color=\"grey\", size=7)\n",
    "plt.ylim(-1,1)\n",
    "\n",
    "# Ind1\n",
    "values=temp_1_norm.sample(1).iloc[0].values.flatten().tolist()\n",
    "values += values[:1]\n",
    "ax.plot(angles, values, linewidth=1, linestyle='solid', label=\"deafult 1\")\n",
    "ax.fill(angles, values, 'b', alpha=0.1)\n",
    "\n",
    "values=temp_0_norm.sample(1).iloc[0].values.flatten().tolist()\n",
    "values += values[:1]\n",
    "ax.plot(angles, values, linewidth=1, linestyle='solid', label=\"default 0\")\n",
    "ax.fill(angles, values, 'r', alpha=0.1)\n",
    " \n",
    "# Add legend\n",
    "plt.legend(loc='upper right', bbox_to_anchor=(0.1, 0.1))\n",
    "# temp_0_norm.sample(1).iloc[0]"
   ]
  },
  {
   "cell_type": "code",
   "execution_count": null,
   "metadata": {},
   "outputs": [],
   "source": []
  }
 ],
 "metadata": {
  "kernelspec": {
   "display_name": "Python 3",
   "language": "python",
   "name": "python3"
  },
  "language_info": {
   "codemirror_mode": {
    "name": "ipython",
    "version": 3
   },
   "file_extension": ".py",
   "mimetype": "text/x-python",
   "name": "python",
   "nbconvert_exporter": "python",
   "pygments_lexer": "ipython3",
   "version": "3.6.5"
  }
 },
 "nbformat": 4,
 "nbformat_minor": 2
}
