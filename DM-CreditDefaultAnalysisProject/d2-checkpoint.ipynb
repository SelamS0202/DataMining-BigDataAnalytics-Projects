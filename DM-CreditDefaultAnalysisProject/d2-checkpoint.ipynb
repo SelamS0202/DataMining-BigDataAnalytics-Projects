{
 "cells": [
  {
   "cell_type": "code",
   "execution_count": 1,
   "metadata": {},
   "outputs": [],
   "source": [
    "# import libraries\n",
    "import pandas as pd\n",
    "import numpy as np\n",
    "# import libraries for data visualization\n",
    "import matplotlib.pyplot as plt\n",
    "import seaborn as sb\n",
    "# to polot on the same note book\n",
    "%matplotlib inline"
   ]
  },
  {
   "cell_type": "code",
   "execution_count": 2,
   "metadata": {},
   "outputs": [],
   "source": [
    "df=pd.read_csv('D:\\DMDatasets\\credit_default_train.csv')"
   ]
  },
  {
   "cell_type": "code",
   "execution_count": 5,
   "metadata": {},
   "outputs": [
    {
     "data": {
      "text/plain": [
       "<matplotlib.axes._subplots.AxesSubplot at 0x50ba2d26d8>"
      ]
     },
     "execution_count": 5,
     "metadata": {},
     "output_type": "execute_result"
    },
    {
     "data": {
      "image/png": "[encoded data removed]",
      "text/plain": [
       "<Figure size 432x288 with 1 Axes>"
      ]
     },
     "metadata": {},
     "output_type": "display_data"
    }
   ],
   "source": [
    "# group by credit deafult\n",
    "df['credit_default'].value_counts().plot(kind='bar')"
   ]
  },
  {
   "cell_type": "code",
   "execution_count": 4,
   "metadata": {},
   "outputs": [
    {
     "data": {
      "text/plain": [
       "<matplotlib.axes._subplots.AxesSubplot at 0x50bb356898>"
      ]
     },
     "execution_count": 4,
     "metadata": {},
     "output_type": "execute_result"
    },
    {
     "data": {
      "image/png": "[encoded data removed]",
      "text/plain": [
       "<Figure size 432x288 with 1 Axes>"
      ]
     },
     "metadata": {},
     "output_type": "display_data"
    }
   ],
   "source": [
    "# group by sex\n",
    "df['sex'].value_counts().plot(kind='bar')"
   ]
  },
  {
   "cell_type": "code",
   "execution_count": 6,
   "metadata": {},
   "outputs": [
    {
     "data": {
      "text/plain": [
       "<matplotlib.axes._subplots.AxesSubplot at 0x50ba335780>"
      ]
     },
     "execution_count": 6,
     "metadata": {},
     "output_type": "execute_result"
    },
    {
     "data": {
      "image/png": "[encoded data removed]",
      "text/plain": [
       "<Figure size 432x288 with 1 Axes>"
      ]
     },
     "metadata": {},
     "output_type": "display_data"
    }
   ],
   "source": [
    "# distribution of credit limit\n",
    "df['limit'].hist()"
   ]
  },
  {
   "cell_type": "code",
   "execution_count": 12,
   "metadata": {},
   "outputs": [
    {
     "name": "stdout",
     "output_type": "stream",
     "text": [
      "<class 'pandas.core.frame.DataFrame'>\n",
      "RangeIndex: 10000 entries, 0 to 9999\n",
      "Data columns (total 24 columns):\n",
      "limit             10000 non-null int64\n",
      "sex               9900 non-null object\n",
      "education         9873 non-null object\n",
      "status            8178 non-null object\n",
      "age               10000 non-null int64\n",
      "ps-sep            10000 non-null int64\n",
      "ps-aug            10000 non-null int64\n",
      "ps-jul            10000 non-null int64\n",
      "ps-jun            10000 non-null int64\n",
      "ps-may            10000 non-null int64\n",
      "ps-apr            10000 non-null int64\n",
      "ba-sep            10000 non-null int64\n",
      "ba-aug            10000 non-null int64\n",
      "ba-jul            10000 non-null int64\n",
      "ba-jun            10000 non-null int64\n",
      "ba-may            10000 non-null int64\n",
      "ba-apr            10000 non-null int64\n",
      "pa-sep            10000 non-null int64\n",
      "pa-aug            10000 non-null int64\n",
      "pa-jul            10000 non-null int64\n",
      "pa-jun            10000 non-null int64\n",
      "pa-may            10000 non-null int64\n",
      "pa-apr            10000 non-null int64\n",
      "credit_default    10000 non-null object\n",
      "dtypes: int64(20), object(4)\n",
      "memory usage: 1.8+ MB\n"
     ]
    }
   ],
   "source": [
    "df.info()"
   ]
  },
  {
   "cell_type": "code",
   "execution_count": 14,
   "metadata": {},
   "outputs": [
    {
     "data": {
      "text/plain": [
       "limit              int64\n",
       "sex               object\n",
       "education         object\n",
       "status            object\n",
       "age                int64\n",
       "ps-sep             int64\n",
       "ps-aug             int64\n",
       "ps-jul             int64\n",
       "ps-jun             int64\n",
       "ps-may             int64\n",
       "ps-apr             int64\n",
       "ba-sep             int64\n",
       "ba-aug             int64\n",
       "ba-jul             int64\n",
       "ba-jun             int64\n",
       "ba-may             int64\n",
       "ba-apr             int64\n",
       "pa-sep             int64\n",
       "pa-aug             int64\n",
       "pa-jul             int64\n",
       "pa-jun             int64\n",
       "pa-may             int64\n",
       "pa-apr             int64\n",
       "credit_default    object\n",
       "dtype: object"
      ]
     },
     "execution_count": 14,
     "metadata": {},
     "output_type": "execute_result"
    }
   ],
   "source": [
    "# data types for each column\n",
    "df.dtypes"
   ]
  },
  {
   "cell_type": "code",
   "execution_count": 15,
   "metadata": {},
   "outputs": [
    {
     "data": {
      "text/html": [
       "<div>\n",
       "<style scoped>\n",
       "    .dataframe tbody tr th:only-of-type {\n",
       "        vertical-align: middle;\n",
       "    }\n",
       "\n",
       "    .dataframe tbody tr th {\n",
       "        vertical-align: top;\n",
       "    }\n",
       "\n",
       "    .dataframe thead th {\n",
       "        text-align: right;\n",
       "    }\n",
       "</style>\n",
       "<table border=\"1\" class=\"dataframe\">\n",
       "  <thead>\n",
       "    <tr style=\"text-align: right;\">\n",
       "      <th></th>\n",
       "      <th>sex</th>\n",
       "      <th>age</th>\n",
       "    </tr>\n",
       "  </thead>\n",
       "  <tbody>\n",
       "    <tr>\n",
       "      <th>0</th>\n",
       "      <td>male</td>\n",
       "      <td>25</td>\n",
       "    </tr>\n",
       "    <tr>\n",
       "      <th>1</th>\n",
       "      <td>male</td>\n",
       "      <td>54</td>\n",
       "    </tr>\n",
       "    <tr>\n",
       "      <th>2</th>\n",
       "      <td>female</td>\n",
       "      <td>-1</td>\n",
       "    </tr>\n",
       "    <tr>\n",
       "      <th>3</th>\n",
       "      <td>female</td>\n",
       "      <td>-1</td>\n",
       "    </tr>\n",
       "    <tr>\n",
       "      <th>4</th>\n",
       "      <td>female</td>\n",
       "      <td>36</td>\n",
       "    </tr>\n",
       "    <tr>\n",
       "      <th>5</th>\n",
       "      <td>female</td>\n",
       "      <td>44</td>\n",
       "    </tr>\n",
       "    <tr>\n",
       "      <th>6</th>\n",
       "      <td>female</td>\n",
       "      <td>29</td>\n",
       "    </tr>\n",
       "    <tr>\n",
       "      <th>7</th>\n",
       "      <td>female</td>\n",
       "      <td>24</td>\n",
       "    </tr>\n",
       "    <tr>\n",
       "      <th>8</th>\n",
       "      <td>male</td>\n",
       "      <td>24</td>\n",
       "    </tr>\n",
       "    <tr>\n",
       "      <th>9</th>\n",
       "      <td>male</td>\n",
       "      <td>55</td>\n",
       "    </tr>\n",
       "  </tbody>\n",
       "</table>\n",
       "</div>"
      ],
      "text/plain": [
       "      sex  age\n",
       "0    male   25\n",
       "1    male   54\n",
       "2  female   -1\n",
       "3  female   -1\n",
       "4  female   36\n",
       "5  female   44\n",
       "6  female   29\n",
       "7  female   24\n",
       "8    male   24\n",
       "9    male   55"
      ]
     },
     "execution_count": 15,
     "metadata": {},
     "output_type": "execute_result"
    }
   ],
   "source": [
    "df[['sex','age']].head(10)"
   ]
  },
  {
   "cell_type": "code",
   "execution_count": 34,
   "metadata": {},
   "outputs": [
    {
     "data": {
      "text/html": [
       "<div>\n",
       "<style scoped>\n",
       "    .dataframe tbody tr th:only-of-type {\n",
       "        vertical-align: middle;\n",
       "    }\n",
       "\n",
       "    .dataframe tbody tr th {\n",
       "        vertical-align: top;\n",
       "    }\n",
       "\n",
       "    .dataframe thead th {\n",
       "        text-align: right;\n",
       "    }\n",
       "</style>\n",
       "<table border=\"1\" class=\"dataframe\">\n",
       "  <thead>\n",
       "    <tr style=\"text-align: right;\">\n",
       "      <th></th>\n",
       "      <th>sex</th>\n",
       "      <th>age</th>\n",
       "    </tr>\n",
       "  </thead>\n",
       "  <tbody>\n",
       "    <tr>\n",
       "      <th>2</th>\n",
       "      <td>female</td>\n",
       "      <td>-1</td>\n",
       "    </tr>\n",
       "    <tr>\n",
       "      <th>3</th>\n",
       "      <td>female</td>\n",
       "      <td>-1</td>\n",
       "    </tr>\n",
       "    <tr>\n",
       "      <th>6</th>\n",
       "      <td>female</td>\n",
       "      <td>29</td>\n",
       "    </tr>\n",
       "    <tr>\n",
       "      <th>7</th>\n",
       "      <td>female</td>\n",
       "      <td>24</td>\n",
       "    </tr>\n",
       "    <tr>\n",
       "      <th>10</th>\n",
       "      <td>female</td>\n",
       "      <td>-1</td>\n",
       "    </tr>\n",
       "    <tr>\n",
       "      <th>12</th>\n",
       "      <td>female</td>\n",
       "      <td>27</td>\n",
       "    </tr>\n",
       "    <tr>\n",
       "      <th>13</th>\n",
       "      <td>female</td>\n",
       "      <td>30</td>\n",
       "    </tr>\n",
       "    <tr>\n",
       "      <th>14</th>\n",
       "      <td>female</td>\n",
       "      <td>26</td>\n",
       "    </tr>\n",
       "    <tr>\n",
       "      <th>27</th>\n",
       "      <td>female</td>\n",
       "      <td>-1</td>\n",
       "    </tr>\n",
       "    <tr>\n",
       "      <th>29</th>\n",
       "      <td>female</td>\n",
       "      <td>27</td>\n",
       "    </tr>\n",
       "    <tr>\n",
       "      <th>34</th>\n",
       "      <td>female</td>\n",
       "      <td>30</td>\n",
       "    </tr>\n",
       "    <tr>\n",
       "      <th>40</th>\n",
       "      <td>female</td>\n",
       "      <td>-1</td>\n",
       "    </tr>\n",
       "    <tr>\n",
       "      <th>43</th>\n",
       "      <td>female</td>\n",
       "      <td>-1</td>\n",
       "    </tr>\n",
       "    <tr>\n",
       "      <th>45</th>\n",
       "      <td>female</td>\n",
       "      <td>25</td>\n",
       "    </tr>\n",
       "    <tr>\n",
       "      <th>47</th>\n",
       "      <td>female</td>\n",
       "      <td>25</td>\n",
       "    </tr>\n",
       "    <tr>\n",
       "      <th>48</th>\n",
       "      <td>female</td>\n",
       "      <td>30</td>\n",
       "    </tr>\n",
       "    <tr>\n",
       "      <th>55</th>\n",
       "      <td>female</td>\n",
       "      <td>22</td>\n",
       "    </tr>\n",
       "    <tr>\n",
       "      <th>59</th>\n",
       "      <td>female</td>\n",
       "      <td>23</td>\n",
       "    </tr>\n",
       "    <tr>\n",
       "      <th>60</th>\n",
       "      <td>female</td>\n",
       "      <td>32</td>\n",
       "    </tr>\n",
       "    <tr>\n",
       "      <th>61</th>\n",
       "      <td>female</td>\n",
       "      <td>31</td>\n",
       "    </tr>\n",
       "    <tr>\n",
       "      <th>68</th>\n",
       "      <td>female</td>\n",
       "      <td>-1</td>\n",
       "    </tr>\n",
       "    <tr>\n",
       "      <th>69</th>\n",
       "      <td>female</td>\n",
       "      <td>25</td>\n",
       "    </tr>\n",
       "    <tr>\n",
       "      <th>73</th>\n",
       "      <td>female</td>\n",
       "      <td>-1</td>\n",
       "    </tr>\n",
       "    <tr>\n",
       "      <th>75</th>\n",
       "      <td>female</td>\n",
       "      <td>-1</td>\n",
       "    </tr>\n",
       "    <tr>\n",
       "      <th>76</th>\n",
       "      <td>female</td>\n",
       "      <td>-1</td>\n",
       "    </tr>\n",
       "    <tr>\n",
       "      <th>82</th>\n",
       "      <td>female</td>\n",
       "      <td>-1</td>\n",
       "    </tr>\n",
       "    <tr>\n",
       "      <th>85</th>\n",
       "      <td>female</td>\n",
       "      <td>29</td>\n",
       "    </tr>\n",
       "    <tr>\n",
       "      <th>86</th>\n",
       "      <td>female</td>\n",
       "      <td>-1</td>\n",
       "    </tr>\n",
       "    <tr>\n",
       "      <th>88</th>\n",
       "      <td>female</td>\n",
       "      <td>27</td>\n",
       "    </tr>\n",
       "    <tr>\n",
       "      <th>91</th>\n",
       "      <td>female</td>\n",
       "      <td>-1</td>\n",
       "    </tr>\n",
       "    <tr>\n",
       "      <th>...</th>\n",
       "      <td>...</td>\n",
       "      <td>...</td>\n",
       "    </tr>\n",
       "    <tr>\n",
       "      <th>9911</th>\n",
       "      <td>female</td>\n",
       "      <td>-1</td>\n",
       "    </tr>\n",
       "    <tr>\n",
       "      <th>9915</th>\n",
       "      <td>female</td>\n",
       "      <td>26</td>\n",
       "    </tr>\n",
       "    <tr>\n",
       "      <th>9918</th>\n",
       "      <td>female</td>\n",
       "      <td>31</td>\n",
       "    </tr>\n",
       "    <tr>\n",
       "      <th>9920</th>\n",
       "      <td>female</td>\n",
       "      <td>-1</td>\n",
       "    </tr>\n",
       "    <tr>\n",
       "      <th>9924</th>\n",
       "      <td>female</td>\n",
       "      <td>24</td>\n",
       "    </tr>\n",
       "    <tr>\n",
       "      <th>9925</th>\n",
       "      <td>female</td>\n",
       "      <td>23</td>\n",
       "    </tr>\n",
       "    <tr>\n",
       "      <th>9935</th>\n",
       "      <td>female</td>\n",
       "      <td>25</td>\n",
       "    </tr>\n",
       "    <tr>\n",
       "      <th>9936</th>\n",
       "      <td>female</td>\n",
       "      <td>24</td>\n",
       "    </tr>\n",
       "    <tr>\n",
       "      <th>9939</th>\n",
       "      <td>female</td>\n",
       "      <td>24</td>\n",
       "    </tr>\n",
       "    <tr>\n",
       "      <th>9947</th>\n",
       "      <td>female</td>\n",
       "      <td>32</td>\n",
       "    </tr>\n",
       "    <tr>\n",
       "      <th>9956</th>\n",
       "      <td>female</td>\n",
       "      <td>-1</td>\n",
       "    </tr>\n",
       "    <tr>\n",
       "      <th>9957</th>\n",
       "      <td>female</td>\n",
       "      <td>30</td>\n",
       "    </tr>\n",
       "    <tr>\n",
       "      <th>9959</th>\n",
       "      <td>female</td>\n",
       "      <td>29</td>\n",
       "    </tr>\n",
       "    <tr>\n",
       "      <th>9964</th>\n",
       "      <td>female</td>\n",
       "      <td>26</td>\n",
       "    </tr>\n",
       "    <tr>\n",
       "      <th>9966</th>\n",
       "      <td>female</td>\n",
       "      <td>22</td>\n",
       "    </tr>\n",
       "    <tr>\n",
       "      <th>9970</th>\n",
       "      <td>female</td>\n",
       "      <td>29</td>\n",
       "    </tr>\n",
       "    <tr>\n",
       "      <th>9972</th>\n",
       "      <td>female</td>\n",
       "      <td>31</td>\n",
       "    </tr>\n",
       "    <tr>\n",
       "      <th>9973</th>\n",
       "      <td>female</td>\n",
       "      <td>27</td>\n",
       "    </tr>\n",
       "    <tr>\n",
       "      <th>9974</th>\n",
       "      <td>female</td>\n",
       "      <td>28</td>\n",
       "    </tr>\n",
       "    <tr>\n",
       "      <th>9975</th>\n",
       "      <td>female</td>\n",
       "      <td>28</td>\n",
       "    </tr>\n",
       "    <tr>\n",
       "      <th>9979</th>\n",
       "      <td>female</td>\n",
       "      <td>25</td>\n",
       "    </tr>\n",
       "    <tr>\n",
       "      <th>9980</th>\n",
       "      <td>female</td>\n",
       "      <td>24</td>\n",
       "    </tr>\n",
       "    <tr>\n",
       "      <th>9981</th>\n",
       "      <td>female</td>\n",
       "      <td>25</td>\n",
       "    </tr>\n",
       "    <tr>\n",
       "      <th>9983</th>\n",
       "      <td>female</td>\n",
       "      <td>24</td>\n",
       "    </tr>\n",
       "    <tr>\n",
       "      <th>9984</th>\n",
       "      <td>female</td>\n",
       "      <td>-1</td>\n",
       "    </tr>\n",
       "    <tr>\n",
       "      <th>9986</th>\n",
       "      <td>female</td>\n",
       "      <td>-1</td>\n",
       "    </tr>\n",
       "    <tr>\n",
       "      <th>9988</th>\n",
       "      <td>female</td>\n",
       "      <td>29</td>\n",
       "    </tr>\n",
       "    <tr>\n",
       "      <th>9990</th>\n",
       "      <td>female</td>\n",
       "      <td>-1</td>\n",
       "    </tr>\n",
       "    <tr>\n",
       "      <th>9993</th>\n",
       "      <td>female</td>\n",
       "      <td>31</td>\n",
       "    </tr>\n",
       "    <tr>\n",
       "      <th>9995</th>\n",
       "      <td>female</td>\n",
       "      <td>31</td>\n",
       "    </tr>\n",
       "  </tbody>\n",
       "</table>\n",
       "<p>3184 rows × 2 columns</p>\n",
       "</div>"
      ],
      "text/plain": [
       "         sex  age\n",
       "2     female   -1\n",
       "3     female   -1\n",
       "6     female   29\n",
       "7     female   24\n",
       "10    female   -1\n",
       "12    female   27\n",
       "13    female   30\n",
       "14    female   26\n",
       "27    female   -1\n",
       "29    female   27\n",
       "34    female   30\n",
       "40    female   -1\n",
       "43    female   -1\n",
       "45    female   25\n",
       "47    female   25\n",
       "48    female   30\n",
       "55    female   22\n",
       "59    female   23\n",
       "60    female   32\n",
       "61    female   31\n",
       "68    female   -1\n",
       "69    female   25\n",
       "73    female   -1\n",
       "75    female   -1\n",
       "76    female   -1\n",
       "82    female   -1\n",
       "85    female   29\n",
       "86    female   -1\n",
       "88    female   27\n",
       "91    female   -1\n",
       "...      ...  ...\n",
       "9911  female   -1\n",
       "9915  female   26\n",
       "9918  female   31\n",
       "9920  female   -1\n",
       "9924  female   24\n",
       "9925  female   23\n",
       "9935  female   25\n",
       "9936  female   24\n",
       "9939  female   24\n",
       "9947  female   32\n",
       "9956  female   -1\n",
       "9957  female   30\n",
       "9959  female   29\n",
       "9964  female   26\n",
       "9966  female   22\n",
       "9970  female   29\n",
       "9972  female   31\n",
       "9973  female   27\n",
       "9974  female   28\n",
       "9975  female   28\n",
       "9979  female   25\n",
       "9980  female   24\n",
       "9981  female   25\n",
       "9983  female   24\n",
       "9984  female   -1\n",
       "9986  female   -1\n",
       "9988  female   29\n",
       "9990  female   -1\n",
       "9993  female   31\n",
       "9995  female   31\n",
       "\n",
       "[3184 rows x 2 columns]"
      ]
     },
     "execution_count": 34,
     "metadata": {},
     "output_type": "execute_result"
    }
   ],
   "source": [
    "# female below or equal to the average age\n",
    "#df[df['sex']==\"female\"& df['age']<=32]\n",
    "SA = (df['sex']=='female')&(df['age']<=32)\n",
    "df.loc[SA, ['sex', 'age']]\n",
    "\n",
    "\n",
    "\n"
   ]
  },
  {
   "cell_type": "code",
   "execution_count": 35,
   "metadata": {},
   "outputs": [
    {
     "data": {
      "text/plain": [
       "limit             False\n",
       "sex                True\n",
       "education          True\n",
       "status             True\n",
       "age               False\n",
       "ps-sep            False\n",
       "ps-aug            False\n",
       "ps-jul            False\n",
       "ps-jun            False\n",
       "ps-may            False\n",
       "ps-apr            False\n",
       "ba-sep            False\n",
       "ba-aug            False\n",
       "ba-jul            False\n",
       "ba-jun            False\n",
       "ba-may            False\n",
       "ba-apr            False\n",
       "pa-sep            False\n",
       "pa-aug            False\n",
       "pa-jul            False\n",
       "pa-jun            False\n",
       "pa-may            False\n",
       "pa-apr            False\n",
       "credit_default    False\n",
       "dtype: bool"
      ]
     },
     "execution_count": 35,
     "metadata": {},
     "output_type": "execute_result"
    }
   ],
   "source": [
    "df.isnull().any()"
   ]
  },
  {
   "cell_type": "code",
   "execution_count": 36,
   "metadata": {},
   "outputs": [
    {
     "data": {
      "text/plain": [
       "limit                0\n",
       "sex                100\n",
       "education          127\n",
       "status            1822\n",
       "age                  0\n",
       "ps-sep               0\n",
       "ps-aug               0\n",
       "ps-jul               0\n",
       "ps-jun               0\n",
       "ps-may               0\n",
       "ps-apr               0\n",
       "ba-sep               0\n",
       "ba-aug               0\n",
       "ba-jul               0\n",
       "ba-jun               0\n",
       "ba-may               0\n",
       "ba-apr               0\n",
       "pa-sep               0\n",
       "pa-aug               0\n",
       "pa-jul               0\n",
       "pa-jun               0\n",
       "pa-may               0\n",
       "pa-apr               0\n",
       "credit_default       0\n",
       "dtype: int64"
      ]
     },
     "execution_count": 36,
     "metadata": {},
     "output_type": "execute_result"
    }
   ],
   "source": [
    "df.isnull().sum()"
   ]
  },
  {
   "cell_type": "code",
   "execution_count": 40,
   "metadata": {},
   "outputs": [
    {
     "data": {
      "text/plain": [
       "female    6032\n",
       "male      3868\n",
       "Name: sex, dtype: int64"
      ]
     },
     "execution_count": 40,
     "metadata": {},
     "output_type": "execute_result"
    }
   ],
   "source": [
    "# grup by sex\n",
    "df['sex'].value_counts()"
   ]
  },
  {
   "cell_type": "code",
   "execution_count": 45,
   "metadata": {},
   "outputs": [
    {
     "data": {
      "text/plain": [
       " 0    5450\n",
       "-1    1915\n",
       "-2    1636\n",
       " 2     900\n",
       " 3      57\n",
       " 7      19\n",
       " 4      14\n",
       " 6       5\n",
       " 5       3\n",
       " 8       1\n",
       "Name: ps-apr, dtype: int64"
      ]
     },
     "execution_count": 45,
     "metadata": {},
     "output_type": "execute_result"
    }
   ],
   "source": [
    "# group by payment status\n",
    "df['ps-apr'].value_counts()"
   ]
  },
  {
   "cell_type": "code",
   "execution_count": 46,
   "metadata": {},
   "outputs": [
    {
     "data": {
      "text/plain": [
       " 0    5627\n",
       "-1    1837\n",
       "-2    1532\n",
       " 2     888\n",
       " 3      58\n",
       " 4      27\n",
       " 7      23\n",
       " 5       5\n",
       " 6       2\n",
       " 8       1\n",
       "Name: ps-may, dtype: int64"
      ]
     },
     "execution_count": 46,
     "metadata": {},
     "output_type": "execute_result"
    }
   ],
   "source": [
    "df['ps-may'].value_counts()"
   ]
  },
  {
   "cell_type": "code",
   "execution_count": 47,
   "metadata": {},
   "outputs": [
    {
     "data": {
      "text/plain": [
       " 0         699\n",
       " 390        76\n",
       " 780        32\n",
       " 2500       21\n",
       " 396        18\n",
       " 2400       16\n",
       " 326        15\n",
       " 316        15\n",
       " 1050       12\n",
       " 1473       10\n",
       " 500         9\n",
       " 836         9\n",
       " 264         9\n",
       " 300         8\n",
       " 291         8\n",
       " 416         8\n",
       "-3           8\n",
       " 150         7\n",
       " 600         7\n",
       " 360         7\n",
       " 1000        6\n",
       "-5           6\n",
       " 632         6\n",
       " 1261        6\n",
       "-2           6\n",
       " 325         6\n",
       " 430         6\n",
       "-200         6\n",
       " 3000        6\n",
       " 750         6\n",
       "          ... \n",
       " 557         1\n",
       " 29227       1\n",
       " 4599        1\n",
       " 107001      1\n",
       " 78331       1\n",
       " 40779       1\n",
       " 76288       1\n",
       " 40738       1\n",
       " 32507       1\n",
       " 127491      1\n",
       " 10760       1\n",
       " 29195       1\n",
       " 2572        1\n",
       " 525         1\n",
       " 76304       1\n",
       " 50611       1\n",
       " 80402       1\n",
       " 35348       1\n",
       " 20328       1\n",
       " 15621       1\n",
       " 3983        1\n",
       " 98845       1\n",
       " 6686        1\n",
       "-201         1\n",
       " 45603       1\n",
       " 549         1\n",
       "-1159        1\n",
       " 81907       1\n",
       " 43935       1\n",
       " 49052       1\n",
       "Name: ba-sep, Length: 8414, dtype: int64"
      ]
     },
     "execution_count": 47,
     "metadata": {},
     "output_type": "execute_result"
    }
   ],
   "source": [
    "# Bill amount\n",
    "df['ba-sep'].value_counts()"
   ]
  },
  {
   "cell_type": "code",
   "execution_count": 50,
   "metadata": {},
   "outputs": [
    {
     "data": {
      "text/plain": [
       "0        1791\n",
       "2000      461\n",
       "3000      270\n",
       "5000      223\n",
       "1500      173\n",
       "4000      144\n",
       "1000      134\n",
       "10000     129\n",
       "6000       98\n",
       "2500       91\n",
       "7000       68\n",
       "390        66\n",
       "1300       60\n",
       "3500       58\n",
       "1700       54\n",
       "1600       54\n",
       "8000       52\n",
       "1800       47\n",
       "1200       45\n",
       "4500       41\n",
       "2100       40\n",
       "2200       35\n",
       "15000      31\n",
       "1400       30\n",
       "3200       30\n",
       "9000       29\n",
       "2300       28\n",
       "5500       22\n",
       "6500       22\n",
       "20000      21\n",
       "         ... \n",
       "1740        1\n",
       "3781        1\n",
       "24255       1\n",
       "20157       1\n",
       "5966        1\n",
       "22366       1\n",
       "4103        1\n",
       "8031        1\n",
       "4093        1\n",
       "18428       1\n",
       "77817       1\n",
       "6134        1\n",
       "16363       1\n",
       "2020        1\n",
       "10200       1\n",
       "4037        1\n",
       "87998       1\n",
       "4029        1\n",
       "1980        1\n",
       "6070        1\n",
       "79786       1\n",
       "10128       1\n",
       "1932        1\n",
       "8071        1\n",
       "6014        1\n",
       "3965        1\n",
       "1916        1\n",
       "1908        1\n",
       "5990        1\n",
       "8288        1\n",
       "Name: pa-sep, Length: 3790, dtype: int64"
      ]
     },
     "execution_count": 50,
     "metadata": {},
     "output_type": "execute_result"
    }
   ],
   "source": [
    "# payment amount\n",
    "df['pa-sep'].value_counts()"
   ]
  },
  {
   "cell_type": "code",
   "execution_count": 56,
   "metadata": {},
   "outputs": [
    {
     "data": {
      "text/plain": [
       "<matplotlib.axes._subplots.AxesSubplot at 0x50bf9c5898>"
      ]
     },
     "execution_count": 56,
     "metadata": {},
     "output_type": "execute_result"
    },
    {
     "data": {
      "image/png": "[encoded data removed]",
      "text/plain": [
       "<Figure size 720x1080 with 1 Axes>"
      ]
     },
     "metadata": {},
     "output_type": "display_data"
    },
    {
     "data": {
      "image/png": "[encoded data removed]",
      "text/plain": [
       "<Figure size 720x1080 with 1 Axes>"
      ]
     },
     "metadata": {},
     "output_type": "display_data"
    }
   ],
   "source": [
    "#payment status sep\n",
    "fig=plt.figure(figsize=(10,15))\n",
    "fig_dims=(2,2)\n",
    "# plot payment satus for sep\n",
    "plt.subplot2grid(fig_dims,(0,0))\n",
    "df['ps-sep'].value_counts().plot(kind='bar', title='payment satus for september')\n",
    "#Payment status for August\n",
    "fig=plt.figure(figsize=(10,15))\n",
    "#fig_dims=(2,2)\n",
    "plt.subplot2grid(fig_dims,(0,1))\n",
    "df['ps-aug'].value_counts().plot(kind='bar',title='payment staus for August')\n"
   ]
  },
  {
   "cell_type": "code",
   "execution_count": 61,
   "metadata": {},
   "outputs": [
    {
     "data": {
      "text/plain": [
       "0"
      ]
     },
     "execution_count": 61,
     "metadata": {},
     "output_type": "execute_result"
    }
   ],
   "source": [
    "# count null value for payment satus \n",
    "df['ps-sep'].isnull().sum()"
   ]
  },
  {
   "cell_type": "code",
   "execution_count": 12,
   "metadata": {},
   "outputs": [
    {
     "data": {
      "text/plain": [
       "0    female\n",
       "dtype: object"
      ]
     },
     "execution_count": 12,
     "metadata": {},
     "output_type": "execute_result"
    }
   ],
   "source": [
    "# import libraries\n",
    "import pandas as pd\n",
    "import numpy as np\n",
    "# import libraries for data visualization\n",
    "import matplotlib.pyplot as plt\n",
    "import seaborn as sb\n",
    "import scipy.stats as stats\n",
    "# to polot on the same note book\n",
    "%matplotlib inline\n",
    "df=pd.read_csv('D:\\DMDatasets\\credit_default_train.csv')\n",
    "# treating missing values(Sex,education,satus)\n",
    "# display number of mising value in each colum\n",
    "df.apply(lambda x: sum(x.isnull()),axis=0)\n",
    "# finding mode for sex\n",
    "df.loc[:,'sex'].mode()"
   ]
  },
  {
   "cell_type": "code",
   "execution_count": 14,
   "metadata": {},
   "outputs": [
    {
     "data": {
      "text/plain": [
       "0    university\n",
       "dtype: object"
      ]
     },
     "execution_count": 14,
     "metadata": {},
     "output_type": "execute_result"
    }
   ],
   "source": [
    "# mode for education colum\n",
    "df.loc[:,'education'].mode()"
   ]
  },
  {
   "cell_type": "code",
   "execution_count": 15,
   "metadata": {},
   "outputs": [
    {
     "data": {
      "text/plain": [
       "0    single\n",
       "dtype: object"
      ]
     },
     "execution_count": 15,
     "metadata": {},
     "output_type": "execute_result"
    }
   ],
   "source": [
    "# mode for status\n",
    "df.loc[:,'status'].mode()"
   ]
  },
  {
   "cell_type": "code",
   "execution_count": 18,
   "metadata": {},
   "outputs": [],
   "source": [
    "# replace missing values for sex colum with 'female'\n",
    "df['sex']=df['sex'].fillna(df['sex'].mode()[0])"
   ]
  },
  {
   "cell_type": "code",
   "execution_count": 19,
   "metadata": {},
   "outputs": [
    {
     "data": {
      "text/plain": [
       "0"
      ]
     },
     "execution_count": 19,
     "metadata": {},
     "output_type": "execute_result"
    }
   ],
   "source": [
    "df['sex'].isnull().sum()"
   ]
  },
  {
   "cell_type": "code",
   "execution_count": 20,
   "metadata": {},
   "outputs": [],
   "source": [
    "# replace missing values for education colum  with 'university'\n",
    "df['education']= df['education'].fillna(df['education'].mode()[0])"
   ]
  },
  {
   "cell_type": "code",
   "execution_count": 22,
   "metadata": {},
   "outputs": [
    {
     "data": {
      "text/plain": [
       "0"
      ]
     },
     "execution_count": 22,
     "metadata": {},
     "output_type": "execute_result"
    }
   ],
   "source": [
    "df['education'].isnull().sum()"
   ]
  },
  {
   "cell_type": "code",
   "execution_count": 23,
   "metadata": {},
   "outputs": [],
   "source": [
    "# replace missing values for status colum with 'single'\n",
    "df['status']=df['status'].fillna(df['status'].mode()[0])"
   ]
  },
  {
   "cell_type": "code",
   "execution_count": 24,
   "metadata": {},
   "outputs": [
    {
     "data": {
      "text/plain": [
       "0"
      ]
     },
     "execution_count": 24,
     "metadata": {},
     "output_type": "execute_result"
    }
   ],
   "source": [
    "df['status'].isnull().sum()"
   ]
  },
  {
   "cell_type": "code",
   "execution_count": null,
   "metadata": {},
   "outputs": [],
   "source": []
  }
 ],
 "metadata": {
  "kernelspec": {
   "display_name": "Python 3",
   "language": "python",
   "name": "python3"
  },
  "language_info": {
   "codemirror_mode": {
    "name": "ipython",
    "version": 3
   },
   "file_extension": ".py",
   "mimetype": "text/x-python",
   "name": "python",
   "nbconvert_exporter": "python",
   "pygments_lexer": "ipython3",
   "version": "3.6.5"
  }
 },
 "nbformat": 4,
 "nbformat_minor": 2
}
